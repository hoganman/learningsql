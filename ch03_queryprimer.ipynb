{
 "cells": [
  {
   "cell_type": "code",
   "execution_count": 1,
   "metadata": {
    "collapsed": true,
    "ExecuteTime": {
     "end_time": "2023-05-27T22:05:08.692678Z",
     "start_time": "2023-05-27T22:05:04.835986Z"
    }
   },
   "outputs": [],
   "source": [
    "import os\n",
    "\n",
    "from dotenv import load_dotenv\n",
    "from sqlalchemy import create_engine, URL, select, func, literal, CHAR\n",
    "from sqlalchemy.sql.selectable import Select as SQLSelect\n",
    "from sqlalchemy.orm import Session\n",
    "import pandas as pd\n",
    "\n",
    "import model\n",
    "from model import Customer, Employee, Department, Branch, Account\n",
    "\n",
    "\n",
    "load_dotenv()\n",
    "\n",
    "url_object = URL.create(\n",
    "    os.environ[\"DB_ENGINE\"],\n",
    "    username=os.environ[\"DB_USER\"],\n",
    "    password=os.environ[\"DB_PASSWD\"],\n",
    "    host=os.environ[\"DB_HOST\"],\n",
    "    database=os.environ[\"DB_NAME\"],\n",
    ")\n",
    "\n",
    "engine = create_engine(url_object)"
   ]
  },
  {
   "cell_type": "code",
   "execution_count": 2,
   "outputs": [],
   "source": [
    "def print_sql_statement(sql_select_statement: SQLSelect) -> None:\n",
    "    print('\"\"\"' + str(sql_select_statement) + '\"\"\"')"
   ],
   "metadata": {
    "collapsed": false,
    "ExecuteTime": {
     "end_time": "2023-05-27T22:05:08.706629Z",
     "start_time": "2023-05-27T22:05:08.695465Z"
    }
   }
  },
  {
   "cell_type": "markdown",
   "source": [
    "# Column Aliases\n",
    "\n",
    "SQL allows for cacluated columns to have aliases. This is straight forward in a raw query, but looks weird in SQLalchemy"
   ],
   "metadata": {
    "collapsed": false
   }
  },
  {
   "cell_type": "code",
   "execution_count": 3,
   "outputs": [
    {
     "name": "stdout",
     "output_type": "stream",
     "text": [
      "\"\"\"SELECT employee.emp_id, :param_1 AS status, employee.emp_id * :emp_id_1 AS empid_x_pi, upper(employee.lname) AS last_name_upper \n",
      "FROM employee\"\"\"\n",
      "[(1, 'ACTIVE', 3.14159, 'SMITH'), (2, 'ACTIVE', 6.28318, 'BARKER'), (3, 'ACTIVE', 9.42477, 'TYLER'), (4, 'ACTIVE', 12.56636, 'HAWTHORNE'), (5, 'ACTIVE', 15.70795, 'GOODING'), (6, 'ACTIVE', 18.84954, 'FLEMING'), (7, 'ACTIVE', 21.99113, 'TUCKER'), (8, 'ACTIVE', 25.13272, 'PARKER'), (9, 'ACTIVE', 28.27431, 'GROSSMAN'), (10, 'ACTIVE', 31.4159, 'ROBERTS'), (11, 'ACTIVE', 34.55749, 'ZIEGLER'), (12, 'ACTIVE', 37.69908, 'JAMESON'), (13, 'ACTIVE', 40.84067, 'BLAKE'), (14, 'ACTIVE', 43.98226, 'MASON'), (15, 'ACTIVE', 47.12385, 'PORTMAN'), (16, 'ACTIVE', 50.26544, 'MARKHAM'), (17, 'ACTIVE', 53.40703, 'FOWLER'), (18, 'ACTIVE', 56.54862, 'TULMAN')]\n",
      "    emp_id  status  empid_x_pi last_name_upper\n",
      "0        1  ACTIVE     3.14159           SMITH\n",
      "1        2  ACTIVE     6.28318          BARKER\n",
      "2        3  ACTIVE     9.42477           TYLER\n",
      "3        4  ACTIVE    12.56636       HAWTHORNE\n",
      "4        5  ACTIVE    15.70795         GOODING\n",
      "5        6  ACTIVE    18.84954         FLEMING\n",
      "6        7  ACTIVE    21.99113          TUCKER\n",
      "7        8  ACTIVE    25.13272          PARKER\n",
      "8        9  ACTIVE    28.27431        GROSSMAN\n",
      "9       10  ACTIVE    31.41590         ROBERTS\n",
      "10      11  ACTIVE    34.55749         ZIEGLER\n",
      "11      12  ACTIVE    37.69908         JAMESON\n",
      "12      13  ACTIVE    40.84067           BLAKE\n",
      "13      14  ACTIVE    43.98226           MASON\n",
      "14      15  ACTIVE    47.12385         PORTMAN\n",
      "15      16  ACTIVE    50.26544         MARKHAM\n",
      "16      17  ACTIVE    53.40703          FOWLER\n",
      "17      18  ACTIVE    56.54862          TULMAN\n"
     ]
    }
   ],
   "source": [
    "with Session(engine) as session:\n",
    "    df = pd.read_sql_query(\n",
    "        \"\"\"\n",
    "        SELECT\n",
    "            emp_id\n",
    "            , 'ACTIVE' status\n",
    "            , emp_id * 3.14159 empid_x_pi\n",
    "            , UPPER(lname) last_name_upper\n",
    "        FROM\n",
    "            employee;\n",
    "        \"\"\",\n",
    "        con=session.connection()\n",
    "    )\n",
    "\n",
    "    statement = (\n",
    "        select(\n",
    "            Employee.emp_id,\n",
    "            literal(\"ACTIVE\").label(\"status\"),\n",
    "            (Employee.emp_id * 3.14159).label(\"empid_x_pi\"),\n",
    "            func.upper(Employee.lname).label(\"last_name_upper\")\n",
    "        ).select_from(Employee)\n",
    "    )\n",
    "    print_sql_statement(statement)\n",
    "    results = session.execute(statement).all()\n",
    "\n",
    "print(results)\n",
    "print(df)"
   ],
   "metadata": {
    "collapsed": false,
    "ExecuteTime": {
     "start_time": "2023-05-22T11:15:10.501442Z",
     "end_time": "2023-05-22T11:15:10.591519Z"
    }
   }
  },
  {
   "cell_type": "markdown",
   "source": [
    "# Removing Duplicates with DISTINCT\n",
    "\n",
    "Find all the unique accounts in the account table"
   ],
   "metadata": {
    "collapsed": false
   }
  },
  {
   "cell_type": "markdown",
   "source": [
    "A naive attempt shows all the accounts with repeated customers"
   ],
   "metadata": {
    "collapsed": false
   }
  },
  {
   "cell_type": "code",
   "execution_count": 4,
   "outputs": [
    {
     "data": {
      "text/plain": "   cust_id\n0        1\n1        1\n2        1\n3        2\n4        2\n5        3\n6        3\n7        4\n8        4\n9        4",
      "text/html": "<div>\n<style scoped>\n    .dataframe tbody tr th:only-of-type {\n        vertical-align: middle;\n    }\n\n    .dataframe tbody tr th {\n        vertical-align: top;\n    }\n\n    .dataframe thead th {\n        text-align: right;\n    }\n</style>\n<table border=\"1\" class=\"dataframe\">\n  <thead>\n    <tr style=\"text-align: right;\">\n      <th></th>\n      <th>cust_id</th>\n    </tr>\n  </thead>\n  <tbody>\n    <tr>\n      <th>0</th>\n      <td>1</td>\n    </tr>\n    <tr>\n      <th>1</th>\n      <td>1</td>\n    </tr>\n    <tr>\n      <th>2</th>\n      <td>1</td>\n    </tr>\n    <tr>\n      <th>3</th>\n      <td>2</td>\n    </tr>\n    <tr>\n      <th>4</th>\n      <td>2</td>\n    </tr>\n    <tr>\n      <th>5</th>\n      <td>3</td>\n    </tr>\n    <tr>\n      <th>6</th>\n      <td>3</td>\n    </tr>\n    <tr>\n      <th>7</th>\n      <td>4</td>\n    </tr>\n    <tr>\n      <th>8</th>\n      <td>4</td>\n    </tr>\n    <tr>\n      <th>9</th>\n      <td>4</td>\n    </tr>\n  </tbody>\n</table>\n</div>"
     },
     "execution_count": 4,
     "metadata": {},
     "output_type": "execute_result"
    }
   ],
   "source": [
    "with Session(engine) as session:\n",
    "    df = pd.read_sql_query(\n",
    "        \"\"\"\n",
    "        SELECT\n",
    "            cust_id\n",
    "        FROM\n",
    "            account;\n",
    "        \"\"\",\n",
    "        con=session.connection()\n",
    "    )\n",
    "\n",
    "df.head(10)"
   ],
   "metadata": {
    "collapsed": false,
    "ExecuteTime": {
     "start_time": "2023-05-22T11:15:10.596268Z",
     "end_time": "2023-05-22T11:15:10.639966Z"
    }
   }
  },
  {
   "cell_type": "markdown",
   "source": [
    "We can exclude/remove duplicate customers using the DISTINCT keyword"
   ],
   "metadata": {
    "collapsed": false
   }
  },
  {
   "cell_type": "code",
   "execution_count": 5,
   "outputs": [
    {
     "name": "stdout",
     "output_type": "stream",
     "text": [
      "\"\"\"SELECT DISTINCT account.cust_id \n",
      "FROM account\"\"\"\n",
      "[(1,), (2,), (3,), (4,), (5,), (6,), (7,), (8,), (9,), (10,), (11,), (12,), (13,)]\n",
      "   cust_id\n",
      "0        1\n",
      "1        2\n",
      "2        3\n",
      "3        4\n",
      "4        5\n",
      "5        6\n",
      "6        7\n",
      "7        8\n",
      "8        9\n",
      "9       10\n"
     ]
    }
   ],
   "source": [
    "with Session(engine) as session:\n",
    "    df = pd.read_sql_query(\n",
    "        \"\"\"\n",
    "        SELECT DISTINCT\n",
    "            cust_id\n",
    "        FROM\n",
    "            account;\n",
    "        \"\"\",\n",
    "        con=session.connection()\n",
    "    )\n",
    "\n",
    "    statement = (\n",
    "        select(Account.cust_id).distinct().select_from(Account)\n",
    "    )\n",
    "    print_sql_statement(statement)\n",
    "    results = session.execute(statement).all()\n",
    "\n",
    "print(results)\n",
    "print(df.head(10))"
   ],
   "metadata": {
    "collapsed": false,
    "ExecuteTime": {
     "start_time": "2023-05-22T11:15:10.633010Z",
     "end_time": "2023-05-22T11:15:10.659345Z"
    }
   }
  },
  {
   "cell_type": "markdown",
   "source": [
    "# Returning the Duplicates\n",
    "\n",
    "Find all customers who opened multiple accounts on the same date.\n",
    "\n",
    "In this query, the cust_id an open_date in the accounts could be identical."
   ],
   "metadata": {
    "collapsed": false
   }
  },
  {
   "cell_type": "code",
   "execution_count": 6,
   "outputs": [
    {
     "name": "stdout",
     "output_type": "stream",
     "text": [
      "\"\"\"SELECT account.cust_id, account.open_date, count(:count_2) AS count_1 \n",
      "FROM account GROUP BY account.cust_id, account.open_date \n",
      "HAVING count(:count_3) > :count_4\"\"\"\n",
      "[(1, datetime.date(2000, 1, 15), 2), (2, datetime.date(2001, 3, 12), 2), (8, datetime.date(2001, 5, 23), 2)]\n",
      "   cust_id   open_date  COUNT(*)\n",
      "0        1  2000-01-15         2\n",
      "1        2  2001-03-12         2\n",
      "2        8  2001-05-23         2\n"
     ]
    }
   ],
   "source": [
    "with Session(engine) as session:\n",
    "    df = pd.read_sql_query(\n",
    "        \"\"\"\n",
    "        SELECT\n",
    "            a.cust_id\n",
    "            , a.open_date\n",
    "            , COUNT(*)\n",
    "        FROM\n",
    "            account a\n",
    "        GROUP BY a.cust_id, a.open_date\n",
    "        HAVING COUNT(*) > 1;\n",
    "        \"\"\",\n",
    "        con=session.connection()\n",
    "    )\n",
    "\n",
    "    statement = (\n",
    "        select(\n",
    "            Account.cust_id,\n",
    "            Account.open_date,\n",
    "            func.count(\"*\")\n",
    "        ).select_from(Account)\n",
    "        .group_by(Account.cust_id, Account.open_date)\n",
    "        .having(func.count(\"*\") > 1)\n",
    "    )\n",
    "    print_sql_statement(statement)\n",
    "    results = session.execute(statement).all()\n",
    "\n",
    "print(results)\n",
    "print(df.head(10))"
   ],
   "metadata": {
    "collapsed": false,
    "ExecuteTime": {
     "start_time": "2023-05-22T11:15:10.665075Z",
     "end_time": "2023-05-22T11:15:10.715879Z"
    }
   }
  },
  {
   "cell_type": "markdown",
   "source": [
    "# Subquery Generated Tables\n",
    "\n",
    "Get all employees ID, first name, and last name all capitalized. While this subquery is useless since the subquery could have been performed in the outer select, this goes to show the power of subqueries.\n"
   ],
   "metadata": {
    "collapsed": false
   }
  },
  {
   "cell_type": "code",
   "execution_count": 7,
   "outputs": [
    {
     "name": "stdout",
     "output_type": "stream",
     "text": [
      "\"\"\"SELECT eu.emp_id_upper AS \"ID\", eu.fname_upper AS \"FNAME\", eu.lname_upper AS \"LNAME\" \n",
      "FROM (SELECT upper(CAST(employee.emp_id AS CHAR)) AS emp_id_upper, upper(employee.fname) AS fname_upper, upper(employee.lname) AS lname_upper \n",
      "FROM employee) AS eu\"\"\"\n",
      "[('1', 'MICHAEL', 'SMITH'), ('2', 'SUSAN', 'BARKER'), ('3', 'ROBERT', 'TYLER'), ('4', 'SUSAN', 'HAWTHORNE'), ('5', 'JOHN', 'GOODING'), ('6', 'HELEN', 'FLEMING'), ('7', 'CHRIS', 'TUCKER'), ('8', 'SARAH', 'PARKER'), ('9', 'JANE', 'GROSSMAN'), ('10', 'PAULA', 'ROBERTS'), ('11', 'THOMAS', 'ZIEGLER'), ('12', 'SAMANTHA', 'JAMESON'), ('13', 'JOHN', 'BLAKE'), ('14', 'CINDY', 'MASON'), ('15', 'FRANK', 'PORTMAN'), ('16', 'THERESA', 'MARKHAM'), ('17', 'BETH', 'FOWLER'), ('18', 'RICK', 'TULMAN')]\n",
      "   ID    FNAME      LNAME\n",
      "0   1  MICHAEL      SMITH\n",
      "1   2    SUSAN     BARKER\n",
      "2   3   ROBERT      TYLER\n",
      "3   4    SUSAN  HAWTHORNE\n",
      "4   5     JOHN    GOODING\n",
      "5   6    HELEN    FLEMING\n",
      "6   7    CHRIS     TUCKER\n",
      "7   8    SARAH     PARKER\n",
      "8   9     JANE   GROSSMAN\n",
      "9  10    PAULA    ROBERTS\n"
     ]
    }
   ],
   "source": [
    "\n",
    "with Session(engine) as session:\n",
    "    df = pd.read_sql_query(\n",
    "        \"\"\"\n",
    "        SELECT\n",
    "            eu.emp_id_upper ID\n",
    "            , eu.fname_upper FNAME\n",
    "            , eu.lname_upper LNAME\n",
    "        FROM (\n",
    "            SELECT\n",
    "                UPPER(CAST(e.emp_id AS CHAR)) emp_id_upper\n",
    "                , UPPER(e.fname) fname_upper\n",
    "                , UPPER(e.lname) lname_upper\n",
    "            FROM employee e\n",
    "        ) eu;\n",
    "        \"\"\",\n",
    "        con=session.connection()\n",
    "    )\n",
    "\n",
    "    eu = select(\n",
    "        func.upper(func.cast(Employee.emp_id, CHAR)).label(\"emp_id_upper\"),\n",
    "        func.upper(Employee.fname).label(\"fname_upper\"),\n",
    "        func.upper(Employee.lname).label(\"lname_upper\")\n",
    "    ).select_from(Employee).subquery(\"eu\")\n",
    "    # Note that since special labels have been introduced, the subquery\n",
    "    # column operator 'c' must be used\n",
    "    statement = select(\n",
    "        eu.c[\"emp_id_upper\"].label(\"ID\"),\n",
    "        eu.c[\"fname_upper\"].label(\"FNAME\"),\n",
    "        eu.c[\"lname_upper\"].label(\"LNAME\")\n",
    "    ).select_from(eu)\n",
    "\n",
    "    print_sql_statement(statement)\n",
    "    results = session.execute(statement).all()\n",
    "\n",
    "print(results)\n",
    "print(df.head(10))"
   ],
   "metadata": {
    "collapsed": false,
    "ExecuteTime": {
     "start_time": "2023-05-22T11:15:10.707433Z",
     "end_time": "2023-05-22T11:15:10.845061Z"
    }
   }
  },
  {
   "cell_type": "markdown",
   "source": [
    "# Views (AKA Virtual Tables)\n",
    "\n",
    "A view is a query stored in the data dictionary. It does not hold any data so it can be thought of as a \"virtual table\".\n",
    "\n",
    "The SQLAlcehmy recipe to create a view is complex and won't be discussed here, but the recipe is\n",
    "https://web.archive.org/web/20230107211001/https://github.com/sqlalchemy/sqlalchemy/wiki/Views"
   ],
   "metadata": {
    "collapsed": false
   }
  },
  {
   "cell_type": "code",
   "execution_count": 8,
   "outputs": [
    {
     "name": "stdout",
     "output_type": "stream",
     "text": [
      "    emp_id  start_year\n",
      "0        1        2001\n",
      "1        2        2002\n",
      "2        3        2000\n",
      "3        4        2002\n",
      "4        5        2003\n",
      "5        6        2004\n",
      "6        7        2004\n",
      "7        8        2002\n",
      "8        9        2002\n",
      "9       10        2002\n",
      "10      11        2000\n",
      "11      12        2003\n",
      "12      13        2000\n",
      "13      14        2002\n",
      "14      15        2003\n",
      "15      16        2001\n",
      "16      17        2002\n",
      "17      18        2002\n"
     ]
    }
   ],
   "source": [
    "import mysql.connector\n",
    "\n",
    "mysql_connection = mysql.connector.connect(\n",
    "    user=os.environ[\"DB_USER\"],\n",
    "    password=os.environ[\"DB_PASSWD\"],\n",
    "    host=os.environ[\"DB_HOST\"],\n",
    "    database=os.environ[\"DB_NAME\"]\n",
    ")\n",
    "\n",
    "with mysql_connection.cursor() as cursor:\n",
    "    create_view_statement = (\n",
    "        \"\"\"\n",
    "        CREATE VIEW employee_vw AS\n",
    "        SELECT\n",
    "            emp_id\n",
    "            , fname\n",
    "            , lname\n",
    "            , YEAR(start_date) start_year\n",
    "        FROM employee;\n",
    "        \"\"\"\n",
    "    )\n",
    "    select_from_view_statement = (\n",
    "        \"\"\"\n",
    "        SELECT\n",
    "             emp_id, start_year\n",
    "         FROM\n",
    "             employee_vw;\n",
    "        \"\"\"\n",
    "    )\n",
    "    drop_view_statement = (\n",
    "        \"\"\"DROP VIEW IF EXISTS employee_vw\"\"\"\n",
    "    )\n",
    "    cursor.execute(drop_view_statement)\n",
    "    cursor.execute(create_view_statement)\n",
    "    cursor.execute(select_from_view_statement)\n",
    "    employee_ids, start_years = zip(\n",
    "        *tuple(result for result in cursor)\n",
    "    )\n",
    "    df = pd.DataFrame(\n",
    "        data={\n",
    "            \"emp_id\": employee_ids,\n",
    "            \"start_year\": start_years\n",
    "        }\n",
    "    )\n",
    "    cursor.execute(drop_view_statement)\n",
    "\n",
    "print(df)"
   ],
   "metadata": {
    "collapsed": false,
    "ExecuteTime": {
     "start_time": "2023-05-22T11:15:10.744232Z",
     "end_time": "2023-05-22T11:15:10.878545Z"
    }
   }
  },
  {
   "cell_type": "markdown",
   "source": [
    "# Table Links\n",
    "\n",
    "Get all employees and their associated department name\n"
   ],
   "metadata": {
    "collapsed": false
   }
  },
  {
   "cell_type": "code",
   "execution_count": 9,
   "outputs": [
    {
     "name": "stdout",
     "output_type": "stream",
     "text": [
      "\"\"\"SELECT employee.emp_id, employee.fname, employee.lname, department.name \n",
      "FROM employee JOIN department ON employee.dept_id = department.dept_id\"\"\"\n",
      "    emp_id     fname      lname            name\n",
      "0        4     Susan  Hawthorne      Operations\n",
      "1        6     Helen    Fleming      Operations\n",
      "2        7     Chris     Tucker      Operations\n",
      "3        8     Sarah     Parker      Operations\n",
      "4        9      Jane   Grossman      Operations\n",
      "5       10     Paula    Roberts      Operations\n",
      "6       11    Thomas    Ziegler      Operations\n",
      "7       12  Samantha    Jameson      Operations\n",
      "8       13      John      Blake      Operations\n",
      "9       14     Cindy      Mason      Operations\n",
      "10      15     Frank    Portman      Operations\n",
      "11      16   Theresa    Markham      Operations\n",
      "12      17      Beth     Fowler      Operations\n",
      "13      18      Rick     Tulman      Operations\n",
      "14       5      John    Gooding           Loans\n",
      "15       1   Michael      Smith  Administration\n",
      "16       2     Susan     Barker  Administration\n",
      "17       3    Robert      Tyler  Administration\n",
      "[(4, 'Susan', 'Hawthorne', 'Operations'), (6, 'Helen', 'Fleming', 'Operations'), (7, 'Chris', 'Tucker', 'Operations'), (8, 'Sarah', 'Parker', 'Operations'), (9, 'Jane', 'Grossman', 'Operations'), (10, 'Paula', 'Roberts', 'Operations'), (11, 'Thomas', 'Ziegler', 'Operations'), (12, 'Samantha', 'Jameson', 'Operations'), (13, 'John', 'Blake', 'Operations'), (14, 'Cindy', 'Mason', 'Operations'), (15, 'Frank', 'Portman', 'Operations'), (16, 'Theresa', 'Markham', 'Operations'), (17, 'Beth', 'Fowler', 'Operations'), (18, 'Rick', 'Tulman', 'Operations'), (5, 'John', 'Gooding', 'Loans'), (1, 'Michael', 'Smith', 'Administration'), (2, 'Susan', 'Barker', 'Administration'), (3, 'Robert', 'Tyler', 'Administration')]\n"
     ]
    }
   ],
   "source": [
    "with Session(engine) as session:\n",
    "    df = pd.read_sql_query(\n",
    "        \"\"\"\n",
    "        SELECT\n",
    "            e.emp_id\n",
    "            , e.fname\n",
    "            , e.lname\n",
    "            , d.name\n",
    "        FROM\n",
    "            employee e JOIN department d ON e.dept_id = d.dept_id\n",
    "        ;\n",
    "        \"\"\",\n",
    "        con=session.connection()\n",
    "    )\n",
    "\n",
    "    statement = (\n",
    "        select(\n",
    "            Employee.emp_id,\n",
    "            Employee.fname,\n",
    "            Employee.lname,\n",
    "            Department.name\n",
    "        )\n",
    "        .select_from(\n",
    "            Employee\n",
    "        )\n",
    "        .join(\n",
    "            Department,\n",
    "            Employee.dept_id == Department.dept_id\n",
    "        )\n",
    "    )\n",
    "    print_sql_statement(statement)\n",
    "    results = session.execute(statement).all()\n",
    "\n",
    "print(df)\n",
    "print(results)"
   ],
   "metadata": {
    "collapsed": false,
    "ExecuteTime": {
     "start_time": "2023-05-22T11:15:10.820036Z",
     "end_time": "2023-05-22T11:15:10.879595Z"
    }
   }
  },
  {
   "cell_type": "markdown",
   "source": [
    "# Filter by Condition\n",
    "\n",
    "Get all head tellers starting on the year 2002 and tellers starting after the year 2003"
   ],
   "metadata": {
    "collapsed": false
   }
  },
  {
   "cell_type": "code",
   "execution_count": 10,
   "outputs": [
    {
     "name": "stdout",
     "output_type": "stream",
     "text": [
      "\"\"\"SELECT employee.emp_id, employee.fname, employee.lname, employee.start_date, employee.title \n",
      "FROM employee \n",
      "WHERE employee.title = :title_1 AND employee.start_date > :start_date_1 OR employee.title = :title_2 AND employee.start_date > :start_date_2\"\"\"\n",
      "   emp_id     fname    lname  start_date        title\n",
      "0       6     Helen  Fleming  2004-03-17  Head Teller\n",
      "1       7     Chris   Tucker  2004-09-15       Teller\n",
      "2      10     Paula  Roberts  2002-07-27  Head Teller\n",
      "3      12  Samantha  Jameson  2003-01-08       Teller\n",
      "4      15     Frank  Portman  2003-04-01       Teller\n",
      "[(6, 'Helen', 'Fleming', datetime.date(2004, 3, 17), 'Head Teller'), (7, 'Chris', 'Tucker', datetime.date(2004, 9, 15), 'Teller'), (10, 'Paula', 'Roberts', datetime.date(2002, 7, 27), 'Head Teller'), (12, 'Samantha', 'Jameson', datetime.date(2003, 1, 8), 'Teller'), (15, 'Frank', 'Portman', datetime.date(2003, 4, 1), 'Teller')]\n"
     ]
    }
   ],
   "source": [
    "from datetime import date\n",
    "from sqlalchemy import and_, or_\n",
    "\n",
    "\n",
    "with Session(engine) as session:\n",
    "    df = pd.read_sql_query(\n",
    "        \"\"\"\n",
    "        SELECT\n",
    "            e.emp_id\n",
    "            , e.fname\n",
    "            , e.lname\n",
    "            , e.start_date\n",
    "            , e.title\n",
    "        FROM\n",
    "            employee e\n",
    "        WHERE (\n",
    "            (e.title = 'Head Teller' AND e.start_date > '2002-01-01')\n",
    "            OR\n",
    "            (e.title = 'Teller' AND e.start_date > '2003-01-01')\n",
    "        )\n",
    "        ;\n",
    "        \"\"\",\n",
    "        con=session.connection()\n",
    "    )\n",
    "\n",
    "    statement = (\n",
    "        select(\n",
    "            Employee.emp_id,\n",
    "            Employee.fname,\n",
    "            Employee.lname,\n",
    "            Employee.start_date,\n",
    "            Employee.title\n",
    "        )\n",
    "        .select_from(Employee)\n",
    "        .where(\n",
    "            or_(\n",
    "                and_(Employee.title == \"Head Teller\", Employee.start_date > date(2002, 1, 1)),\n",
    "                and_(Employee.title == \"Teller\", Employee.start_date > date(2003, 1, 1)),\n",
    "            )\n",
    "        )\n",
    "    )\n",
    "\n",
    "    print_sql_statement(statement)\n",
    "    results = session.execute(statement).all()\n",
    "\n",
    "print(df)\n",
    "print(results)"
   ],
   "metadata": {
    "collapsed": false,
    "ExecuteTime": {
     "start_time": "2023-05-22T11:15:10.859894Z",
     "end_time": "2023-05-22T11:15:10.966270Z"
    }
   }
  },
  {
   "cell_type": "markdown",
   "source": [
    "# Sorting via Expressions\n",
    "\n",
    "Get all customers ordered by the last three digits of the federal ID"
   ],
   "metadata": {
    "collapsed": false
   }
  },
  {
   "cell_type": "code",
   "execution_count": 11,
   "outputs": [
    {
     "name": "stdout",
     "output_type": "stream",
     "text": [
      "\"\"\"SELECT customer.cust_id, customer.cust_type_cd, customer.city, customer.state, customer.fed_id \n",
      "FROM customer ORDER BY right(customer.fed_id, :right_1)\"\"\"\n",
      "    cust_id cust_type_cd        city state       fed_id\n",
      "0         1            I   Lynnfield    MA  111-11-1111\n",
      "1        10            B       Salem    NH   04-1111111\n",
      "2         2            I      Woburn    MA  222-22-2222\n",
      "3        11            B  Wilmington    MA   04-2222222\n",
      "4         3            I      Quincy    MA  333-33-3333\n",
      "5        12            B       Salem    NH   04-3333333\n",
      "6         4            I     Waltham    MA  444-44-4444\n",
      "7        13            B      Quincy    MA   04-4444444\n",
      "8         5            I       Salem    NH  555-55-5555\n",
      "9         6            I     Waltham    MA  666-66-6666\n",
      "10        7            I  Wilmington    MA  777-77-7777\n",
      "11        8            I       Salem    NH  888-88-8888\n",
      "12        9            I      Newton    MA  999-99-9999\n",
      "[(1, <CustomerTypeEnum.I: 'I'>, 'Lynnfield', 'MA', '111-11-1111'), (10, <CustomerTypeEnum.B: 'B'>, 'Salem', 'NH', '04-1111111'), (2, <CustomerTypeEnum.I: 'I'>, 'Woburn', 'MA', '222-22-2222'), (11, <CustomerTypeEnum.B: 'B'>, 'Wilmington', 'MA', '04-2222222'), (3, <CustomerTypeEnum.I: 'I'>, 'Quincy', 'MA', '333-33-3333'), (12, <CustomerTypeEnum.B: 'B'>, 'Salem', 'NH', '04-3333333'), (4, <CustomerTypeEnum.I: 'I'>, 'Waltham', 'MA', '444-44-4444'), (13, <CustomerTypeEnum.B: 'B'>, 'Quincy', 'MA', '04-4444444'), (5, <CustomerTypeEnum.I: 'I'>, 'Salem', 'NH', '555-55-5555'), (6, <CustomerTypeEnum.I: 'I'>, 'Waltham', 'MA', '666-66-6666'), (7, <CustomerTypeEnum.I: 'I'>, 'Wilmington', 'MA', '777-77-7777'), (8, <CustomerTypeEnum.I: 'I'>, 'Salem', 'NH', '888-88-8888'), (9, <CustomerTypeEnum.I: 'I'>, 'Newton', 'MA', '999-99-9999')]\n"
     ]
    }
   ],
   "source": [
    "\n",
    "with Session(engine) as session:\n",
    "    df = pd.read_sql_query(\n",
    "        \"\"\"\n",
    "        SELECT\n",
    "            c.cust_id\n",
    "            , c.cust_type_cd\n",
    "            , c.city\n",
    "            , c.state\n",
    "            , c.fed_id\n",
    "        FROM customer c\n",
    "        ORDER BY RIGHT(c.fed_id, 3);\n",
    "        \"\"\",\n",
    "        con=session.connection()\n",
    "    )\n",
    "\n",
    "    statement = (\n",
    "        select(\n",
    "            Customer.cust_id,\n",
    "            Customer.cust_type_cd,\n",
    "            Customer.city,\n",
    "            Customer.state,\n",
    "            Customer.fed_id\n",
    "        )\n",
    "        .select_from(Customer)\n",
    "        .order_by(func.right(Customer.fed_id, 3))\n",
    "    )\n",
    "    print_sql_statement(statement)\n",
    "    results = session.execute(statement).all()\n",
    "\n",
    "print(df)\n",
    "print(results)"
   ],
   "metadata": {
    "collapsed": false,
    "ExecuteTime": {
     "start_time": "2023-05-22T11:15:10.907111Z",
     "end_time": "2023-05-22T11:15:11.003169Z"
    }
   }
  },
  {
   "cell_type": "markdown",
   "source": [
    "# Exercises\n",
    "\n",
    "## 3-1\n",
    "\n",
    "Retrieve the employee ID, first name, and last name for all bank employees. Sort by last name then first name\n",
    "\n",
    "## 3-2\n",
    "\n",
    "Retrieve the account ID, customer ID, and available balance for all accounts whose status equals 'ACTIVE' and whose available balance is greater than $2,500.\n",
    "\n",
    "## 3-3\n",
    "\n",
    "Write a query again the account table that returns the IDs of the employees who opened the accounts (use the account.open_emp_id columns). Include a single row each distinct employee.\n",
    "\n",
    "## 3-4\n",
    "\n",
    "Fill in the banks (denoted by <#>) for this multi-data-set query to achieve the results shown below:\n",
    "\n",
    "```sql\n",
    "SELECT p.product_cd, a.cust_id, a.avail_balanace\n",
    "FROM product p INNER JOIN account <1>\n",
    "    ON product_cd = <2>\n",
    "WHERE p.<3> = 'ACCOUNT'\n",
    "```"
   ],
   "metadata": {
    "collapsed": false
   }
  },
  {
   "cell_type": "code",
   "execution_count": 17,
   "outputs": [
    {
     "name": "stdout",
     "output_type": "stream",
     "text": [
      "\"\"\"SELECT employee.emp_id, employee.fname, employee.lname \n",
      "FROM employee ORDER BY employee.lname, employee.fname\"\"\"\n",
      "    emp_id     fname      lname\n",
      "0        2     Susan     Barker\n",
      "1       13      John      Blake\n",
      "2        6     Helen    Fleming\n",
      "3       17      Beth     Fowler\n",
      "4        5      John    Gooding\n",
      "5        9      Jane   Grossman\n",
      "6        4     Susan  Hawthorne\n",
      "7       12  Samantha    Jameson\n",
      "8       16   Theresa    Markham\n",
      "9       14     Cindy      Mason\n",
      "10       8     Sarah     Parker\n",
      "11      15     Frank    Portman\n",
      "12      10     Paula    Roberts\n",
      "13       1   Michael      Smith\n",
      "14       7     Chris     Tucker\n",
      "15      18      Rick     Tulman\n",
      "16       3    Robert      Tyler\n",
      "17      11    Thomas    Ziegler\n",
      "[(2, 'Susan', 'Barker'), (13, 'John', 'Blake'), (6, 'Helen', 'Fleming'), (17, 'Beth', 'Fowler'), (5, 'John', 'Gooding'), (9, 'Jane', 'Grossman'), (4, 'Susan', 'Hawthorne'), (12, 'Samantha', 'Jameson'), (16, 'Theresa', 'Markham'), (14, 'Cindy', 'Mason'), (8, 'Sarah', 'Parker'), (15, 'Frank', 'Portman'), (10, 'Paula', 'Roberts'), (1, 'Michael', 'Smith'), (7, 'Chris', 'Tucker'), (18, 'Rick', 'Tulman'), (3, 'Robert', 'Tyler'), (11, 'Thomas', 'Ziegler')]\n"
     ]
    }
   ],
   "source": [
    "# 3-1\n",
    "\n",
    "with Session(engine) as session:\n",
    "    df = pd.read_sql_query(\n",
    "        \"\"\"\n",
    "        SELECT\n",
    "            e.emp_id\n",
    "            , e.fname\n",
    "            , e.lname\n",
    "        FROM employee e\n",
    "        ORDER BY e.lname, e.fname;\n",
    "        \"\"\",\n",
    "        con=session.connection()\n",
    "    )\n",
    "\n",
    "    statement = (\n",
    "        select(\n",
    "            Employee.emp_id,\n",
    "            Employee.fname,\n",
    "            Employee.lname\n",
    "        )\n",
    "        .select_from(Employee)\n",
    "        .order_by(Employee.lname, Employee.fname)\n",
    "    )\n",
    "    print_sql_statement(statement)\n",
    "    results = session.execute(statement).all()\n",
    "\n",
    "print(df)\n",
    "print(results)"
   ],
   "metadata": {
    "collapsed": false,
    "ExecuteTime": {
     "end_time": "2023-05-27T22:11:06.556862Z",
     "start_time": "2023-05-27T22:11:06.428308Z"
    }
   }
  },
  {
   "cell_type": "markdown",
   "source": [
    "We can also use the ORM in list-comprehension"
   ],
   "metadata": {
    "collapsed": false
   }
  },
  {
   "cell_type": "code",
   "execution_count": 20,
   "outputs": [],
   "source": [
    "with Session(engine) as session:\n",
    "    new_results = sorted(\n",
    "        [\n",
    "            (emp.emp_id, emp.fname, emp.lname)\n",
    "            for emp in session.query(Employee)\n",
    "        ],\n",
    "        key=lambda tup: (tup[-1], tup[-2])\n",
    "    )\n",
    "\n",
    "assert new_results == results\n"
   ],
   "metadata": {
    "collapsed": false,
    "ExecuteTime": {
     "end_time": "2023-05-27T22:11:49.826159Z",
     "start_time": "2023-05-27T22:11:49.735012Z"
    }
   }
  },
  {
   "cell_type": "code",
   "execution_count": 23,
   "outputs": [
    {
     "name": "stdout",
     "output_type": "stream",
     "text": [
      "\"\"\"SELECT account.account_id, account.cust_id, account.avail_balance \n",
      "FROM account \n",
      "WHERE account.status = :status_1 AND account.avail_balance > :avail_balance_1\"\"\"\n",
      "   account_id  cust_id  avail_balance\n",
      "0           3        1        3000.00\n",
      "1          12        4        5487.09\n",
      "2          15        6       10000.00\n",
      "3          17        7        5000.00\n",
      "4          18        8        3487.19\n",
      "5          22        9        9345.55\n",
      "6          24       10       23575.12\n",
      "7          27       11        9345.55\n",
      "8          28       12       38552.05\n",
      "9          29       13       50000.00\n",
      "[(3, 1, 3000.0), (12, 4, 5487.09), (15, 6, 10000.0), (17, 7, 5000.0), (18, 8, 3487.19), (22, 9, 9345.55), (24, 10, 23575.12), (27, 11, 9345.55), (28, 12, 38552.05), (29, 13, 50000.0)]\n"
     ]
    }
   ],
   "source": [
    "# 3-2\n",
    "from sqlalchemy import and_\n",
    "\n",
    "from model import AccountStatusEnum\n",
    "\n",
    "\n",
    "with Session(engine) as session:\n",
    "    df = pd.read_sql_query(\n",
    "        \"\"\"\n",
    "        SELECT\n",
    "            a.account_id\n",
    "            , a.cust_id\n",
    "            , a.avail_balance\n",
    "        FROM account a\n",
    "        WHERE (\n",
    "            a.status = 'ACTIVE'\n",
    "            AND\n",
    "            a.avail_balance > 2500\n",
    "        )\n",
    "        ;\n",
    "        \"\"\",\n",
    "        con=session.connection()\n",
    "    )\n",
    "\n",
    "    statement = (\n",
    "        select(\n",
    "            Account.account_id,\n",
    "            Account.cust_id,\n",
    "            Account.avail_balance\n",
    "        )\n",
    "        .select_from(Account)\n",
    "        .where(\n",
    "            and_(\n",
    "                Account.status == AccountStatusEnum.ACTIVE,\n",
    "                Account.avail_balance > 2500\n",
    "            )\n",
    "        )\n",
    "    )\n",
    "    print_sql_statement(statement)\n",
    "    results = session.execute(statement).all()\n",
    "\n",
    "print(df)\n",
    "print(results)"
   ],
   "metadata": {
    "collapsed": false,
    "ExecuteTime": {
     "end_time": "2023-05-27T22:18:56.186831Z",
     "start_time": "2023-05-27T22:18:55.951682Z"
    }
   }
  },
  {
   "cell_type": "markdown",
   "source": [
    "We can also use the ORM in list-comprehension"
   ],
   "metadata": {
    "collapsed": false
   }
  },
  {
   "cell_type": "code",
   "execution_count": 26,
   "outputs": [],
   "source": [
    "with Session(engine) as session:\n",
    "    new_results = (\n",
    "        [\n",
    "            (acc.account_id, acc.cust_id, acc.avail_balance)\n",
    "            for acc in session.query(Account)\n",
    "            if (acc.status == AccountStatusEnum.ACTIVE and acc.avail_balance > 2500)\n",
    "        ]\n",
    "    )\n",
    "    assert new_results == results\n"
   ],
   "metadata": {
    "collapsed": false,
    "ExecuteTime": {
     "end_time": "2023-05-27T22:19:32.894605Z",
     "start_time": "2023-05-27T22:19:32.655110Z"
    }
   }
  },
  {
   "cell_type": "code",
   "execution_count": 27,
   "outputs": [
    {
     "name": "stdout",
     "output_type": "stream",
     "text": [
      "\"\"\"SELECT DISTINCT account.open_emp_id \n",
      "FROM account \n",
      "WHERE account.open_emp_id IS NOT NULL\"\"\"\n",
      "   open_emp_id\n",
      "0            1\n",
      "1           10\n",
      "2           13\n",
      "3           16\n",
      "[(1,), (10,), (13,), (16,)]\n"
     ]
    }
   ],
   "source": [
    "# 3-3\n",
    "\n",
    "\n",
    "with Session(engine) as session:\n",
    "    df = pd.read_sql_query(\n",
    "        \"\"\"\n",
    "        SELECT DISTINCT\n",
    "            a.open_emp_id\n",
    "        FROM account a\n",
    "        WHERE (\n",
    "            a.open_emp_id IS NOT NULL\n",
    "        )\n",
    "        ;\n",
    "        \"\"\",\n",
    "        con=session.connection()\n",
    "    )\n",
    "\n",
    "    statement = (\n",
    "        select(\n",
    "            Account.open_emp_id\n",
    "        )\n",
    "        .distinct()\n",
    "        .select_from(Account)\n",
    "        .where(\n",
    "            Account.open_emp_id.is_not(None)\n",
    "        )\n",
    "    )\n",
    "    print_sql_statement(statement)\n",
    "    results = session.execute(statement).all()\n",
    "\n",
    "print(df)\n",
    "print(results)"
   ],
   "metadata": {
    "collapsed": false,
    "ExecuteTime": {
     "end_time": "2023-05-27T22:27:59.355434Z",
     "start_time": "2023-05-27T22:27:59.172049Z"
    }
   }
  },
  {
   "cell_type": "markdown",
   "source": [
    "We can also use the ORM in list-comprehension"
   ],
   "metadata": {
    "collapsed": false
   }
  },
  {
   "cell_type": "code",
   "execution_count": 31,
   "outputs": [],
   "source": [
    "with Session(engine) as session:\n",
    "    new_results = set(\n",
    "        (acc.open_emp_id,)\n",
    "        for acc in session.query(Account)\n",
    "    )\n",
    "\n",
    "assert new_results == set(results)"
   ],
   "metadata": {
    "collapsed": false,
    "ExecuteTime": {
     "end_time": "2023-05-27T22:28:37.169015Z",
     "start_time": "2023-05-27T22:28:37.080848Z"
    }
   }
  },
  {
   "cell_type": "code",
   "execution_count": 33,
   "outputs": [
    {
     "name": "stdout",
     "output_type": "stream",
     "text": [
      "\"\"\"SELECT product.product_cd, account.cust_id, account.avail_balance \n",
      "FROM product JOIN account ON product.product_cd = account.product_cd \n",
      "WHERE product.product_type_cd = :product_type_cd_1\"\"\"\n",
      "   product_cd  cust_id  avail_balance\n",
      "0          CD        1        3000.00\n",
      "1          CD        6       10000.00\n",
      "2          CD        7        5000.00\n",
      "3          CD        9        1500.00\n",
      "4         CHK        1        1057.75\n",
      "5         CHK        2        2258.02\n",
      "6         CHK        3        1057.75\n",
      "7         CHK        4         534.12\n",
      "8         CHK        5        2237.97\n",
      "9         CHK        6         122.37\n",
      "10        CHK        8        3487.19\n",
      "11        CHK        9         125.67\n",
      "12        CHK       10       23575.12\n",
      "13        CHK       12       38552.05\n",
      "14         MM        3        2212.50\n",
      "15         MM        4        5487.09\n",
      "16         MM        9        9345.55\n",
      "17        SAV        1         500.00\n",
      "18        SAV        2         200.00\n",
      "19        SAV        4         767.77\n",
      "20        SAV        8         387.99\n",
      "[('CD', 1, 3000.0), ('CD', 6, 10000.0), ('CD', 7, 5000.0), ('CD', 9, 1500.0), ('CHK', 1, 1057.75), ('CHK', 2, 2258.02), ('CHK', 3, 1057.75), ('CHK', 4, 534.12), ('CHK', 5, 2237.97), ('CHK', 6, 122.37), ('CHK', 8, 3487.19), ('CHK', 9, 125.67), ('CHK', 10, 23575.12), ('CHK', 12, 38552.05), ('MM', 3, 2212.5), ('MM', 4, 5487.09), ('MM', 9, 9345.55), ('SAV', 1, 500.0), ('SAV', 2, 200.0), ('SAV', 4, 767.77), ('SAV', 8, 387.99)]\n"
     ]
    }
   ],
   "source": [
    "# 3-4\n",
    "from model import Product\n",
    "\n",
    "\n",
    "with Session(engine) as session:\n",
    "    df = pd.read_sql_query(\n",
    "        \"\"\"\n",
    "        SELECT\n",
    "            p.product_cd\n",
    "            , a.cust_id\n",
    "            , a.avail_balance\n",
    "        FROM\n",
    "            product p INNER JOIN account a\n",
    "            ON p.product_cd = a.product_cd\n",
    "        WHERE p.product_type_cd = 'ACCOUNT'\n",
    "        \"\"\",\n",
    "        con=session.connection()\n",
    "    )\n",
    "    statement = (\n",
    "        select(\n",
    "            Product.product_cd,\n",
    "            Account.cust_id,\n",
    "            Account.avail_balance\n",
    "        )\n",
    "        .select_from(Product).join(Account, Product.product_cd == Account.product_cd)\n",
    "        .where(Product.product_type_cd == \"ACCOUNT\")\n",
    "    )\n",
    "    print_sql_statement(statement)\n",
    "    results = session.execute(statement).all()\n",
    "\n",
    "print(df)\n",
    "print(results)"
   ],
   "metadata": {
    "collapsed": false,
    "ExecuteTime": {
     "end_time": "2023-05-27T22:34:33.567950Z",
     "start_time": "2023-05-27T22:34:33.448128Z"
    }
   }
  },
  {
   "cell_type": "markdown",
   "source": [
    "We can also use the ORM in list-comprehension"
   ],
   "metadata": {
    "collapsed": false
   }
  },
  {
   "cell_type": "code",
   "execution_count": 36,
   "outputs": [],
   "source": [
    "with Session(engine) as session:\n",
    "    new_results = [\n",
    "        (acc.account_product.product_cd, acc.cust_id, acc.avail_balance)\n",
    "        for acc in session.query(Account)\n",
    "        if acc.account_product.product_type_cd == \"ACCOUNT\"\n",
    "    ]\n",
    "\n",
    "# print(new_results)\n",
    "# print(results)\n",
    "assert set(new_results) == set(results)"
   ],
   "metadata": {
    "collapsed": false,
    "ExecuteTime": {
     "end_time": "2023-05-27T22:35:19.452398Z",
     "start_time": "2023-05-27T22:35:19.371100Z"
    }
   }
  },
  {
   "cell_type": "code",
   "execution_count": null,
   "outputs": [],
   "source": [],
   "metadata": {
    "collapsed": false
   }
  }
 ],
 "metadata": {
  "kernelspec": {
   "display_name": "Python 3",
   "language": "python",
   "name": "python3"
  },
  "language_info": {
   "codemirror_mode": {
    "name": "ipython",
    "version": 2
   },
   "file_extension": ".py",
   "mimetype": "text/x-python",
   "name": "python",
   "nbconvert_exporter": "python",
   "pygments_lexer": "ipython2",
   "version": "2.7.6"
  }
 },
 "nbformat": 4,
 "nbformat_minor": 0
}
