{
 "cells": [
  {
   "cell_type": "markdown",
   "source": [
    "# Chapter 5: Querying Multiple Tables\n",
    "\n",
    "As seen in the previous chapters, joining tables is often or primarily required for information gathering"
   ],
   "metadata": {
    "collapsed": false
   }
  },
  {
   "cell_type": "code",
   "execution_count": 1,
   "metadata": {
    "collapsed": true,
    "ExecuteTime": {
     "end_time": "2023-05-23T21:21:03.179708Z",
     "start_time": "2023-05-23T21:20:59.629538Z"
    }
   },
   "outputs": [],
   "source": [
    "import os\n",
    "\n",
    "from dotenv import load_dotenv\n",
    "from sqlalchemy import create_engine, URL, select, func\n",
    "from sqlalchemy.orm import Session\n",
    "import pandas as pd\n",
    "\n",
    "from utils import print_sql_statement\n",
    "\n",
    "\n",
    "load_dotenv()\n",
    "\n",
    "url_object = URL.create(\n",
    "    os.environ[\"DB_ENGINE\"],\n",
    "    username=os.environ[\"DB_USER\"],\n",
    "    password=os.environ[\"DB_PASSWD\"],\n",
    "    host=os.environ[\"DB_HOST\"],\n",
    "    database=os.environ[\"DB_NAME\"],\n",
    ")\n",
    "\n",
    "engine = create_engine(url_object)"
   ]
  },
  {
   "cell_type": "markdown",
   "source": [
    "# Joining Three Tables\n",
    "\n",
    "Find all the accounts opened by 'experienced' (hired prior to 2003) tellers currently assigned to the 'Woburn Branch'\n",
    "\n",
    "This is a little complicated, but the logic is\n",
    "    * Get all accounts\n",
    "    * Join all accounts with all the 'experienced' tellers\n",
    "    * Join all experienced tellers at the Woburn branch"
   ],
   "metadata": {
    "collapsed": false
   }
  },
  {
   "cell_type": "code",
   "execution_count": 22,
   "outputs": [
    {
     "name": "stdout",
     "output_type": "stream",
     "text": [
      "\"\"\"SELECT account.account_id, account.cust_id, account.open_date, account.product_cd \n",
      "FROM account JOIN (SELECT employee.emp_id AS emp_id, employee.assigned_branch_id AS assigned_branch_id \n",
      "FROM employee \n",
      "WHERE employee.title LIKE :title_1 AND employee.start_date <= :start_date_1) AS e ON account.open_emp_id = e.emp_id JOIN (SELECT branch.branch_id AS branch_id \n",
      "FROM branch \n",
      "WHERE branch.name = :name_1) AS b ON b.branch_id = e.assigned_branch_id\"\"\"\n",
      "   account_id  cust_id   open_date product_cd\n",
      "0           1        1  2000-01-15        CHK\n",
      "1           2        1  2000-01-15        SAV\n",
      "2           3        1  2004-06-30         CD\n",
      "3           4        2  2001-03-12        CHK\n",
      "4           5        2  2001-03-12        SAV\n",
      "5          17        7  2004-01-12         CD\n",
      "6          27       11  2004-03-22        BUS\n",
      "[(1, 1, datetime.date(2000, 1, 15), 'CHK'), (2, 1, datetime.date(2000, 1, 15), 'SAV'), (3, 1, datetime.date(2004, 6, 30), 'CD'), (4, 2, datetime.date(2001, 3, 12), 'CHK'), (5, 2, datetime.date(2001, 3, 12), 'SAV'), (17, 7, datetime.date(2004, 1, 12), 'CD'), (27, 11, datetime.date(2004, 3, 22), 'BUS')]\n"
     ]
    }
   ],
   "source": [
    "from datetime import date\n",
    "\n",
    "from sqlalchemy import and_\n",
    "from sqlalchemy.orm import aliased\n",
    "\n",
    "from model import Account, Branch, Employee\n",
    "\n",
    "\n",
    "with Session(engine) as session:\n",
    "    df = pd.read_sql_query(\n",
    "        \"\"\"\n",
    "        SELECT\n",
    "            a.account_id\n",
    "            , a.cust_id\n",
    "            , a.open_date\n",
    "            , a.product_cd\n",
    "        FROM\n",
    "            account a\n",
    "        -- ASSOICATE ALL EXPERIENCED TELLERS WITH ACCOUNTS\n",
    "        JOIN (\n",
    "            SELECT\n",
    "                emp_id\n",
    "                , assigned_branch_id\n",
    "            FROM\n",
    "                employee\n",
    "            WHERE\n",
    "                employee.start_date <= '2003-01-01'\n",
    "                AND\n",
    "                employee.title LIKE '%Teller%'\n",
    "        ) e ON e.emp_id = a.open_emp_id\n",
    "        -- ASSOCIATED ALL EMPLOYEES AT THE WOBURN BRANCH\n",
    "        JOIN (\n",
    "            SELECT\n",
    "                branch_id\n",
    "            FROM\n",
    "                branch\n",
    "            WHERE\n",
    "                branch.name = 'Woburn Branch'\n",
    "        ) b ON b.branch_id = e.assigned_branch_id\n",
    "        ;\n",
    "        \"\"\",\n",
    "        con=session.connection()\n",
    "    )\n",
    "\n",
    "    # Get the employee sub-query\n",
    "    employee_subquery = (\n",
    "        select(\n",
    "            Employee.emp_id,\n",
    "            Employee.assigned_branch_id\n",
    "        )\n",
    "        .select_from(Employee)\n",
    "        .where(\n",
    "            and_(\n",
    "                Employee.title.like(\"%Teller%\"),\n",
    "                Employee.start_date <= date(2003, 1, 1)\n",
    "            )\n",
    "        )\n",
    "        .subquery(\"e\")\n",
    "    )\n",
    "    employee_alias = aliased(Employee, employee_subquery)\n",
    "\n",
    "    # Get the branch sub-query\n",
    "    branch_subquery = (\n",
    "        select(\n",
    "            Branch.branch_id\n",
    "        )\n",
    "        .select_from(Branch)\n",
    "        .where(Branch.name == \"Woburn Branch\")\n",
    "        .subquery(\"b\")\n",
    "    )\n",
    "    branch_alias = aliased(Branch, branch_subquery)\n",
    "\n",
    "    statement = (\n",
    "        # Get all accounts\n",
    "        select(\n",
    "            Account.account_id,\n",
    "            Account.cust_id,\n",
    "            Account.open_date,\n",
    "            Account.product_cd\n",
    "        )\n",
    "        .select_from(Account)\n",
    "        # Associate all accounts with the experienced teller\n",
    "        .join(\n",
    "            employee_subquery,\n",
    "            Account.open_emp_id == employee_alias.emp_id\n",
    "        )\n",
    "        # Associated all the tellers at the Woburn Branch\n",
    "        .join(\n",
    "            branch_subquery,\n",
    "            branch_alias.branch_id == employee_alias.assigned_branch_id\n",
    "        )\n",
    "    )\n",
    "    print_sql_statement(statement)\n",
    "    results = session.execute(statement).all()\n",
    "\n",
    "print(df)\n",
    "print(results)"
   ],
   "metadata": {
    "collapsed": false,
    "ExecuteTime": {
     "end_time": "2023-05-23T22:19:56.110310Z",
     "start_time": "2023-05-23T22:19:55.902660Z"
    }
   }
  },
  {
   "cell_type": "code",
   "execution_count": null,
   "outputs": [],
   "source": [],
   "metadata": {
    "collapsed": false
   }
  }
 ],
 "metadata": {
  "kernelspec": {
   "display_name": "Python 3",
   "language": "python",
   "name": "python3"
  },
  "language_info": {
   "codemirror_mode": {
    "name": "ipython",
    "version": 2
   },
   "file_extension": ".py",
   "mimetype": "text/x-python",
   "name": "python",
   "nbconvert_exporter": "python",
   "pygments_lexer": "ipython2",
   "version": "2.7.6"
  }
 },
 "nbformat": 4,
 "nbformat_minor": 0
}
