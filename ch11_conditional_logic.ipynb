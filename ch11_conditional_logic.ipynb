{
 "cells": [
  {
   "cell_type": "markdown",
   "metadata": {},
   "source": [
    "# Chapter 11: Conditional Logic\n",
    "\n",
    "There are use-cases where conditionals are requirement like an if-else.\n"
   ]
  },
  {
   "cell_type": "code",
   "execution_count": 2,
   "metadata": {
    "ExecuteTime": {
     "end_time": "2023-06-06T21:40:12.507466Z",
     "start_time": "2023-06-06T21:40:08.680348Z"
    }
   },
   "outputs": [],
   "source": [
    "import os\n",
    "\n",
    "from dotenv import load_dotenv\n",
    "from sqlalchemy import create_engine, URL\n",
    "from sqlalchemy.orm import Session\n",
    "import pandas as pd\n",
    "\n",
    "\n",
    "load_dotenv()\n",
    "\n",
    "url_object = URL.create(\n",
    "    os.environ[\"DB_ENGINE\"],\n",
    "    username=os.environ[\"DB_USER\"],\n",
    "    password=os.environ[\"DB_PASSWD\"],\n",
    "    host=os.environ[\"DB_HOST\"],\n",
    "    database=os.environ[\"DB_NAME\"],\n",
    ")\n",
    "\n",
    "engine = create_engine(url_object)"
   ]
  },
  {
   "cell_type": "markdown",
   "metadata": {},
   "source": [
    "# Case Expressions\n",
    "\n",
    "Instead of using joins, list of customer names whether it is an individual or a business\n"
   ]
  },
  {
   "cell_type": "code",
   "execution_count": 3,
   "metadata": {
    "ExecuteTime": {
     "end_time": "2023-06-06T21:40:12.665171Z",
     "start_time": "2023-06-06T21:40:12.471265Z"
    }
   },
   "outputs": [
    {
     "name": "stdout",
     "output_type": "stream",
     "text": [
      "    cust_id       fed_id                      name\n",
      "0         1  111-11-1111            i-James Hadley\n",
      "1         2  222-22-2222           i-Susan Tingley\n",
      "2         3  333-33-3333            i-Frank Tucker\n",
      "3         4  444-44-4444            i-John Hayward\n",
      "4         5  555-55-5555         i-Charles Frasier\n",
      "5         6  666-66-6666            i-John Spencer\n",
      "6         7  777-77-7777          i-Margaret Young\n",
      "7         8  888-88-8888             i-Louis Blake\n",
      "8         9  999-99-9999          i-Richard Farley\n",
      "9        10   04-1111111     b-Chilton Engineering\n",
      "10       11   04-2222222  b-Northeast Cooling Inc.\n",
      "11       12   04-3333333      b-Superior Auto Body\n",
      "12       13   04-4444444      b-AAA Insurance Inc.\n"
     ]
    }
   ],
   "source": [
    "with Session(engine) as session:\n",
    "\n",
    "    df = pd.read_sql_query(\n",
    "        \"\"\"\n",
    "        SELECT\n",
    "            c.cust_id\n",
    "            , c.fed_id\n",
    "            , (CASE c.cust_type_cd\n",
    "                WHEN 'I' THEN (\n",
    "                    SELECT\n",
    "                        CONCAT('i-', i.fname, ' ', i.lname)\n",
    "                    FROM individual i\n",
    "                    WHERE c.cust_id = i.cust_id\n",
    "                )\n",
    "                WHEN 'B' THEN (\n",
    "                    SELECT\n",
    "                        CONCAT('b-', b.name)\n",
    "                    FROM business b\n",
    "                    WHERE b.cust_id = c.cust_id\n",
    "                )\n",
    "                ELSE 'UNKNOWN'\n",
    "                END) name\n",
    "        FROM\n",
    "            customer c\n",
    "        ;\n",
    "        \"\"\",\n",
    "        con=session.connection()\n",
    "    )\n",
    "\n",
    "print(df)"
   ]
  },
  {
   "cell_type": "markdown",
   "metadata": {},
   "source": [
    "# Selective Aggregation\n",
    "\n",
    "Find all account whose account balances don't agree with the raw transaction data."
   ]
  },
  {
   "cell_type": "code",
   "execution_count": 4,
   "metadata": {
    "ExecuteTime": {
     "end_time": "2023-06-06T21:40:12.787108Z",
     "start_time": "2023-06-06T21:40:12.611144Z"
    }
   },
   "outputs": [
    {
     "name": "stdout",
     "output_type": "stream",
     "text": [
      "                                         alert\n",
      "0    ALERT! : Account #1 has incorrect balance\n",
      "1    ALERT! : Account #2 has incorrect balance\n",
      "2    ALERT! : Account #3 has incorrect balance\n",
      "3    ALERT! : Account #4 has incorrect balance\n",
      "4    ALERT! : Account #5 has incorrect balance\n",
      "5    ALERT! : Account #7 has incorrect balance\n",
      "6    ALERT! : Account #8 has incorrect balance\n",
      "7   ALERT! : Account #10 has incorrect balance\n",
      "8   ALERT! : Account #11 has incorrect balance\n",
      "9   ALERT! : Account #12 has incorrect balance\n",
      "10  ALERT! : Account #13 has incorrect balance\n",
      "11  ALERT! : Account #14 has incorrect balance\n",
      "12  ALERT! : Account #15 has incorrect balance\n",
      "13  ALERT! : Account #17 has incorrect balance\n",
      "14  ALERT! : Account #18 has incorrect balance\n",
      "15  ALERT! : Account #19 has incorrect balance\n",
      "16  ALERT! : Account #21 has incorrect balance\n",
      "17  ALERT! : Account #22 has incorrect balance\n",
      "18  ALERT! : Account #23 has incorrect balance\n",
      "19  ALERT! : Account #24 has incorrect balance\n",
      "20  ALERT! : Account #28 has incorrect balance\n"
     ]
    }
   ],
   "source": [
    "with Session(engine) as session:\n",
    "\n",
    "    df = pd.read_sql_query(\n",
    "        \"\"\"\n",
    "        SELECT\n",
    "            CONCAT('ALERT! : Account #' , a.account_id, ' has incorrect balance') alert\n",
    "        FROM\n",
    "            account a\n",
    "        WHERE (a.avail_balance, a.pending_balance) <> \n",
    "            (SELECT\n",
    "                SUM(\n",
    "                    CASE\n",
    "                        WHEN t.funds_avail_date > CURRENT_TIMESTAMP()\n",
    "                            THEN 0\n",
    "                        WHEN t.txn_type_cd = 'DBT'\n",
    "                            THEN -1 * t.amount\n",
    "                        ELSE\n",
    "                            t.amount\n",
    "                    END\n",
    "                ) avail\n",
    "                , SUM(\n",
    "                    IF(t.txn_type_cd = 'DBT', -1 * t.amount, t.amount)\n",
    "                ) pend\n",
    "            FROM transaction t\n",
    "            WHERE t.account_id = a.account_id\n",
    "        );\n",
    "        \"\"\",\n",
    "        con=session.connection()\n",
    "    )\n",
    "\n",
    "print(df)"
   ]
  },
  {
   "cell_type": "markdown",
   "source": [
    "# Checking for Existence\n",
    "\n",
    "Check which customers have a checking and saving account.\n"
   ],
   "metadata": {
    "collapsed": false
   }
  },
  {
   "cell_type": "code",
   "execution_count": 5,
   "outputs": [
    {
     "name": "stdout",
     "output_type": "stream",
     "text": [
      "    cust_id       fed_id cust_type_cd has_checking has_saving\n",
      "0         1  111-11-1111            I            Y          Y\n",
      "1         2  222-22-2222            I            Y          Y\n",
      "2         3  333-33-3333            I            Y          N\n",
      "3         4  444-44-4444            I            Y          Y\n",
      "4         5  555-55-5555            I            Y          N\n",
      "5         6  666-66-6666            I            Y          N\n",
      "6         7  777-77-7777            I            N          N\n",
      "7         8  888-88-8888            I            Y          Y\n",
      "8         9  999-99-9999            I            Y          N\n",
      "9        10   04-1111111            B            Y          N\n",
      "10       11   04-2222222            B            N          N\n",
      "11       12   04-3333333            B            Y          N\n",
      "12       13   04-4444444            B            N          N\n"
     ]
    }
   ],
   "source": [
    "with Session(engine) as session:\n",
    "\n",
    "    df = pd.read_sql_query(\n",
    "        \"\"\"\n",
    "        SELECT\n",
    "            c.cust_id\n",
    "            , c.fed_id\n",
    "            , c.cust_type_cd\n",
    "            , (SELECT\n",
    "                IF(\n",
    "                    EXISTS (\n",
    "                        SELECT 1\n",
    "                        FROM account a\n",
    "                        WHERE a.cust_id = c.cust_id\n",
    "                          AND a.product_cd = 'CHK'\n",
    "                    ),\n",
    "                    'Y',\n",
    "                    'N'\n",
    "                )\n",
    "            ) has_checking\n",
    "            , (SELECT\n",
    "                IF(\n",
    "                    EXISTS (\n",
    "                        SELECT 1\n",
    "                        FROM account a\n",
    "                        WHERE a.cust_id = c.cust_id\n",
    "                          AND a.product_cd = 'SAV'\n",
    "                    ),\n",
    "                    'Y',\n",
    "                    'N'\n",
    "                )\n",
    "            ) has_saving\n",
    "        FROM customer c;\n",
    "        \"\"\",\n",
    "        con=session.connection()\n",
    "    )\n",
    "\n",
    "print(df)"
   ],
   "metadata": {
    "collapsed": false,
    "ExecuteTime": {
     "end_time": "2023-06-06T21:40:12.788707Z",
     "start_time": "2023-06-06T21:40:12.649095Z"
    }
   }
  },
  {
   "cell_type": "markdown",
   "source": [
    "What about how many accounts does a customer have? Count up to three and use '3 or more' to express large numbers"
   ],
   "metadata": {
    "collapsed": false
   }
  },
  {
   "cell_type": "code",
   "execution_count": 6,
   "outputs": [
    {
     "name": "stdout",
     "output_type": "stream",
     "text": [
      "    cust_id       fed_id cust_type_cd num_accounts\n",
      "0         1  111-11-1111            I    3 or more\n",
      "1         2  222-22-2222            I            2\n",
      "2         3  333-33-3333            I            2\n",
      "3         4  444-44-4444            I    3 or more\n",
      "4         5  555-55-5555            I            1\n",
      "5         6  666-66-6666            I            2\n",
      "6         7  777-77-7777            I            1\n",
      "7         8  888-88-8888            I            2\n",
      "8         9  999-99-9999            I    3 or more\n",
      "9        10   04-1111111            B            2\n",
      "10       11   04-2222222            B            1\n",
      "11       12   04-3333333            B            1\n",
      "12       13   04-4444444            B            1\n"
     ]
    }
   ],
   "source": [
    "with Session(engine) as session:\n",
    "\n",
    "    df = pd.read_sql_query(\n",
    "        \"\"\"\n",
    "        SELECT\n",
    "            c.cust_id\n",
    "            , c.fed_id\n",
    "            , c.cust_type_cd\n",
    "            , (\n",
    "                CASE (\n",
    "                    SELECT\n",
    "                        COUNT(*)\n",
    "                    FROM account a\n",
    "                    WHERE a.cust_id = c.cust_id\n",
    "                )\n",
    "                    WHEN 0 THEN 'None'\n",
    "                    WHEN 1 THEN '1'\n",
    "                    WHEN 2 THEN '2'\n",
    "                    ELSE '3 or more'\n",
    "                END\n",
    "            ) num_accounts\n",
    "        FROM customer c;\n",
    "        \"\"\",\n",
    "        con=session.connection()\n",
    "    )\n",
    "\n",
    "print(df)"
   ],
   "metadata": {
    "collapsed": false,
    "ExecuteTime": {
     "end_time": "2023-06-06T21:44:16.832608Z",
     "start_time": "2023-06-06T21:44:16.719557Z"
    }
   }
  },
  {
   "cell_type": "markdown",
   "source": [
    "# Division by Zero Errors\n",
    "\n",
    "Find the percentages that a customer divides all their assets across the bank products."
   ],
   "metadata": {
    "collapsed": false
   }
  },
  {
   "cell_type": "code",
   "execution_count": 30,
   "outputs": [
    {
     "name": "stdout",
     "output_type": "stream",
     "text": [
      "    cust_id product_cd  percent_of_total\n",
      "0        10        BUS               0.0\n",
      "1        11        BUS             100.0\n",
      "2         1         CD              15.4\n",
      "3         6         CD              51.3\n",
      "4         7         CD              25.6\n",
      "5         9         CD               7.7\n",
      "6         1        CHK               1.4\n",
      "7         2        CHK               3.1\n",
      "8         3        CHK               1.4\n",
      "9         4        CHK               0.7\n",
      "10        5        CHK               3.1\n",
      "11        6        CHK               0.2\n",
      "12        8        CHK               4.8\n",
      "13        9        CHK               0.2\n",
      "14       10        CHK              32.3\n",
      "15       12        CHK              52.8\n",
      "16        3         MM              13.0\n",
      "17        4         MM              32.2\n",
      "18        9         MM              54.8\n",
      "19        1        SAV              26.9\n",
      "20        2        SAV              10.8\n",
      "21        4        SAV              41.4\n",
      "22        8        SAV              20.9\n",
      "23       13        SBL             100.0\n"
     ]
    }
   ],
   "source": [
    "with Session(engine) as session:\n",
    "\n",
    "    df = pd.read_sql_query(\n",
    "        \"\"\"\n",
    "        SELECT\n",
    "            a.cust_id\n",
    "            , a.product_cd\n",
    "            , ROUND(a.avail_balance / (\n",
    "                IF(prod_tots.tot_balance = 0, 1., prod_tots.tot_balance)\n",
    "            ), 3) * 100. percent_of_total\n",
    "        FROM account a JOIN (\n",
    "            SELECT\n",
    "                a2.product_cd\n",
    "                , SUM(a2.avail_balance) tot_balance\n",
    "            FROM\n",
    "                account a2\n",
    "            GROUP BY a2.product_cd\n",
    "        ) prod_tots ON a.product_cd = prod_tots.product_cd\n",
    "        ORDER BY a.product_cd, a.cust_id;\n",
    "        \"\"\",\n",
    "        con=session.connection()\n",
    "    )\n",
    "\n",
    "print(df)"
   ],
   "metadata": {
    "collapsed": false,
    "ExecuteTime": {
     "end_time": "2023-06-06T22:22:13.239710Z",
     "start_time": "2023-06-06T22:22:13.101577Z"
    }
   }
  },
  {
   "cell_type": "markdown",
   "source": [
    "I am concerned about adding percentages correctly, so let's use ROLLUP to check the results"
   ],
   "metadata": {
    "collapsed": false
   }
  },
  {
   "cell_type": "code",
   "execution_count": 28,
   "outputs": [
    {
     "name": "stdout",
     "output_type": "stream",
     "text": [
      "    cust_id product_cd  percent_of_total  all_percentages\n",
      "0       NaN       None               NaN       600.000000\n",
      "1       NaN        BUS               NaN       100.000000\n",
      "2      10.0        BUS               0.0         0.000000\n",
      "3      10.0        BUS               NaN         0.000000\n",
      "4      11.0        BUS               NaN       100.000000\n",
      "5      11.0        BUS             100.0       100.000000\n",
      "6       NaN         CD               NaN       100.000000\n",
      "7       1.0         CD              15.4        15.384615\n",
      "8       1.0         CD               NaN        15.384615\n",
      "9       6.0         CD              51.3        51.282051\n",
      "10      6.0         CD               NaN        51.282051\n",
      "11      7.0         CD              25.6        25.641026\n",
      "12      7.0         CD               NaN        25.641026\n",
      "13      9.0         CD               7.7         7.692308\n",
      "14      9.0         CD               NaN         7.692308\n",
      "15      NaN        CHK               NaN       100.000000\n",
      "16      1.0        CHK               1.4         1.448814\n",
      "17      1.0        CHK               NaN         1.448814\n",
      "18      2.0        CHK               3.1         3.092839\n",
      "19      2.0        CHK               NaN         3.092839\n",
      "20      3.0        CHK               1.4         1.448814\n",
      "21      3.0        CHK               NaN         1.448814\n",
      "22      4.0        CHK               0.7         0.731591\n",
      "23      4.0        CHK               NaN         0.731591\n",
      "24      5.0        CHK               3.1         3.065376\n",
      "25      5.0        CHK               NaN         3.065376\n",
      "26      6.0        CHK               0.2         0.167612\n",
      "27      6.0        CHK               NaN         0.167612\n",
      "28      8.0        CHK               NaN         4.776448\n",
      "29      8.0        CHK               4.8         4.776448\n",
      "30      9.0        CHK               0.2         0.172132\n",
      "31      9.0        CHK               NaN         0.172132\n",
      "32     10.0        CHK              32.3        32.291141\n",
      "33     10.0        CHK               NaN        32.291141\n",
      "34     12.0        CHK              52.8        52.805234\n",
      "35     12.0        CHK               NaN        52.805234\n",
      "36      NaN         MM               NaN       100.000000\n",
      "37      3.0         MM              13.0        12.980240\n",
      "38      3.0         MM               NaN        12.980240\n",
      "39      4.0         MM              32.2        32.191522\n",
      "40      4.0         MM               NaN        32.191522\n",
      "41      9.0         MM              54.8        54.828238\n",
      "42      9.0         MM               NaN        54.828238\n",
      "43      NaN        SAV               NaN       100.000000\n",
      "44      1.0        SAV              26.9        26.943139\n",
      "45      1.0        SAV               NaN        26.943139\n",
      "46      2.0        SAV              10.8        10.777256\n",
      "47      2.0        SAV               NaN        10.777256\n",
      "48      4.0        SAV              41.4        41.372269\n",
      "49      4.0        SAV               NaN        41.372269\n",
      "50      8.0        SAV              20.9        20.907337\n",
      "51      8.0        SAV               NaN        20.907337\n",
      "52      NaN        SBL               NaN       100.000000\n",
      "53     13.0        SBL             100.0       100.000000\n",
      "54     13.0        SBL               NaN       100.000000\n"
     ]
    }
   ],
   "source": [
    "with Session(engine) as session:\n",
    "\n",
    "    df = pd.read_sql_query(\n",
    "        \"\"\"\n",
    "        SELECT\n",
    "            a.cust_id\n",
    "            , a.product_cd\n",
    "            , ROUND(a.avail_balance / (\n",
    "                IF(prod_tots.tot_balance = 0, 1., prod_tots.tot_balance)\n",
    "            ), 3) * 100. percent_of_total\n",
    "            , SUM(\n",
    "                a.avail_balance / (\n",
    "                    IF(prod_tots.tot_balance = 0, 1., prod_tots.tot_balance)\n",
    "                ) * 100.\n",
    "            ) all_percentages\n",
    "        FROM account a JOIN (\n",
    "            SELECT\n",
    "                a2.product_cd\n",
    "                , SUM(a2.avail_balance) tot_balance\n",
    "            FROM\n",
    "                account a2\n",
    "            GROUP BY a2.product_cd\n",
    "        ) prod_tots ON a.product_cd = prod_tots.product_cd\n",
    "        GROUP BY a.product_cd, a.cust_id, percent_of_total WITH ROLLUP\n",
    "        ORDER BY a.product_cd, a.cust_id;\n",
    "        \"\"\",\n",
    "        con=session.connection()\n",
    "    )\n",
    "\n",
    "print(df)"
   ],
   "metadata": {
    "collapsed": false,
    "ExecuteTime": {
     "end_time": "2023-06-06T22:17:55.233285Z",
     "start_time": "2023-06-06T22:17:55.172812Z"
    }
   }
  },
  {
   "cell_type": "markdown",
   "source": [
    "# Exercises\n",
    "\n",
    "## 11-1\n",
    "Rewrite the following query so that the same results are achieved with as few WHEN clauses as possible\n",
    "\n",
    "```mysql\n",
    "SELECT\n",
    "    emp_id\n",
    "    , CASE title\n",
    "        WHEN 'President' THEN 'Management'\n",
    "        WHEN 'Vice President' THEN 'Management'\n",
    "        WHEN 'Treasurer' THEN 'Management'\n",
    "        WHEN 'Loan Manager' THEN 'Management'\n",
    "        WHEN 'Operations Manager' THEN 'Operations'\n",
    "        WHEN 'Head Teller' THEN 'Operations'\n",
    "        WHEN 'Teller' THEN 'Operations'\n",
    "        ELSE 'Unknown'\n",
    "    END\n",
    "FROM\n",
    "    employee;\n",
    "```\n",
    "\n",
    "## 11-2\n",
    "Rewrite the following query so that the result set contains a single row with four columns (one for each branch). Name the four columns 'branch_1' through 'branch_4'\n",
    "\n",
    "```mysql\n",
    "SELECT open_branch_id, COUNT(*)\n",
    "FROM account\n",
    "GROUP BY open_branch_id;\n",
    "```\n",
    "\n",
    "| open_branch_id | COUNT(*) |\n",
    "|:---------------|:---------|\n",
    "| 1              | 8        |\n",
    "| 2              | 7        |\n",
    "| 3              | 3        |\n",
    "| 4              | 6        |"
   ],
   "metadata": {
    "collapsed": false
   }
  },
  {
   "cell_type": "code",
   "execution_count": 42,
   "outputs": [
    {
     "name": "stdout",
     "output_type": "stream",
     "text": [
      "    emp_id super_title\n",
      "0        1  Management\n",
      "1        2  Management\n",
      "2        3  Management\n",
      "3        4  Operations\n",
      "4        5  Management\n",
      "5        6  Operations\n",
      "6        7  Operations\n",
      "7        8  Operations\n",
      "8        9  Operations\n",
      "9       10  Operations\n",
      "10      11  Operations\n",
      "11      12  Operations\n",
      "12      13  Operations\n",
      "13      14  Operations\n",
      "14      15  Operations\n",
      "15      16  Operations\n",
      "16      17  Operations\n",
      "17      18  Operations\n"
     ]
    }
   ],
   "source": [
    "# 11-1\n",
    "\n",
    "with Session(engine) as session:\n",
    "\n",
    "    df = pd.read_sql_query(\n",
    "        \"\"\"\n",
    "        SELECT\n",
    "            emp_id\n",
    "            , CASE\n",
    "                WHEN title IN ('President', 'Vice President', 'Treasurer', 'Loan Manager') THEN 'Management'\n",
    "                WHEN title IN ('Operations Manager', 'Head Teller', 'Teller') THEN 'Operations'\n",
    "                ELSE 'Unknown'\n",
    "            END super_title\n",
    "        FROM\n",
    "            employee;\n",
    "        \"\"\",\n",
    "        con=session.connection()\n",
    "    )\n",
    "\n",
    "print(df)"
   ],
   "metadata": {
    "collapsed": false,
    "ExecuteTime": {
     "end_time": "2023-06-06T22:46:24.272053Z",
     "start_time": "2023-06-06T22:46:23.833836Z"
    }
   }
  },
  {
   "cell_type": "code",
   "execution_count": 40,
   "outputs": [
    {
     "name": "stdout",
     "output_type": "stream",
     "text": [
      "   branch_1  branch_2  branch_3  branch_4\n",
      "0       8.0       7.0       3.0       6.0\n"
     ]
    }
   ],
   "source": [
    "# 11-2\n",
    "\n",
    "with Session(engine) as session:\n",
    "\n",
    "    df = pd.read_sql_query(\n",
    "        \"\"\"\n",
    "        SELECT\n",
    "            SUM(CASE WHEN open_branch_id = 1 THEN 1 ELSE 0 END) branch_1\n",
    "            , SUM(CASE WHEN open_branch_id = 2 THEN 1 ELSE 0 END) branch_2\n",
    "            , SUM(CASE WHEN open_branch_id = 3 THEN 1 ELSE 0 END) branch_3\n",
    "            , SUM(CASE WHEN open_branch_id = 4 THEN 1 ELSE 0 END) branch_4\n",
    "        FROM\n",
    "            account;\n",
    "        \"\"\",\n",
    "        con=session.connection()\n",
    "    )\n",
    "\n",
    "print(df)"
   ],
   "metadata": {
    "collapsed": false,
    "ExecuteTime": {
     "end_time": "2023-06-06T22:43:45.437600Z",
     "start_time": "2023-06-06T22:43:45.341784Z"
    }
   }
  },
  {
   "cell_type": "code",
   "execution_count": null,
   "outputs": [],
   "source": [],
   "metadata": {
    "collapsed": false
   }
  }
 ],
 "metadata": {
  "kernelspec": {
   "display_name": "Python 3 (ipykernel)",
   "language": "python",
   "name": "python3"
  },
  "language_info": {
   "codemirror_mode": {
    "name": "ipython",
    "version": 3
   },
   "file_extension": ".py",
   "mimetype": "text/x-python",
   "name": "python",
   "nbconvert_exporter": "python",
   "pygments_lexer": "ipython3",
   "version": "3.11.0"
  }
 },
 "nbformat": 4,
 "nbformat_minor": 1
}
