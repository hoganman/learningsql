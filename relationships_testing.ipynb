{
 "cells": [
  {
   "cell_type": "code",
   "execution_count": 1,
   "metadata": {
    "collapsed": true,
    "ExecuteTime": {
     "start_time": "2023-05-19T20:42:12.516252Z",
     "end_time": "2023-05-19T20:42:13.140041Z"
    }
   },
   "outputs": [],
   "source": [
    "import os\n",
    "\n",
    "from dotenv import load_dotenv\n",
    "from sqlalchemy import create_engine, URL\n",
    "from sqlalchemy.orm import Session\n",
    "from sqlalchemy import select\n",
    "\n",
    "from model import department, branch, employee"
   ]
  },
  {
   "cell_type": "code",
   "execution_count": 2,
   "outputs": [],
   "source": [
    "load_dotenv()\n",
    "\n",
    "url_object = URL.create(\n",
    "    os.environ[\"DB_ENGINE\"],\n",
    "    username=os.environ[\"DB_USER\"],\n",
    "    password=os.environ[\"DB_PASSWD\"],\n",
    "    host=os.environ[\"DB_HOST\"],\n",
    "    database=os.environ[\"DB_NAME\"],\n",
    ")\n",
    "\n",
    "engine = create_engine(url_object)"
   ],
   "metadata": {
    "collapsed": false,
    "ExecuteTime": {
     "start_time": "2023-05-19T20:42:13.146246Z",
     "end_time": "2023-05-19T20:42:13.325619Z"
    }
   }
  },
  {
   "cell_type": "code",
   "execution_count": 7,
   "outputs": [
    {
     "name": "stdout",
     "output_type": "stream",
     "text": [
      "[Employee(emp_id=1, fname=Michael, lname=Smith, start_date=2001-06-22, end_date=, superior_emp_id=, dept_id=3, title=President, assigned_branch_id=1), Employee(emp_id=2, fname=Susan, lname=Barker, start_date=2002-09-12, end_date=, superior_emp_id=1, dept_id=3, title=Vice President, assigned_branch_id=1), Employee(emp_id=3, fname=Robert, lname=Tyler, start_date=2000-02-09, end_date=, superior_emp_id=1, dept_id=3, title=Treasurer, assigned_branch_id=1), Employee(emp_id=4, fname=Susan, lname=Hawthorne, start_date=2002-04-24, end_date=, superior_emp_id=3, dept_id=1, title=Operations Manager, assigned_branch_id=1), Employee(emp_id=5, fname=John, lname=Gooding, start_date=2003-11-14, end_date=, superior_emp_id=4, dept_id=2, title=Loan Manager, assigned_branch_id=1), Employee(emp_id=6, fname=Helen, lname=Fleming, start_date=2004-03-17, end_date=, superior_emp_id=4, dept_id=1, title=Head Teller, assigned_branch_id=1), Employee(emp_id=7, fname=Chris, lname=Tucker, start_date=2004-09-15, end_date=, superior_emp_id=6, dept_id=1, title=Teller, assigned_branch_id=1), Employee(emp_id=8, fname=Sarah, lname=Parker, start_date=2002-12-02, end_date=, superior_emp_id=6, dept_id=1, title=Teller, assigned_branch_id=1), Employee(emp_id=9, fname=Jane, lname=Grossman, start_date=2002-05-03, end_date=, superior_emp_id=6, dept_id=1, title=Teller, assigned_branch_id=1)]\n"
     ]
    }
   ],
   "source": [
    "with Session(engine) as session:\n",
    "    # out: list[department.Department] = session.scalars(select(department.Department)).all()\n",
    "    # dept = out[0]\n",
    "    # dept_employees = dept.dept_employees\n",
    "\n",
    "    # out = session.scalars(select(branch.Branch)).all()\n",
    "\n",
    "    out: list[employee.Employee] = session.scalars(select(employee.Employee)).all()\n",
    "    sub_1 = out[1]\n",
    "    sub_2 = out[2]\n",
    "    assert sub_1.superior_emp_id == sub_2.superior_emp_id\n",
    "    sup_1 = sub_1.superior_emp\n",
    "    sup_2 = sub_2.superior_emp\n",
    "    assert sup_1 is sup_2\n",
    "    assigned_branch: branch.Branch = sub_1.employee_branch\n",
    "    print(assigned_branch.branch_employees)"
   ],
   "metadata": {
    "collapsed": false,
    "ExecuteTime": {
     "start_time": "2023-05-19T20:42:43.873773Z",
     "end_time": "2023-05-19T20:42:43.918411Z"
    }
   }
  },
  {
   "cell_type": "code",
   "execution_count": 8,
   "outputs": [
    {
     "data": {
      "text/plain": "'Headquarters'"
     },
     "execution_count": 8,
     "metadata": {},
     "output_type": "execute_result"
    }
   ],
   "source": [
    "assigned_branch.name"
   ],
   "metadata": {
    "collapsed": false,
    "ExecuteTime": {
     "start_time": "2023-05-19T20:43:05.067393Z",
     "end_time": "2023-05-19T20:43:05.118081Z"
    }
   }
  },
  {
   "cell_type": "code",
   "execution_count": null,
   "outputs": [],
   "source": [],
   "metadata": {
    "collapsed": false
   }
  }
 ],
 "metadata": {
  "kernelspec": {
   "display_name": "Python 3",
   "language": "python",
   "name": "python3"
  },
  "language_info": {
   "codemirror_mode": {
    "name": "ipython",
    "version": 2
   },
   "file_extension": ".py",
   "mimetype": "text/x-python",
   "name": "python",
   "nbconvert_exporter": "python",
   "pygments_lexer": "ipython2",
   "version": "2.7.6"
  }
 },
 "nbformat": 4,
 "nbformat_minor": 0
}
