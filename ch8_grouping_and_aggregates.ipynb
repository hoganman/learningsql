{
 "cells": [
  {
   "cell_type": "markdown",
   "source": [
    "# Chapter 8: Grouping and Aggregates\n"
   ],
   "metadata": {
    "collapsed": false
   }
  },
  {
   "cell_type": "code",
   "execution_count": 4,
   "outputs": [],
   "source": [
    "import os\n",
    "\n",
    "from dotenv import load_dotenv\n",
    "from sqlalchemy import create_engine, URL, select, func\n",
    "from sqlalchemy.orm import Session\n",
    "import pandas as pd\n",
    "\n",
    "from utils import print_sql_statement\n",
    "\n",
    "\n",
    "load_dotenv()\n",
    "\n",
    "url_object = URL.create(\n",
    "    os.environ[\"DB_ENGINE\"],\n",
    "    username=os.environ[\"DB_USER\"],\n",
    "    password=os.environ[\"DB_PASSWD\"],\n",
    "    host=os.environ[\"DB_HOST\"],\n",
    "    database=os.environ[\"DB_NAME\"],\n",
    ")\n",
    "\n",
    "engine = create_engine(url_object)"
   ],
   "metadata": {
    "collapsed": false,
    "ExecuteTime": {
     "end_time": "2023-05-29T20:25:23.912817Z",
     "start_time": "2023-05-29T20:25:23.887660Z"
    }
   }
  },
  {
   "cell_type": "markdown",
   "source": [
    "## Grouping by expressions\n",
    "\n",
    "Count the number of employees hired by branch and year"
   ],
   "metadata": {
    "collapsed": false
   }
  },
  {
   "cell_type": "code",
   "execution_count": 23,
   "outputs": [
    {
     "name": "stdout",
     "output_type": "stream",
     "text": [
      "\"\"\"SELECT branch.name AS branch, EXTRACT(YEAR FROM employee.start_date) AS year, count(:param_1) AS how_many \n",
      "FROM employee JOIN branch ON branch.branch_id = employee.assigned_branch_id GROUP BY EXTRACT(YEAR FROM employee.start_date), branch.name ORDER BY EXTRACT(YEAR FROM employee.start_date), branch.name\"\"\"\n",
      "           branch  year  how_many\n",
      "0    Headquarters  2000         1\n",
      "1   Quincy Branch  2000         1\n",
      "2   Woburn Branch  2000         1\n",
      "3    Headquarters  2001         1\n",
      "4   So. NH Branch  2001         1\n",
      "5    Headquarters  2002         4\n",
      "6   Quincy Branch  2002         1\n",
      "7   So. NH Branch  2002         2\n",
      "8   Woburn Branch  2002         1\n",
      "9    Headquarters  2003         1\n",
      "10  Quincy Branch  2003         1\n",
      "11  Woburn Branch  2003         1\n",
      "12   Headquarters  2004         2\n",
      "[('Headquarters', 2000, 1), ('Quincy Branch', 2000, 1), ('Woburn Branch', 2000, 1), ('Headquarters', 2001, 1), ('So. NH Branch', 2001, 1), ('Headquarters', 2002, 4), ('Quincy Branch', 2002, 1), ('So. NH Branch', 2002, 2), ('Woburn Branch', 2002, 1), ('Headquarters', 2003, 1), ('Quincy Branch', 2003, 1), ('Woburn Branch', 2003, 1), ('Headquarters', 2004, 2)]\n"
     ]
    }
   ],
   "source": [
    "from collections import Counter\n",
    "\n",
    "from sqlalchemy import literal\n",
    "\n",
    "from model import Branch, Employee\n",
    "\n",
    "\n",
    "with Session(engine) as session:\n",
    "\n",
    "    # Using a raw query\n",
    "    df = pd.read_sql_query(\n",
    "        \"\"\"\n",
    "        SELECT\n",
    "            b.name branch\n",
    "            , EXTRACT(YEAR FROM e.start_date) year\n",
    "            , COUNT(*) how_many\n",
    "        FROM employee\n",
    "        e JOIN branch b ON e.assigned_branch_id = b.branch_id\n",
    "        GROUP BY EXTRACT(YEAR FROM e.start_date), branch\n",
    "        ORDER BY EXTRACT(YEAR FROM e.start_date) ASC\n",
    "        \"\"\",\n",
    "        con=session.connection()\n",
    "    )\n",
    "\n",
    "    # Using SQLAlchemy functions\n",
    "    statement = (\n",
    "        select(\n",
    "            Branch.name.label(\"branch\"),\n",
    "            func.extract(\"YEAR\", Employee.start_date).label(\"year\"),\n",
    "            func.count(literal(\"*\")).label(\"how_many\")\n",
    "        )\n",
    "        .select_from(Employee)\n",
    "        .join(\n",
    "            Branch,\n",
    "            Branch.branch_id == Employee.assigned_branch_id\n",
    "        )\n",
    "        .group_by(\n",
    "            func.extract(\"YEAR\", Employee.start_date),\n",
    "            Branch.name\n",
    "        )\n",
    "        .order_by(\n",
    "            func.extract(\"YEAR\", Employee.start_date),\n",
    "            Branch.name\n",
    "        )\n",
    "    )\n",
    "    print_sql_statement(statement)\n",
    "    results = session.execute(statement).all()\n",
    "\n",
    "    # Using the SQLalchemy ORM relationships with native Python\n",
    "    new_results = sorted(\n",
    "        [\n",
    "            # Each row is name, year, count\n",
    "            (*key, count) for (key, count) in\n",
    "            # Count the group (name, year)\n",
    "            Counter(\n",
    "                (emp.employee_branch.name, emp.start_date.year)\n",
    "                for emp in session.query(Employee)\n",
    "            )\n",
    "            .items()\n",
    "        ],\n",
    "        # Order by year then name\n",
    "        key=lambda tup: tuple(reversed(tup[:2]))\n",
    "    )\n",
    "\n",
    "print(df)\n",
    "print(results)\n",
    "assert results == new_results"
   ],
   "metadata": {
    "collapsed": false,
    "ExecuteTime": {
     "end_time": "2023-05-29T21:00:23.878235Z",
     "start_time": "2023-05-29T21:00:23.848275Z"
    }
   }
  },
  {
   "cell_type": "code",
   "execution_count": null,
   "outputs": [],
   "source": [],
   "metadata": {
    "collapsed": false
   }
  }
 ],
 "metadata": {
  "kernelspec": {
   "display_name": "Python 3",
   "language": "python",
   "name": "python3"
  },
  "language_info": {
   "codemirror_mode": {
    "name": "ipython",
    "version": 2
   },
   "file_extension": ".py",
   "mimetype": "text/x-python",
   "name": "python",
   "nbconvert_exporter": "python",
   "pygments_lexer": "ipython2",
   "version": "2.7.6"
  }
 },
 "nbformat": 4,
 "nbformat_minor": 0
}
