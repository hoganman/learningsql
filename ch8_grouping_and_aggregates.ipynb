{
 "cells": [
  {
   "cell_type": "markdown",
   "source": [
    "# Chapter 8: Grouping and Aggregates\n"
   ],
   "metadata": {
    "collapsed": false
   }
  },
  {
   "cell_type": "code",
   "execution_count": 1,
   "outputs": [],
   "source": [
    "import os\n",
    "\n",
    "from dotenv import load_dotenv\n",
    "from sqlalchemy import create_engine, URL, select, func\n",
    "from sqlalchemy.orm import Session\n",
    "import pandas as pd\n",
    "\n",
    "from utils import print_sql_statement\n",
    "\n",
    "\n",
    "load_dotenv()\n",
    "\n",
    "url_object = URL.create(\n",
    "    os.environ[\"DB_ENGINE\"],\n",
    "    username=os.environ[\"DB_USER\"],\n",
    "    password=os.environ[\"DB_PASSWD\"],\n",
    "    host=os.environ[\"DB_HOST\"],\n",
    "    database=os.environ[\"DB_NAME\"],\n",
    ")\n",
    "\n",
    "engine = create_engine(url_object)"
   ],
   "metadata": {
    "collapsed": false,
    "ExecuteTime": {
     "end_time": "2023-05-31T22:01:48.342505Z",
     "start_time": "2023-05-31T22:01:47.500935Z"
    }
   }
  },
  {
   "cell_type": "markdown",
   "source": [
    "## Grouping by expressions\n",
    "\n",
    "Count the number of employees hired by branch and year"
   ],
   "metadata": {
    "collapsed": false
   }
  },
  {
   "cell_type": "code",
   "execution_count": 2,
   "outputs": [
    {
     "name": "stdout",
     "output_type": "stream",
     "text": [
      "\"\"\"SELECT branch.name AS branch, EXTRACT(YEAR FROM employee.start_date) AS year, count(:param_1) AS how_many \n",
      "FROM employee JOIN branch ON branch.branch_id = employee.assigned_branch_id GROUP BY EXTRACT(YEAR FROM employee.start_date), branch.name ORDER BY EXTRACT(YEAR FROM employee.start_date), branch.name\"\"\"\n",
      "           branch  year  how_many\n",
      "0    Headquarters  2000         1\n",
      "1   Quincy Branch  2000         1\n",
      "2   Woburn Branch  2000         1\n",
      "3    Headquarters  2001         1\n",
      "4   So. NH Branch  2001         1\n",
      "5    Headquarters  2002         4\n",
      "6   Quincy Branch  2002         1\n",
      "7   So. NH Branch  2002         2\n",
      "8   Woburn Branch  2002         1\n",
      "9    Headquarters  2003         1\n",
      "10  Quincy Branch  2003         1\n",
      "11  Woburn Branch  2003         1\n",
      "12   Headquarters  2004         2\n",
      "[('Headquarters', 2000, 1), ('Quincy Branch', 2000, 1), ('Woburn Branch', 2000, 1), ('Headquarters', 2001, 1), ('So. NH Branch', 2001, 1), ('Headquarters', 2002, 4), ('Quincy Branch', 2002, 1), ('So. NH Branch', 2002, 2), ('Woburn Branch', 2002, 1), ('Headquarters', 2003, 1), ('Quincy Branch', 2003, 1), ('Woburn Branch', 2003, 1), ('Headquarters', 2004, 2)]\n"
     ]
    }
   ],
   "source": [
    "from collections import Counter\n",
    "\n",
    "from sqlalchemy import literal\n",
    "\n",
    "from model import Branch, Employee\n",
    "\n",
    "\n",
    "with Session(engine) as session:\n",
    "\n",
    "    # Using a raw query\n",
    "    df = pd.read_sql_query(\n",
    "        \"\"\"\n",
    "        SELECT\n",
    "            b.name branch\n",
    "            , EXTRACT(YEAR FROM e.start_date) year\n",
    "            , COUNT(*) how_many\n",
    "        FROM employee\n",
    "        e JOIN branch b ON e.assigned_branch_id = b.branch_id\n",
    "        GROUP BY EXTRACT(YEAR FROM e.start_date), branch\n",
    "        ORDER BY EXTRACT(YEAR FROM e.start_date) ASC\n",
    "        \"\"\",\n",
    "        con=session.connection()\n",
    "    )\n",
    "\n",
    "    # Using SQLAlchemy functions\n",
    "    statement = (\n",
    "        select(\n",
    "            Branch.name.label(\"branch\"),\n",
    "            func.extract(\"YEAR\", Employee.start_date).label(\"year\"),\n",
    "            func.count(literal(\"*\")).label(\"how_many\")\n",
    "        )\n",
    "        .select_from(Employee)\n",
    "        .join(\n",
    "            Branch,\n",
    "            Branch.branch_id == Employee.assigned_branch_id\n",
    "        )\n",
    "        .group_by(\n",
    "            func.extract(\"YEAR\", Employee.start_date),\n",
    "            Branch.name\n",
    "        )\n",
    "        .order_by(\n",
    "            func.extract(\"YEAR\", Employee.start_date),\n",
    "            Branch.name\n",
    "        )\n",
    "    )\n",
    "    print_sql_statement(statement)\n",
    "    results = session.execute(statement).all()\n",
    "\n",
    "    # Using the SQLalchemy ORM relationships with native Python\n",
    "    new_results = sorted(\n",
    "        [\n",
    "            # Each row is name, year, count\n",
    "            (*key, count) for (key, count) in\n",
    "            # Count the group (name, year)\n",
    "            Counter(\n",
    "                (emp.employee_branch.name, emp.start_date.year)\n",
    "                for emp in session.query(Employee)\n",
    "            )\n",
    "            .items()\n",
    "        ],\n",
    "        # Order by year then name\n",
    "        key=lambda tup: tuple(reversed(tup[:2]))\n",
    "    )\n",
    "\n",
    "print(df)\n",
    "print(results)\n",
    "assert results == new_results"
   ],
   "metadata": {
    "collapsed": false,
    "ExecuteTime": {
     "end_time": "2023-05-31T22:01:48.513694Z",
     "start_time": "2023-05-31T22:01:48.352160Z"
    }
   }
  },
  {
   "cell_type": "markdown",
   "source": [
    "# Rollup\n",
    "\n",
    "Find the total balance of every product per opening branch and the sum total of the product itself.\n",
    "\n",
    "Using the rollup functionality, a column can be aggregated per grouping."
   ],
   "metadata": {
    "collapsed": false
   }
  },
  {
   "cell_type": "code",
   "execution_count": 20,
   "outputs": [
    {
     "name": "stdout",
     "output_type": "stream",
     "text": [
      "\"\"\"SELECT account.product_cd, branch.name, sum(account.avail_balance) AS tot_balance \n",
      "FROM account JOIN branch ON account.open_branch_id = branch.branch_id GROUP BY ROLLUP(account.product_cd, branch.name)\"\"\"\n",
      "   product_cd           name  tot_balance\n",
      "0         BUS  So. NH Branch         0.00\n",
      "1         BUS  Woburn Branch      9345.55\n",
      "2         BUS           None      9345.55\n",
      "3          CD   Headquarters     11500.00\n",
      "4          CD  Woburn Branch      8000.00\n",
      "5          CD           None     19500.00\n",
      "6         CHK   Headquarters       782.16\n",
      "7         CHK  Quincy Branch      1057.75\n",
      "8         CHK  So. NH Branch     67852.33\n",
      "9         CHK  Woburn Branch      3315.77\n",
      "10        CHK           None     73008.01\n",
      "11         MM   Headquarters     14832.64\n",
      "12         MM  Quincy Branch      2212.50\n",
      "13         MM           None     17045.14\n",
      "14        SAV   Headquarters       767.77\n",
      "15        SAV  So. NH Branch       387.99\n",
      "16        SAV  Woburn Branch       700.00\n",
      "17        SAV           None      1855.76\n",
      "18        SBL  Quincy Branch     50000.00\n",
      "19        SBL           None     50000.00\n",
      "20       None           None    170754.46\n",
      "[('BUS', 'So. NH Branch', 0.0), ('BUS', 'Woburn Branch', 9345.55), ('BUS', None, 9345.55), ('CD', 'Headquarters', 11500.0), ('CD', 'Woburn Branch', 8000.0), ('CD', None, 19500.0), ('CHK', 'Headquarters', 782.16), ('CHK', 'Quincy Branch', 1057.75), ('CHK', 'So. NH Branch', 67852.33), ('CHK', 'Woburn Branch', 3315.77), ('CHK', None, 73008.01), ('MM', 'Headquarters', 14832.64), ('MM', 'Quincy Branch', 2212.5), ('MM', None, 17045.14), ('SAV', 'Headquarters', 767.77), ('SAV', 'So. NH Branch', 387.99), ('SAV', 'Woburn Branch', 700.0), ('SAV', None, 1855.76), ('SBL', 'Quincy Branch', 50000.0), ('SBL', None, 50000.0), (None, None, 170754.46)]\n"
     ]
    }
   ],
   "source": [
    "from typing import Final\n",
    "\n",
    "from model import Account, Branch\n",
    "\n",
    "\n",
    "with Session(engine) as session:\n",
    "\n",
    "    df = pd.read_sql_query(\n",
    "        \"\"\"\n",
    "        SELECT\n",
    "            a.product_cd\n",
    "            , b.name\n",
    "            , SUM(a.avail_balance) tot_balance\n",
    "        FROM\n",
    "            account\n",
    "        a JOIN branch b ON a.open_branch_id = b.branch_id\n",
    "        GROUP BY a.product_cd, b.name WITH ROLLUP;\n",
    "        \"\"\",\n",
    "        con=session.connection()\n",
    "    )\n",
    "\n",
    "    statement = (\n",
    "        select(\n",
    "            Account.product_cd,\n",
    "            Branch.name,\n",
    "            func.sum(Account.avail_balance).label(\"tot_balance\")\n",
    "        )\n",
    "        .select_from(Account)\n",
    "        .join(Branch, Account.open_branch_id == Branch.branch_id)\n",
    "        .group_by(\n",
    "            func.rollup(\n",
    "                Account.product_cd,\n",
    "                Branch.name\n",
    "            )\n",
    "        )\n",
    "    )\n",
    "    print_sql_statement(statement)\n",
    "    results = session.execute(statement).all()\n",
    "\n",
    "    # Using the SQLalchemy ORM relationships with native Python\n",
    "    key_all_products_rollup: Final[tuple] = (None, None)\n",
    "    total_balance_data: dict[tuple, float] = {\n",
    "        key_all_products_rollup: 0.\n",
    "    }\n",
    "    open_branch: Branch\n",
    "    for acct in session.query(Account):\n",
    "        open_branch = acct.account_open_branch\n",
    "        product_cd = acct.product_cd\n",
    "        key = (product_cd, open_branch.name)\n",
    "        key_rollup = (product_cd, None)\n",
    "        if key not in total_balance_data:\n",
    "            total_balance_data[key] = 0.\n",
    "        if key_rollup not in total_balance_data:\n",
    "            total_balance_data[key_rollup] = 0.\n",
    "        total_balance_data[key] += acct.avail_balance\n",
    "        total_balance_data[key_rollup] += acct.avail_balance\n",
    "        total_balance_data[key_all_products_rollup] += acct.avail_balance\n",
    "    new_results = set(\n",
    "        (*key, round(value, 2))\n",
    "        for (key, value) in total_balance_data.items()\n",
    "    )\n",
    "\n",
    "print(df)\n",
    "print(results)\n",
    "assert set(results) == new_results"
   ],
   "metadata": {
    "collapsed": false,
    "ExecuteTime": {
     "end_time": "2023-05-31T22:17:31.628988Z",
     "start_time": "2023-05-31T22:17:31.543Z"
    }
   }
  },
  {
   "cell_type": "code",
   "execution_count": null,
   "outputs": [],
   "source": [],
   "metadata": {
    "collapsed": false
   }
  }
 ],
 "metadata": {
  "kernelspec": {
   "display_name": "Python 3",
   "language": "python",
   "name": "python3"
  },
  "language_info": {
   "codemirror_mode": {
    "name": "ipython",
    "version": 2
   },
   "file_extension": ".py",
   "mimetype": "text/x-python",
   "name": "python",
   "nbconvert_exporter": "python",
   "pygments_lexer": "ipython2",
   "version": "2.7.6"
  }
 },
 "nbformat": 4,
 "nbformat_minor": 0
}
