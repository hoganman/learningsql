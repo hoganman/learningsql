{
 "cells": [
  {
   "cell_type": "markdown",
   "source": [
    "# Chapter 10: Joins Revisited\n",
    "\n",
    "The first types of join learned about are the cartesian and inner join. Now there are two more: LEFT/RIGHT OUTER JOIN and NATURAL JOIN."
   ],
   "metadata": {
    "collapsed": false
   }
  },
  {
   "cell_type": "code",
   "execution_count": 1,
   "outputs": [],
   "source": [
    "import os\n",
    "\n",
    "from dotenv import load_dotenv\n",
    "from sqlalchemy import create_engine, URL\n",
    "from sqlalchemy.orm import Session\n",
    "import pandas as pd\n",
    "\n",
    "\n",
    "load_dotenv()\n",
    "\n",
    "url_object = URL.create(\n",
    "    os.environ[\"DB_ENGINE\"],\n",
    "    username=os.environ[\"DB_USER\"],\n",
    "    password=os.environ[\"DB_PASSWD\"],\n",
    "    host=os.environ[\"DB_HOST\"],\n",
    "    database=os.environ[\"DB_NAME\"],\n",
    ")\n",
    "\n",
    "engine = create_engine(url_object)"
   ],
   "metadata": {
    "collapsed": false,
    "ExecuteTime": {
     "end_time": "2023-06-05T00:49:40.393259Z",
     "start_time": "2023-06-05T00:49:38.148774Z"
    }
   }
  },
  {
   "cell_type": "markdown",
   "source": [
    "# Left Versus Right Outer Join\n",
    "\n",
    "List all accounts and the first and last name of the customer, regardless of being a business or individual.\n",
    "\n",
    "Using the account LEFT OUTER JOIN individual, we will get all the accounts and the business customers will be listed as NULL. If LEFT is replaced with RIGHT, we exclude the business customers altogether."
   ],
   "metadata": {
    "collapsed": false
   }
  },
  {
   "cell_type": "code",
   "execution_count": 4,
   "outputs": [
    {
     "name": "stdout",
     "output_type": "stream",
     "text": [
      "    account_id  cust_id     fname    lname\n",
      "0            1        1     James   Hadley\n",
      "1            2        1     James   Hadley\n",
      "2            3        1     James   Hadley\n",
      "3            4        2     Susan  Tingley\n",
      "4            5        2     Susan  Tingley\n",
      "5            7        3     Frank   Tucker\n",
      "6            8        3     Frank   Tucker\n",
      "7           10        4      John  Hayward\n",
      "8           11        4      John  Hayward\n",
      "9           12        4      John  Hayward\n",
      "10          13        5   Charles  Frasier\n",
      "11          14        6      John  Spencer\n",
      "12          15        6      John  Spencer\n",
      "13          17        7  Margaret    Young\n",
      "14          18        8     Louis    Blake\n",
      "15          19        8     Louis    Blake\n",
      "16          21        9   Richard   Farley\n",
      "17          22        9   Richard   Farley\n",
      "18          23        9   Richard   Farley\n",
      "19          24       10      None     None\n",
      "20          25       10      None     None\n",
      "21          27       11      None     None\n",
      "22          28       12      None     None\n",
      "23          29       13      None     None\n",
      "    account_id  cust_id     fname    lname\n",
      "0            1        1     James   Hadley\n",
      "1            2        1     James   Hadley\n",
      "2            3        1     James   Hadley\n",
      "3            4        2     Susan  Tingley\n",
      "4            5        2     Susan  Tingley\n",
      "5            7        3     Frank   Tucker\n",
      "6            8        3     Frank   Tucker\n",
      "7           10        4      John  Hayward\n",
      "8           11        4      John  Hayward\n",
      "9           12        4      John  Hayward\n",
      "10          13        5   Charles  Frasier\n",
      "11          14        6      John  Spencer\n",
      "12          15        6      John  Spencer\n",
      "13          17        7  Margaret    Young\n",
      "14          18        8     Louis    Blake\n",
      "15          19        8     Louis    Blake\n",
      "16          21        9   Richard   Farley\n",
      "17          22        9   Richard   Farley\n",
      "18          23        9   Richard   Farley\n"
     ]
    }
   ],
   "source": [
    "query = \"\"\"\n",
    "SELECT\n",
    "    a.account_id\n",
    "    , a.cust_id\n",
    "    , i.fname\n",
    "    , i.lname\n",
    "FROM\n",
    "    account a\n",
    "    LEFT OUTER JOIN individual i\n",
    "    ON a.cust_id = i.cust_id\n",
    ";\n",
    "\"\"\"\n",
    "\n",
    "with Session(engine) as session:\n",
    "\n",
    "    df_left = pd.read_sql_query(\n",
    "        query,\n",
    "        con=session.connection()\n",
    "    )\n",
    "    # Using a RIGHT OUTER JOIN changes the result\n",
    "    df_right = pd.read_sql_query(\n",
    "        query.replace(\"LEFT\", \"RIGHT\"),\n",
    "        con=session.connection()\n",
    "    )\n",
    "\n",
    "print(df_left)\n",
    "print(df_right)"
   ],
   "metadata": {
    "collapsed": false,
    "ExecuteTime": {
     "end_time": "2023-06-05T00:56:38.701022Z",
     "start_time": "2023-06-05T00:56:38.614833Z"
    }
   }
  },
  {
   "cell_type": "markdown",
   "source": [
    "# Three-way Outer Join\n",
    "\n",
    "Update the previous query to list the individual and business names.\n",
    "\n",
    "I see that MySQL permits >2 OUTER JOINS, but other flavors do not. So let's try to use an agnostic query."
   ],
   "metadata": {
    "collapsed": false
   }
  },
  {
   "cell_type": "code",
   "execution_count": 6,
   "outputs": [
    {
     "name": "stdout",
     "output_type": "stream",
     "text": [
      "    account_id  cust_id      person_name           business_name\n",
      "0            1        1     James Hadley                    None\n",
      "1            2        1     James Hadley                    None\n",
      "2            3        1     James Hadley                    None\n",
      "3            4        2    Susan Tingley                    None\n",
      "4            5        2    Susan Tingley                    None\n",
      "5            7        3     Frank Tucker                    None\n",
      "6            8        3     Frank Tucker                    None\n",
      "7           10        4     John Hayward                    None\n",
      "8           11        4     John Hayward                    None\n",
      "9           12        4     John Hayward                    None\n",
      "10          13        5  Charles Frasier                    None\n",
      "11          14        6     John Spencer                    None\n",
      "12          15        6     John Spencer                    None\n",
      "13          17        7   Margaret Young                    None\n",
      "14          18        8      Louis Blake                    None\n",
      "15          19        8      Louis Blake                    None\n",
      "16          21        9   Richard Farley                    None\n",
      "17          22        9   Richard Farley                    None\n",
      "18          23        9   Richard Farley                    None\n",
      "19          24       10             None     Chilton Engineering\n",
      "20          25       10             None     Chilton Engineering\n",
      "21          27       11             None  Northeast Cooling Inc.\n",
      "22          28       12             None      Superior Auto Body\n",
      "23          29       13             None      AAA Insurance Inc.\n"
     ]
    }
   ],
   "source": [
    "with Session(engine) as session:\n",
    "\n",
    "    df = pd.read_sql_query(\n",
    "        \"\"\"\n",
    "        SELECT\n",
    "            act_ind.account_id\n",
    "            , act_ind.cust_id\n",
    "            , act_ind.person_name\n",
    "            , bus.name business_name\n",
    "        FROM (\n",
    "            SELECT\n",
    "                a.account_id\n",
    "                , a.cust_id\n",
    "                , CONCAT(i.fname, ' ', i.lname) person_name\n",
    "            FROM\n",
    "                account a LEFT OUTER JOIN individual i\n",
    "                  ON a.cust_id = i.cust_id\n",
    "        ) act_ind LEFT OUTER JOIN business bus\n",
    "            ON act_ind.cust_id = bus.cust_id\n",
    "        ;\n",
    "        \"\"\",\n",
    "        con=session.connection()\n",
    "    )\n",
    "\n",
    "print(df)"
   ],
   "metadata": {
    "collapsed": false,
    "ExecuteTime": {
     "end_time": "2023-06-05T01:11:46.905241Z",
     "start_time": "2023-06-05T01:11:46.716659Z"
    }
   }
  },
  {
   "cell_type": "markdown",
   "source": [
    "# Self Outer Joins\n",
    "\n",
    "Find all superiors and their subordinates.\n",
    "\n"
   ],
   "metadata": {
    "collapsed": false
   }
  },
  {
   "cell_type": "code",
   "execution_count": 14,
   "outputs": [
    {
     "name": "stdout",
     "output_type": "stream",
     "text": [
      "     e_fname    e_lname      e_title   s_fname    s_lname      s_title\n",
      "0       None       None         None     Susan     Barker  Vice Presid\n",
      "1      Cindy      Mason       Teller      John      Blake  Head Teller\n",
      "2      Frank    Portman       Teller      John      Blake  Head Teller\n",
      "3      Chris     Tucker       Teller     Helen    Fleming  Head Teller\n",
      "4      Sarah     Parker       Teller     Helen    Fleming  Head Teller\n",
      "5       Jane   Grossman       Teller     Helen    Fleming  Head Teller\n",
      "6       None       None         None      Beth     Fowler       Teller\n",
      "7       None       None         None      John    Gooding  Loan Manage\n",
      "8       None       None         None      Jane   Grossman       Teller\n",
      "9       John    Gooding  Loan Manage     Susan  Hawthorne  Operations \n",
      "10     Helen    Fleming  Head Teller     Susan  Hawthorne  Operations \n",
      "11     Paula    Roberts  Head Teller     Susan  Hawthorne  Operations \n",
      "12      John      Blake  Head Teller     Susan  Hawthorne  Operations \n",
      "13   Theresa    Markham  Head Teller     Susan  Hawthorne  Operations \n",
      "14      None       None         None  Samantha    Jameson       Teller\n",
      "15      Beth     Fowler       Teller   Theresa    Markham  Head Teller\n",
      "16      Rick     Tulman       Teller   Theresa    Markham  Head Teller\n",
      "17      None       None         None     Cindy      Mason       Teller\n",
      "18      None       None         None     Sarah     Parker       Teller\n",
      "19      None       None         None     Frank    Portman       Teller\n",
      "20    Thomas    Ziegler       Teller     Paula    Roberts  Head Teller\n",
      "21  Samantha    Jameson       Teller     Paula    Roberts  Head Teller\n",
      "22     Susan     Barker  Vice Presid   Michael      Smith    President\n",
      "23    Robert      Tyler    Treasurer   Michael      Smith    President\n",
      "24      None       None         None     Chris     Tucker       Teller\n",
      "25      None       None         None      Rick     Tulman       Teller\n",
      "26     Susan  Hawthorne  Operations     Robert      Tyler    Treasurer\n",
      "27      None       None         None    Thomas    Ziegler       Teller\n"
     ]
    }
   ],
   "source": [
    "with Session(engine) as session:\n",
    "\n",
    "    df = pd.read_sql_query(\n",
    "        \"\"\"\n",
    "        SELECT\n",
    "            e.fname e_fname\n",
    "            , e.lname e_lname\n",
    "            , SUBSTRING(e.title, 1, 11) e_title\n",
    "            , e_sup.fname s_fname\n",
    "            , e_sup.lname s_lname\n",
    "            , SUBSTRING(e_sup.title, 1, 11) s_title\n",
    "        FROM employee e RIGHT OUTER JOIN employee e_sup\n",
    "          ON e.superior_emp_id = e_sup.emp_id\n",
    "        ORDER BY e_sup.lname, e_sup.fname\n",
    "        ;\n",
    "        \"\"\",\n",
    "        con=session.connection()\n",
    "    )\n",
    "\n",
    "print(df)"
   ],
   "metadata": {
    "collapsed": false,
    "ExecuteTime": {
     "end_time": "2023-06-05T01:24:31.080596Z",
     "start_time": "2023-06-05T01:24:30.989769Z"
    }
   }
  },
  {
   "cell_type": "markdown",
   "source": [
    "Changing the LEFT to RIGHT shows only if the employee has at least one subordinate.\n",
    "\n",
    "| e\\_fname | e\\_lname | e\\_title | s\\_fname | s\\_lname | s\\_title |\n",
    "| :--- | :--- | :--- | :--- | :--- | :--- |\n",
    "| Michael | Smith | President | null | null | null |\n",
    "| Cindy | Mason | Teller | John | Blake | Head Teller |\n",
    "| Frank | Portman | Teller | John | Blake | Head Teller |\n",
    "| Chris | Tucker | Teller | Helen | Fleming | Head Teller |\n",
    "| Sarah | Parker | Teller | Helen | Fleming | Head Teller |\n",
    "| Jane | Grossman | Teller | Helen | Fleming | Head Teller |\n",
    "| John | Gooding | Loan Manage | Susan | Hawthorne | Operations  |\n",
    "| Helen | Fleming | Head Teller | Susan | Hawthorne | Operations  |\n",
    "| Paula | Roberts | Head Teller | Susan | Hawthorne | Operations  |\n",
    "| John | Blake | Head Teller | Susan | Hawthorne | Operations  |\n",
    "| Theresa | Markham | Head Teller | Susan | Hawthorne | Operations  |\n",
    "| Beth | Fowler | Teller | Theresa | Markham | Head Teller |\n",
    "| Rick | Tulman | Teller | Theresa | Markham | Head Teller |\n",
    "| Thomas | Ziegler | Teller | Paula | Roberts | Head Teller |\n",
    "| Samantha | Jameson | Teller | Paula | Roberts | Head Teller |\n",
    "| Susan | Barker | Vice Presid | Michael | Smith | President |\n",
    "| Robert | Tyler | Treasurer | Michael | Smith | President |\n",
    "| Susan | Hawthorne | Operations  | Robert | Tyler | Treasurer |\n"
   ],
   "metadata": {
    "collapsed": false
   }
  },
  {
   "cell_type": "markdown",
   "source": [
    "# Cartesian Product Revisited\n",
    "\n",
    "Show every day of 2004 and the number of accounts opened on each day.\n",
    "\n",
    "This will be an interesting one and long to show."
   ],
   "metadata": {
    "collapsed": false
   }
  },
  {
   "cell_type": "code",
   "execution_count": 25,
   "outputs": [
    {
     "data": {
      "text/plain": "             dt  cnt\n361  2004-12-27    0\n362  2004-12-28    1\n363  2004-12-29    0\n364  2004-12-30    0\n365  2004-12-31    0",
      "text/html": "<div>\n<style scoped>\n    .dataframe tbody tr th:only-of-type {\n        vertical-align: middle;\n    }\n\n    .dataframe tbody tr th {\n        vertical-align: top;\n    }\n\n    .dataframe thead th {\n        text-align: right;\n    }\n</style>\n<table border=\"1\" class=\"dataframe\">\n  <thead>\n    <tr style=\"text-align: right;\">\n      <th></th>\n      <th>dt</th>\n      <th>cnt</th>\n    </tr>\n  </thead>\n  <tbody>\n    <tr>\n      <th>361</th>\n      <td>2004-12-27</td>\n      <td>0</td>\n    </tr>\n    <tr>\n      <th>362</th>\n      <td>2004-12-28</td>\n      <td>1</td>\n    </tr>\n    <tr>\n      <th>363</th>\n      <td>2004-12-29</td>\n      <td>0</td>\n    </tr>\n    <tr>\n      <th>364</th>\n      <td>2004-12-30</td>\n      <td>0</td>\n    </tr>\n    <tr>\n      <th>365</th>\n      <td>2004-12-31</td>\n      <td>0</td>\n    </tr>\n  </tbody>\n</table>\n</div>"
     },
     "execution_count": 25,
     "metadata": {},
     "output_type": "execute_result"
    }
   ],
   "source": [
    "with Session(engine) as session:\n",
    "\n",
    "    df = pd.read_sql_query(\n",
    "        \"\"\"\n",
    "        SELECT\n",
    "            dts.dt\n",
    "            , COUNT(a.open_date) cnt\n",
    "        FROM account a RIGHT OUTER JOIN (\n",
    "            SELECT\n",
    "                DATE_ADD('2004-01-01', INTERVAL (ones.num + tens.num + hundreds.num) DAY) dt\n",
    "            FROM (\n",
    "                SELECT 0 num UNION ALL\n",
    "                SELECT 1 num UNION ALL\n",
    "                SELECT 2 num UNION ALL\n",
    "                SELECT 3 num UNION ALL\n",
    "                SELECT 4 num UNION ALL\n",
    "                SELECT 5 num UNION ALL\n",
    "                SELECT 6 num UNION ALL\n",
    "                SELECT 7 num UNION ALL\n",
    "                SELECT 8 num UNION ALL\n",
    "                SELECT 9 num\n",
    "            ) ones\n",
    "            CROSS JOIN (\n",
    "                SELECT  0 num UNION ALL\n",
    "                SELECT 10 num UNION ALL\n",
    "                SELECT 20 num UNION ALL\n",
    "                SELECT 20 num UNION ALL\n",
    "                SELECT 30 num UNION ALL\n",
    "                SELECT 40 num UNION ALL\n",
    "                SELECT 50 num UNION ALL\n",
    "                SELECT 60 num UNION ALL\n",
    "                SELECT 70 num UNION ALL\n",
    "                SELECT 80 num UNION ALL\n",
    "                SELECT 90 num\n",
    "            ) tens\n",
    "            CROSS JOIN (\n",
    "                SELECT   0 num UNION ALL\n",
    "                SELECT 100 num UNION ALL\n",
    "                SELECT 200 num UNION ALL\n",
    "                SELECT 300 num\n",
    "            ) hundreds\n",
    "            WHERE (\n",
    "                DATE_ADD('2004-01-01', INTERVAL (ones.num + tens.num + hundreds.num) DAY)\n",
    "                    < '2005-01-01'\n",
    "            )\n",
    "        ) dts ON dts.dt = a.open_date\n",
    "        GROUP BY dts.dt\n",
    "        ORDER BY dts.dt\n",
    "        ;\n",
    "        \"\"\",\n",
    "        con=session.connection()\n",
    "    )\n",
    "\n",
    "df.tail()"
   ],
   "metadata": {
    "collapsed": false,
    "ExecuteTime": {
     "end_time": "2023-06-05T02:12:49.306642Z",
     "start_time": "2023-06-05T02:12:49.234339Z"
    }
   }
  },
  {
   "cell_type": "markdown",
   "source": [
    "This query is much nicer read, but uses advanced features not discussed yet\n",
    "\n",
    "```mysql\n",
    "SELECT\n",
    "    dts.dt\n",
    "    , COUNT(a.open_date) cnt\n",
    "FROM account a RIGHT OUTER JOIN (\n",
    "    WITH RECURSIVE date_range AS (\n",
    "        SELECT\n",
    "            DATE('2005-01-01') end_dt\n",
    "            , DATE('2004-01-01') start_dt\n",
    "    ),\n",
    "    numbers AS (\n",
    "        SELECT 0 delta\n",
    "        UNION ALL\n",
    "        SELECT delta + 1\n",
    "        FROM numbers CROSS JOIN date_range\n",
    "        WHERE delta < DATEDIFF(date_range.end_dt, date_range.start_dt)\n",
    "    )\n",
    "    SELECT\n",
    "        DATE_ADD(date_range.start_dt, INTERVAL delta DAY) dt\n",
    "    FROM numbers CROSS JOIN date_range\n",
    "    WHERE (\n",
    "        DATE_ADD(date_range.start_dt, INTERVAL delta DAY) < date_range.end_dt\n",
    "    )\n",
    ") dts ON dts.dt = a.open_date\n",
    "GROUP BY dts.dt\n",
    "ORDER BY dts.dt;\n",
    "```"
   ],
   "metadata": {
    "collapsed": false
   }
  },
  {
   "cell_type": "code",
   "execution_count": null,
   "outputs": [],
   "source": [],
   "metadata": {
    "collapsed": false
   }
  }
 ],
 "metadata": {
  "kernelspec": {
   "display_name": "Python 3",
   "language": "python",
   "name": "python3"
  },
  "language_info": {
   "codemirror_mode": {
    "name": "ipython",
    "version": 2
   },
   "file_extension": ".py",
   "mimetype": "text/x-python",
   "name": "python",
   "nbconvert_exporter": "python",
   "pygments_lexer": "ipython2",
   "version": "2.7.6"
  }
 },
 "nbformat": 4,
 "nbformat_minor": 0
}
