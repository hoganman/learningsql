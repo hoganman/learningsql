{
 "cells": [
  {
   "cell_type": "code",
   "execution_count": 1,
   "metadata": {
    "collapsed": true,
    "ExecuteTime": {
     "start_time": "2023-05-21T21:07:49.382146Z",
     "end_time": "2023-05-21T21:07:51.183585Z"
    }
   },
   "outputs": [],
   "source": [
    "import os\n",
    "\n",
    "from dotenv import load_dotenv\n",
    "from sqlalchemy import create_engine, URL, select, func, literal, CHAR\n",
    "from sqlalchemy.sql.selectable import Select as SQLSelect\n",
    "from sqlalchemy.orm import Session\n",
    "import pandas as pd\n",
    "\n",
    "import model\n",
    "from model import Customer, Employee, Department, Branch, Account\n",
    "\n",
    "\n",
    "load_dotenv()\n",
    "\n",
    "url_object = URL.create(\n",
    "    os.environ[\"DB_ENGINE\"],\n",
    "    username=os.environ[\"DB_USER\"],\n",
    "    password=os.environ[\"DB_PASSWD\"],\n",
    "    host=os.environ[\"DB_HOST\"],\n",
    "    database=os.environ[\"DB_NAME\"],\n",
    ")\n",
    "\n",
    "engine = create_engine(url_object)"
   ]
  },
  {
   "cell_type": "code",
   "execution_count": 2,
   "outputs": [],
   "source": [
    "def print_sql_statement(sql_select_statement: SQLSelect) -> None:\n",
    "    print('\"\"\"' + str(sql_select_statement) + '\"\"\"')"
   ],
   "metadata": {
    "collapsed": false,
    "ExecuteTime": {
     "start_time": "2023-05-21T21:07:51.188260Z",
     "end_time": "2023-05-21T21:07:51.191451Z"
    }
   }
  },
  {
   "cell_type": "markdown",
   "source": [
    "# Column Aliases\n",
    "\n",
    "SQL allows for cacluated columns to have aliases. This is straight forward in a raw query, but looks weird in SQLalchemy"
   ],
   "metadata": {
    "collapsed": false
   }
  },
  {
   "cell_type": "code",
   "execution_count": 3,
   "outputs": [
    {
     "name": "stdout",
     "output_type": "stream",
     "text": [
      "\"\"\"SELECT employee.emp_id, :param_1 AS status, employee.emp_id * :emp_id_1 AS empid_x_pi, upper(employee.lname) AS last_name_upper \n",
      "FROM employee\"\"\"\n",
      "[(1, 'ACTIVE', 3.14159, 'SMITH'), (2, 'ACTIVE', 6.28318, 'BARKER'), (3, 'ACTIVE', 9.42477, 'TYLER'), (4, 'ACTIVE', 12.56636, 'HAWTHORNE'), (5, 'ACTIVE', 15.70795, 'GOODING'), (6, 'ACTIVE', 18.84954, 'FLEMING'), (7, 'ACTIVE', 21.99113, 'TUCKER'), (8, 'ACTIVE', 25.13272, 'PARKER'), (9, 'ACTIVE', 28.27431, 'GROSSMAN'), (10, 'ACTIVE', 31.4159, 'ROBERTS'), (11, 'ACTIVE', 34.55749, 'ZIEGLER'), (12, 'ACTIVE', 37.69908, 'JAMESON'), (13, 'ACTIVE', 40.84067, 'BLAKE'), (14, 'ACTIVE', 43.98226, 'MASON'), (15, 'ACTIVE', 47.12385, 'PORTMAN'), (16, 'ACTIVE', 50.26544, 'MARKHAM'), (17, 'ACTIVE', 53.40703, 'FOWLER'), (18, 'ACTIVE', 56.54862, 'TULMAN')]\n",
      "    emp_id  status  empid_x_pi last_name_upper\n",
      "0        1  ACTIVE     3.14159           SMITH\n",
      "1        2  ACTIVE     6.28318          BARKER\n",
      "2        3  ACTIVE     9.42477           TYLER\n",
      "3        4  ACTIVE    12.56636       HAWTHORNE\n",
      "4        5  ACTIVE    15.70795         GOODING\n",
      "5        6  ACTIVE    18.84954         FLEMING\n",
      "6        7  ACTIVE    21.99113          TUCKER\n",
      "7        8  ACTIVE    25.13272          PARKER\n",
      "8        9  ACTIVE    28.27431        GROSSMAN\n",
      "9       10  ACTIVE    31.41590         ROBERTS\n",
      "10      11  ACTIVE    34.55749         ZIEGLER\n",
      "11      12  ACTIVE    37.69908         JAMESON\n",
      "12      13  ACTIVE    40.84067           BLAKE\n",
      "13      14  ACTIVE    43.98226           MASON\n",
      "14      15  ACTIVE    47.12385         PORTMAN\n",
      "15      16  ACTIVE    50.26544         MARKHAM\n",
      "16      17  ACTIVE    53.40703          FOWLER\n",
      "17      18  ACTIVE    56.54862          TULMAN\n"
     ]
    }
   ],
   "source": [
    "with Session(engine) as session:\n",
    "    df = pd.read_sql_query(\n",
    "        \"\"\"\n",
    "        SELECT\n",
    "            emp_id\n",
    "            , 'ACTIVE' status\n",
    "            , emp_id * 3.14159 empid_x_pi\n",
    "            , UPPER(lname) last_name_upper\n",
    "        FROM\n",
    "            employee;\n",
    "        \"\"\",\n",
    "        con=session.connection()\n",
    "    )\n",
    "\n",
    "    statement = (\n",
    "        select(\n",
    "            Employee.emp_id,\n",
    "            literal(\"ACTIVE\").label(\"status\"),\n",
    "            (Employee.emp_id * 3.14159).label(\"empid_x_pi\"),\n",
    "            func.upper(Employee.lname).label(\"last_name_upper\")\n",
    "        ).select_from(Employee)\n",
    "    )\n",
    "    print_sql_statement(statement)\n",
    "    results = session.execute(statement).all()\n",
    "\n",
    "print(results)\n",
    "print(df)"
   ],
   "metadata": {
    "collapsed": false,
    "ExecuteTime": {
     "start_time": "2023-05-21T21:07:51.200956Z",
     "end_time": "2023-05-21T21:07:51.326209Z"
    }
   }
  },
  {
   "cell_type": "markdown",
   "source": [
    "# Removing Duplicates with DISTINCT\n",
    "\n",
    "Find all the unique accounts in the account table"
   ],
   "metadata": {
    "collapsed": false
   }
  },
  {
   "cell_type": "markdown",
   "source": [
    "A naive attempt shows all the accounts with repeated customers"
   ],
   "metadata": {
    "collapsed": false
   }
  },
  {
   "cell_type": "code",
   "execution_count": 4,
   "outputs": [
    {
     "data": {
      "text/plain": "   cust_id\n0        1\n1        1\n2        1\n3        2\n4        2\n5        3\n6        3\n7        4\n8        4\n9        4",
      "text/html": "<div>\n<style scoped>\n    .dataframe tbody tr th:only-of-type {\n        vertical-align: middle;\n    }\n\n    .dataframe tbody tr th {\n        vertical-align: top;\n    }\n\n    .dataframe thead th {\n        text-align: right;\n    }\n</style>\n<table border=\"1\" class=\"dataframe\">\n  <thead>\n    <tr style=\"text-align: right;\">\n      <th></th>\n      <th>cust_id</th>\n    </tr>\n  </thead>\n  <tbody>\n    <tr>\n      <th>0</th>\n      <td>1</td>\n    </tr>\n    <tr>\n      <th>1</th>\n      <td>1</td>\n    </tr>\n    <tr>\n      <th>2</th>\n      <td>1</td>\n    </tr>\n    <tr>\n      <th>3</th>\n      <td>2</td>\n    </tr>\n    <tr>\n      <th>4</th>\n      <td>2</td>\n    </tr>\n    <tr>\n      <th>5</th>\n      <td>3</td>\n    </tr>\n    <tr>\n      <th>6</th>\n      <td>3</td>\n    </tr>\n    <tr>\n      <th>7</th>\n      <td>4</td>\n    </tr>\n    <tr>\n      <th>8</th>\n      <td>4</td>\n    </tr>\n    <tr>\n      <th>9</th>\n      <td>4</td>\n    </tr>\n  </tbody>\n</table>\n</div>"
     },
     "execution_count": 4,
     "metadata": {},
     "output_type": "execute_result"
    }
   ],
   "source": [
    "with Session(engine) as session:\n",
    "    df = pd.read_sql_query(\n",
    "        \"\"\"\n",
    "        SELECT\n",
    "            cust_id\n",
    "        FROM\n",
    "            account;\n",
    "        \"\"\",\n",
    "        con=session.connection()\n",
    "    )\n",
    "\n",
    "df.head(10)"
   ],
   "metadata": {
    "collapsed": false,
    "ExecuteTime": {
     "start_time": "2023-05-21T21:07:51.334105Z",
     "end_time": "2023-05-21T21:07:51.370913Z"
    }
   }
  },
  {
   "cell_type": "markdown",
   "source": [
    "We can exclude/remove duplicate customers using the DISTINCT keyword"
   ],
   "metadata": {
    "collapsed": false
   }
  },
  {
   "cell_type": "code",
   "execution_count": 5,
   "outputs": [
    {
     "name": "stdout",
     "output_type": "stream",
     "text": [
      "\"\"\"SELECT DISTINCT account.cust_id \n",
      "FROM account\"\"\"\n",
      "[(1,), (2,), (3,), (4,), (5,), (6,), (7,), (8,), (9,), (10,), (11,), (12,), (13,)]\n",
      "   cust_id\n",
      "0        1\n",
      "1        2\n",
      "2        3\n",
      "3        4\n",
      "4        5\n",
      "5        6\n",
      "6        7\n",
      "7        8\n",
      "8        9\n",
      "9       10\n"
     ]
    }
   ],
   "source": [
    "with Session(engine) as session:\n",
    "    df = pd.read_sql_query(\n",
    "        \"\"\"\n",
    "        SELECT DISTINCT\n",
    "            cust_id\n",
    "        FROM\n",
    "            account;\n",
    "        \"\"\",\n",
    "        con=session.connection()\n",
    "    )\n",
    "\n",
    "    statement = (\n",
    "        select(Account.cust_id).distinct().select_from(Account)\n",
    "    )\n",
    "    print_sql_statement(statement)\n",
    "    results = session.execute(statement).all()\n",
    "\n",
    "print(results)\n",
    "print(df.head(10))"
   ],
   "metadata": {
    "collapsed": false,
    "ExecuteTime": {
     "start_time": "2023-05-21T21:07:51.367583Z",
     "end_time": "2023-05-21T21:07:51.465536Z"
    }
   }
  },
  {
   "cell_type": "markdown",
   "source": [
    "# Returning the Duplicates\n",
    "\n",
    "Find all customers who opened multiple accounts on the same date.\n",
    "\n",
    "In this query, the cust_id an open_date in the accounts could be identical."
   ],
   "metadata": {
    "collapsed": false
   }
  },
  {
   "cell_type": "code",
   "execution_count": 6,
   "outputs": [
    {
     "name": "stdout",
     "output_type": "stream",
     "text": [
      "\"\"\"SELECT account.cust_id, account.open_date, count(:count_2) AS count_1 \n",
      "FROM account GROUP BY account.cust_id, account.open_date \n",
      "HAVING count(:count_3) > :count_4\"\"\"\n",
      "[(1, datetime.date(2000, 1, 15), 2), (2, datetime.date(2001, 3, 12), 2), (8, datetime.date(2001, 5, 23), 2)]\n",
      "   cust_id   open_date  COUNT(*)\n",
      "0        1  2000-01-15         2\n",
      "1        2  2001-03-12         2\n",
      "2        8  2001-05-23         2\n"
     ]
    }
   ],
   "source": [
    "with Session(engine) as session:\n",
    "    df = pd.read_sql_query(\n",
    "        \"\"\"\n",
    "        SELECT\n",
    "            a.cust_id\n",
    "            , a.open_date\n",
    "            , COUNT(*)\n",
    "        FROM\n",
    "            account a\n",
    "        GROUP BY a.cust_id, a.open_date\n",
    "        HAVING COUNT(*) > 1;\n",
    "        \"\"\",\n",
    "        con=session.connection()\n",
    "    )\n",
    "\n",
    "    statement = (\n",
    "        select(\n",
    "            Account.cust_id,\n",
    "            Account.open_date,\n",
    "            func.count(\"*\")\n",
    "        ).select_from(Account)\n",
    "        .group_by(Account.cust_id, Account.open_date)\n",
    "        .having(func.count(\"*\") > 1)\n",
    "    )\n",
    "    print_sql_statement(statement)\n",
    "    results = session.execute(statement).all()\n",
    "\n",
    "print(results)\n",
    "print(df.head(10))"
   ],
   "metadata": {
    "collapsed": false,
    "ExecuteTime": {
     "start_time": "2023-05-21T21:07:51.392504Z",
     "end_time": "2023-05-21T21:07:51.602586Z"
    }
   }
  },
  {
   "cell_type": "markdown",
   "source": [
    "# Subquery Generated Tables\n",
    "\n",
    "Get all employees ID, first name, and last name all capitalized. While this subquery is useless since the subquery could have been performed in the outer select, this goes to show the power of subqueries.\n"
   ],
   "metadata": {
    "collapsed": false
   }
  },
  {
   "cell_type": "code",
   "execution_count": 7,
   "outputs": [
    {
     "name": "stdout",
     "output_type": "stream",
     "text": [
      "\"\"\"SELECT eu.emp_id_upper AS \"ID\", eu.fname_upper AS \"FNAME\", eu.lname_upper AS \"LNAME\" \n",
      "FROM (SELECT upper(CAST(employee.emp_id AS CHAR)) AS emp_id_upper, upper(employee.fname) AS fname_upper, upper(employee.lname) AS lname_upper \n",
      "FROM employee) AS eu\"\"\"\n",
      "[('1', 'MICHAEL', 'SMITH'), ('2', 'SUSAN', 'BARKER'), ('3', 'ROBERT', 'TYLER'), ('4', 'SUSAN', 'HAWTHORNE'), ('5', 'JOHN', 'GOODING'), ('6', 'HELEN', 'FLEMING'), ('7', 'CHRIS', 'TUCKER'), ('8', 'SARAH', 'PARKER'), ('9', 'JANE', 'GROSSMAN'), ('10', 'PAULA', 'ROBERTS'), ('11', 'THOMAS', 'ZIEGLER'), ('12', 'SAMANTHA', 'JAMESON'), ('13', 'JOHN', 'BLAKE'), ('14', 'CINDY', 'MASON'), ('15', 'FRANK', 'PORTMAN'), ('16', 'THERESA', 'MARKHAM'), ('17', 'BETH', 'FOWLER'), ('18', 'RICK', 'TULMAN')]\n",
      "   ID    FNAME      LNAME\n",
      "0   1  MICHAEL      SMITH\n",
      "1   2    SUSAN     BARKER\n",
      "2   3   ROBERT      TYLER\n",
      "3   4    SUSAN  HAWTHORNE\n",
      "4   5     JOHN    GOODING\n",
      "5   6    HELEN    FLEMING\n",
      "6   7    CHRIS     TUCKER\n",
      "7   8    SARAH     PARKER\n",
      "8   9     JANE   GROSSMAN\n",
      "9  10    PAULA    ROBERTS\n"
     ]
    }
   ],
   "source": [
    "from sqlalchemy.orm import aliased\n",
    "\n",
    "with Session(engine) as session:\n",
    "    df = pd.read_sql_query(\n",
    "        \"\"\"\n",
    "        SELECT\n",
    "            eu.emp_id_upper ID\n",
    "            , eu.fname_upper FNAME\n",
    "            , eu.lname_upper LNAME\n",
    "        FROM (\n",
    "            SELECT\n",
    "                UPPER(CAST(e.emp_id AS CHAR)) emp_id_upper\n",
    "                , UPPER(e.fname) fname_upper\n",
    "                , UPPER(e.lname) lname_upper\n",
    "            FROM employee e\n",
    "        ) eu;\n",
    "        \"\"\",\n",
    "        con=session.connection()\n",
    "    )\n",
    "\n",
    "    eu = select(\n",
    "        func.upper(func.cast(Employee.emp_id, CHAR)).label(\"emp_id_upper\"),\n",
    "        func.upper(Employee.fname).label(\"fname_upper\"),\n",
    "        func.upper(Employee.lname).label(\"lname_upper\")\n",
    "    ).select_from(Employee).subquery(\"eu\")\n",
    "    # Note that since special labels have been introduced, the subquery\n",
    "    # column operator 'c' must be used\n",
    "    statement = select(\n",
    "        eu.c[\"emp_id_upper\"].label(\"ID\"),\n",
    "        eu.c[\"fname_upper\"].label(\"FNAME\"),\n",
    "        eu.c[\"lname_upper\"].label(\"LNAME\")\n",
    "    ).select_from(eu)\n",
    "\n",
    "    print_sql_statement(statement)\n",
    "    results = session.execute(statement).all()\n",
    "\n",
    "print(results)\n",
    "print(df.head(10))"
   ],
   "metadata": {
    "collapsed": false,
    "ExecuteTime": {
     "start_time": "2023-05-21T21:07:51.444129Z",
     "end_time": "2023-05-21T21:07:51.635612Z"
    }
   }
  },
  {
   "cell_type": "markdown",
   "source": [
    "# Views (AKA Virtual Tables)\n",
    "\n",
    "A view is a query stored in the data dictionary. It does not hold any data so it can be thought of as a \"virtual table\".\n",
    "\n",
    "The SQLAlcehmy recipe to create a view is complex and won't be discussed here, but the recipe is\n",
    "https://web.archive.org/web/20230107211001/https://github.com/sqlalchemy/sqlalchemy/wiki/Views"
   ],
   "metadata": {
    "collapsed": false
   }
  },
  {
   "cell_type": "code",
   "execution_count": 12,
   "outputs": [
    {
     "name": "stdout",
     "output_type": "stream",
     "text": [
      "    emp_id  start_year\n",
      "0        1        2001\n",
      "1        2        2002\n",
      "2        3        2000\n",
      "3        4        2002\n",
      "4        5        2003\n",
      "5        6        2004\n",
      "6        7        2004\n",
      "7        8        2002\n",
      "8        9        2002\n",
      "9       10        2002\n",
      "10      11        2000\n",
      "11      12        2003\n",
      "12      13        2000\n",
      "13      14        2002\n",
      "14      15        2003\n",
      "15      16        2001\n",
      "16      17        2002\n",
      "17      18        2002\n"
     ]
    }
   ],
   "source": [
    "import mysql.connector\n",
    "\n",
    "mysql_connection = mysql.connector.connect(\n",
    "    user=os.environ[\"DB_USER\"],\n",
    "    password=os.environ[\"DB_PASSWD\"],\n",
    "    host=os.environ[\"DB_HOST\"],\n",
    "    database=os.environ[\"DB_NAME\"]\n",
    ")\n",
    "\n",
    "with mysql_connection.cursor() as cursor:\n",
    "    create_view_statement = (\n",
    "        \"\"\"\n",
    "        CREATE VIEW employee_vw AS\n",
    "        SELECT\n",
    "            emp_id\n",
    "            , fname\n",
    "            , lname\n",
    "            , YEAR(start_date) start_year\n",
    "        FROM employee;\n",
    "        \"\"\"\n",
    "    )\n",
    "    select_from_view_statement = (\n",
    "        \"\"\"\n",
    "        SELECT\n",
    "             emp_id, start_year\n",
    "         FROM\n",
    "             employee_vw;\n",
    "        \"\"\"\n",
    "    )\n",
    "    drop_view_statement = (\n",
    "        \"\"\"DROP VIEW IF EXISTS employee_vw\"\"\"\n",
    "    )\n",
    "    cursor.execute(drop_view_statement)\n",
    "    cursor.execute(create_view_statement)\n",
    "    cursor.execute(select_from_view_statement)\n",
    "    employee_ids, start_years = zip(\n",
    "        *tuple(result for result in cursor)\n",
    "    )\n",
    "    df = pd.DataFrame(\n",
    "        data={\n",
    "            \"emp_id\": employee_ids,\n",
    "            \"start_year\": start_years\n",
    "        }\n",
    "    )\n",
    "    cursor.execute(drop_view_statement)\n",
    "\n",
    "print(df)"
   ],
   "metadata": {
    "collapsed": false,
    "ExecuteTime": {
     "start_time": "2023-05-21T21:14:13.646403Z",
     "end_time": "2023-05-21T21:14:13.785126Z"
    }
   }
  },
  {
   "cell_type": "code",
   "execution_count": 8,
   "outputs": [],
   "source": [],
   "metadata": {
    "collapsed": false,
    "ExecuteTime": {
     "start_time": "2023-05-21T21:07:51.544985Z",
     "end_time": "2023-05-21T21:07:51.728049Z"
    }
   }
  }
 ],
 "metadata": {
  "kernelspec": {
   "display_name": "Python 3",
   "language": "python",
   "name": "python3"
  },
  "language_info": {
   "codemirror_mode": {
    "name": "ipython",
    "version": 2
   },
   "file_extension": ".py",
   "mimetype": "text/x-python",
   "name": "python",
   "nbconvert_exporter": "python",
   "pygments_lexer": "ipython2",
   "version": "2.7.6"
  }
 },
 "nbformat": 4,
 "nbformat_minor": 0
}
