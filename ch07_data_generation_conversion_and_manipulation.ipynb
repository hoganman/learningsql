{
 "cells": [
  {
   "cell_type": "markdown",
   "source": [
    "# Chapter 7: Data Generation, Conversion, and Manipulation\n",
    "\n",
    "SQL has the following string features\n",
    "    * Generation with `CHAR(UINT)`,\n",
    "    * Manipulation with `POSITION(varchar IN varchar)`,\n",
    "    * Location with `LOCATE(search, reference, location)`,\n",
    "    * Comparison with `STRCMP(left, right)`,\n",
    "    * Concatenation with `CONCAT(string1, string2, ..., stringN)`\n",
    "\n",
    "There are numeric functions like `POW(X, Y)`, ceil and floor, truncation using `TRUNCATE(value, precision)`\n",
    "\n",
    "There are datetime functions like `CAST(value AS TYPE)` and date difference using `DATEDIFF(date1, date2)`"
   ],
   "metadata": {
    "collapsed": false
   }
  },
  {
   "cell_type": "code",
   "execution_count": 1,
   "outputs": [],
   "source": [
    "import os\n",
    "\n",
    "from dotenv import load_dotenv\n",
    "from sqlalchemy import create_engine, URL, select, func\n",
    "from sqlalchemy.orm import Session\n",
    "import pandas as pd\n",
    "\n",
    "from utils import print_sql_statement\n",
    "\n",
    "\n",
    "load_dotenv()\n",
    "\n",
    "url_object = URL.create(\n",
    "    os.environ[\"DB_ENGINE\"],\n",
    "    username=os.environ[\"DB_USER\"],\n",
    "    password=os.environ[\"DB_PASSWD\"],\n",
    "    host=os.environ[\"DB_HOST\"],\n",
    "    database=os.environ[\"DB_NAME\"],\n",
    ")\n",
    "\n",
    "engine = create_engine(url_object)"
   ],
   "metadata": {
    "collapsed": false,
    "ExecuteTime": {
     "end_time": "2023-05-29T01:14:24.585919Z",
     "start_time": "2023-05-29T01:14:21.682250Z"
    }
   }
  },
  {
   "cell_type": "markdown",
   "source": [
    "# Exercise\n",
    "\n",
    "## 7-1\n",
    "Write a query that returns the 17th through 25th characters of the sting \"Please find the substring in this string\"\n",
    "\n",
    "## 7-2\n",
    "Write a query that returns the absolute value and sign of the number -25.76823. Also return the number rounded to the nearest hundredth\n",
    "\n",
    "## 7-3\n",
    "Write a query to return just the month portion of the current date."
   ],
   "metadata": {
    "collapsed": false
   }
  },
  {
   "cell_type": "code",
   "execution_count": 8,
   "outputs": [
    {
     "name": "stdout",
     "output_type": "stream",
     "text": [
      "\"\"\"SELECT substring('Please find the substring in this string', :substring_2, :substring_3) AS substring_1\"\"\"\n",
      "                      chars\n",
      "0  substring in this string\n",
      "[('substring in this string',)]\n"
     ]
    }
   ],
   "source": [
    "# 7-1\n",
    "from sqlalchemy import func, text\n",
    "\n",
    "\n",
    "with Session(engine) as session:\n",
    "    df = pd.read_sql_query(\n",
    "        \"\"\"\n",
    "            SELECT\n",
    "                SUBSTRING('Please find the substring in this string', 17, 25) chars\n",
    "            ;\n",
    "        \"\"\",\n",
    "        con=session.connection()\n",
    "    )\n",
    "\n",
    "    statement = (\n",
    "        select(\n",
    "            func.substring(text(\"'Please find the substring in this string'\"), 17, 25)\n",
    "        )\n",
    "    )\n",
    "    print_sql_statement(statement)\n",
    "    results = session.execute(statement).all()\n",
    "\n",
    "print(df)\n",
    "print(results)"
   ],
   "metadata": {
    "collapsed": false,
    "ExecuteTime": {
     "end_time": "2023-05-29T01:19:33.479759Z",
     "start_time": "2023-05-29T01:19:33.414766Z"
    }
   }
  },
  {
   "cell_type": "code",
   "execution_count": 14,
   "outputs": [
    {
     "name": "stdout",
     "output_type": "stream",
     "text": [
      "       absv  sgn   trun    rnd\n",
      "0  25.76823   -1 -25.76 -25.77\n",
      "[(Decimal('25.76823'), -1, Decimal('-25.76'), Decimal('-25.77'))]\n"
     ]
    }
   ],
   "source": [
    "# 7-2\n",
    "\n",
    "with Session(engine) as session:\n",
    "    df = pd.read_sql_query(\n",
    "        \"\"\"\n",
    "            SELECT\n",
    "                ABS(-25.76823) absv\n",
    "                , SIGN(-25.76823) sgn\n",
    "                , TRUNCATE(-25.76823, 2) trun\n",
    "                , ROUND(-25.76823, 2) rnd\n",
    "            ;\n",
    "        \"\"\",\n",
    "        con=session.connection()\n",
    "    )\n",
    "\n",
    "    statement = (\n",
    "        select(\n",
    "            func.abs(-25.76823),\n",
    "            func.sign(-25.76823),\n",
    "            func.truncate(-25.76823, 2),\n",
    "            func.round(-25.76823, 2)\n",
    "        )\n",
    "    )\n",
    "    results = session.execute(statement).all()\n",
    "\n",
    "print(df)\n",
    "print(results)"
   ],
   "metadata": {
    "collapsed": false,
    "ExecuteTime": {
     "end_time": "2023-05-29T01:23:40.990689Z",
     "start_time": "2023-05-29T01:23:40.885342Z"
    }
   }
  },
  {
   "cell_type": "code",
   "execution_count": 28,
   "outputs": [
    {
     "name": "stdout",
     "output_type": "stream",
     "text": [
      "       fname      lname  start_month\n",
      "0    Michael      Smith            6\n",
      "1      Susan     Barker            9\n",
      "2     Robert      Tyler            2\n",
      "3      Susan  Hawthorne            4\n",
      "4       John    Gooding           11\n",
      "5      Helen    Fleming            3\n",
      "6      Chris     Tucker            9\n",
      "7      Sarah     Parker           12\n",
      "8       Jane   Grossman            5\n",
      "9      Paula    Roberts            7\n",
      "10    Thomas    Ziegler           10\n",
      "11  Samantha    Jameson            1\n",
      "12      John      Blake            5\n",
      "13     Cindy      Mason            8\n",
      "14     Frank    Portman            4\n",
      "15   Theresa    Markham            3\n",
      "16      Beth     Fowler            6\n",
      "17      Rick     Tulman           12\n",
      "[('Michael', 'Smith', 6), ('Susan', 'Barker', 9), ('Robert', 'Tyler', 2), ('Susan', 'Hawthorne', 4), ('John', 'Gooding', 11), ('Helen', 'Fleming', 3), ('Chris', 'Tucker', 9), ('Sarah', 'Parker', 12), ('Jane', 'Grossman', 5), ('Paula', 'Roberts', 7), ('Thomas', 'Ziegler', 10), ('Samantha', 'Jameson', 1), ('John', 'Blake', 5), ('Cindy', 'Mason', 8), ('Frank', 'Portman', 4), ('Theresa', 'Markham', 3), ('Beth', 'Fowler', 6), ('Rick', 'Tulman', 12)]\n"
     ]
    }
   ],
   "source": [
    "# 7-3\n",
    "# Let's change the prompt to the month of the employee's start date\n",
    "from model import Employee\n",
    "\n",
    "\n",
    "with Session(engine) as session:\n",
    "    df = pd.read_sql_query(\n",
    "        \"\"\"\n",
    "            SELECT\n",
    "                fname\n",
    "                , lname\n",
    "                , EXTRACT(MONTH FROM start_date) start_month\n",
    "            FROM\n",
    "                employee\n",
    "            ;\n",
    "        \"\"\",\n",
    "        con=session.connection()\n",
    "    )\n",
    "\n",
    "    statement = (\n",
    "        select(\n",
    "            Employee.fname,\n",
    "            Employee.lname,\n",
    "            func.extract(\"MONTH\", Employee.start_date)\n",
    "        )\n",
    "    )\n",
    "    results = session.execute(statement).all()\n",
    "    new_results = [\n",
    "        (emp.fname, emp.lname, emp.start_date.month)\n",
    "        for emp in session.query(Employee)\n",
    "    ]\n",
    "\n",
    "print(df)\n",
    "print(results)\n",
    "assert set(results) == set(new_results)"
   ],
   "metadata": {
    "collapsed": false,
    "ExecuteTime": {
     "end_time": "2023-05-29T01:31:50.340059Z",
     "start_time": "2023-05-29T01:31:50.219262Z"
    }
   }
  },
  {
   "cell_type": "code",
   "execution_count": null,
   "outputs": [],
   "source": [],
   "metadata": {
    "collapsed": false
   }
  }
 ],
 "metadata": {
  "kernelspec": {
   "display_name": "Python 3",
   "language": "python",
   "name": "python3"
  },
  "language_info": {
   "codemirror_mode": {
    "name": "ipython",
    "version": 2
   },
   "file_extension": ".py",
   "mimetype": "text/x-python",
   "name": "python",
   "nbconvert_exporter": "python",
   "pygments_lexer": "ipython2",
   "version": "2.7.6"
  }
 },
 "nbformat": 4,
 "nbformat_minor": 0
}
