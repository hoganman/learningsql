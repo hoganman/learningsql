{
 "cells": [
  {
   "cell_type": "markdown",
   "source": [
    "# Chapter 8: Grouping and Aggregates\n"
   ],
   "metadata": {
    "collapsed": false
   }
  },
  {
   "cell_type": "code",
   "execution_count": 1,
   "outputs": [],
   "source": [
    "import os\n",
    "\n",
    "from dotenv import load_dotenv\n",
    "from sqlalchemy import create_engine, URL, select, func\n",
    "from sqlalchemy.orm import Session\n",
    "import pandas as pd\n",
    "\n",
    "from utils import print_sql_statement\n",
    "\n",
    "\n",
    "load_dotenv()\n",
    "\n",
    "url_object = URL.create(\n",
    "    os.environ[\"DB_ENGINE\"],\n",
    "    username=os.environ[\"DB_USER\"],\n",
    "    password=os.environ[\"DB_PASSWD\"],\n",
    "    host=os.environ[\"DB_HOST\"],\n",
    "    database=os.environ[\"DB_NAME\"],\n",
    ")\n",
    "\n",
    "engine = create_engine(url_object)"
   ],
   "metadata": {
    "collapsed": false,
    "ExecuteTime": {
     "end_time": "2023-05-31T22:01:48.342505Z",
     "start_time": "2023-05-31T22:01:47.500935Z"
    }
   }
  },
  {
   "cell_type": "markdown",
   "source": [
    "## Grouping by expressions\n",
    "\n",
    "Count the number of employees hired by branch and year"
   ],
   "metadata": {
    "collapsed": false
   }
  },
  {
   "cell_type": "code",
   "execution_count": 2,
   "outputs": [
    {
     "name": "stdout",
     "output_type": "stream",
     "text": [
      "\"\"\"SELECT branch.name AS branch, EXTRACT(YEAR FROM employee.start_date) AS year, count(:param_1) AS how_many \n",
      "FROM employee JOIN branch ON branch.branch_id = employee.assigned_branch_id GROUP BY EXTRACT(YEAR FROM employee.start_date), branch.name ORDER BY EXTRACT(YEAR FROM employee.start_date), branch.name\"\"\"\n",
      "           branch  year  how_many\n",
      "0    Headquarters  2000         1\n",
      "1   Quincy Branch  2000         1\n",
      "2   Woburn Branch  2000         1\n",
      "3    Headquarters  2001         1\n",
      "4   So. NH Branch  2001         1\n",
      "5    Headquarters  2002         4\n",
      "6   Quincy Branch  2002         1\n",
      "7   So. NH Branch  2002         2\n",
      "8   Woburn Branch  2002         1\n",
      "9    Headquarters  2003         1\n",
      "10  Quincy Branch  2003         1\n",
      "11  Woburn Branch  2003         1\n",
      "12   Headquarters  2004         2\n",
      "[('Headquarters', 2000, 1), ('Quincy Branch', 2000, 1), ('Woburn Branch', 2000, 1), ('Headquarters', 2001, 1), ('So. NH Branch', 2001, 1), ('Headquarters', 2002, 4), ('Quincy Branch', 2002, 1), ('So. NH Branch', 2002, 2), ('Woburn Branch', 2002, 1), ('Headquarters', 2003, 1), ('Quincy Branch', 2003, 1), ('Woburn Branch', 2003, 1), ('Headquarters', 2004, 2)]\n"
     ]
    }
   ],
   "source": [
    "from collections import Counter\n",
    "\n",
    "from sqlalchemy import literal\n",
    "\n",
    "from model import Branch, Employee\n",
    "\n",
    "\n",
    "with Session(engine) as session:\n",
    "\n",
    "    # Using a raw query\n",
    "    df = pd.read_sql_query(\n",
    "        \"\"\"\n",
    "        SELECT\n",
    "            b.name branch\n",
    "            , EXTRACT(YEAR FROM e.start_date) year\n",
    "            , COUNT(*) how_many\n",
    "        FROM employee\n",
    "        e JOIN branch b ON e.assigned_branch_id = b.branch_id\n",
    "        GROUP BY EXTRACT(YEAR FROM e.start_date), branch\n",
    "        ORDER BY EXTRACT(YEAR FROM e.start_date) ASC\n",
    "        \"\"\",\n",
    "        con=session.connection()\n",
    "    )\n",
    "\n",
    "    # Using SQLAlchemy functions\n",
    "    statement = (\n",
    "        select(\n",
    "            Branch.name.label(\"branch\"),\n",
    "            func.extract(\"YEAR\", Employee.start_date).label(\"year\"),\n",
    "            func.count(literal(\"*\")).label(\"how_many\")\n",
    "        )\n",
    "        .select_from(Employee)\n",
    "        .join(\n",
    "            Branch,\n",
    "            Branch.branch_id == Employee.assigned_branch_id\n",
    "        )\n",
    "        .group_by(\n",
    "            func.extract(\"YEAR\", Employee.start_date),\n",
    "            Branch.name\n",
    "        )\n",
    "        .order_by(\n",
    "            func.extract(\"YEAR\", Employee.start_date),\n",
    "            Branch.name\n",
    "        )\n",
    "    )\n",
    "    print_sql_statement(statement)\n",
    "    results = session.execute(statement).all()\n",
    "\n",
    "    # Using the SQLalchemy ORM relationships with native Python\n",
    "    new_results = sorted(\n",
    "        [\n",
    "            # Each row is name, year, count\n",
    "            (*key, count) for (key, count) in\n",
    "            # Count the group (name, year)\n",
    "            Counter(\n",
    "                (emp.employee_branch.name, emp.start_date.year)\n",
    "                for emp in session.query(Employee)\n",
    "            )\n",
    "            .items()\n",
    "        ],\n",
    "        # Order by year then name\n",
    "        key=lambda tup: tuple(reversed(tup[:2]))\n",
    "    )\n",
    "\n",
    "print(df)\n",
    "print(results)\n",
    "assert results == new_results"
   ],
   "metadata": {
    "collapsed": false,
    "ExecuteTime": {
     "end_time": "2023-05-31T22:01:48.513694Z",
     "start_time": "2023-05-31T22:01:48.352160Z"
    }
   }
  },
  {
   "cell_type": "markdown",
   "source": [
    "# Rollup\n",
    "\n",
    "Find the total balance of every product per opening branch and the sum total of the product itself.\n",
    "\n",
    "Using the rollup functionality, a column can be aggregated per grouping."
   ],
   "metadata": {
    "collapsed": false
   }
  },
  {
   "cell_type": "code",
   "execution_count": 20,
   "outputs": [
    {
     "name": "stdout",
     "output_type": "stream",
     "text": [
      "\"\"\"SELECT account.product_cd, branch.name, sum(account.avail_balance) AS tot_balance \n",
      "FROM account JOIN branch ON account.open_branch_id = branch.branch_id GROUP BY ROLLUP(account.product_cd, branch.name)\"\"\"\n",
      "   product_cd           name  tot_balance\n",
      "0         BUS  So. NH Branch         0.00\n",
      "1         BUS  Woburn Branch      9345.55\n",
      "2         BUS           None      9345.55\n",
      "3          CD   Headquarters     11500.00\n",
      "4          CD  Woburn Branch      8000.00\n",
      "5          CD           None     19500.00\n",
      "6         CHK   Headquarters       782.16\n",
      "7         CHK  Quincy Branch      1057.75\n",
      "8         CHK  So. NH Branch     67852.33\n",
      "9         CHK  Woburn Branch      3315.77\n",
      "10        CHK           None     73008.01\n",
      "11         MM   Headquarters     14832.64\n",
      "12         MM  Quincy Branch      2212.50\n",
      "13         MM           None     17045.14\n",
      "14        SAV   Headquarters       767.77\n",
      "15        SAV  So. NH Branch       387.99\n",
      "16        SAV  Woburn Branch       700.00\n",
      "17        SAV           None      1855.76\n",
      "18        SBL  Quincy Branch     50000.00\n",
      "19        SBL           None     50000.00\n",
      "20       None           None    170754.46\n",
      "[('BUS', 'So. NH Branch', 0.0), ('BUS', 'Woburn Branch', 9345.55), ('BUS', None, 9345.55), ('CD', 'Headquarters', 11500.0), ('CD', 'Woburn Branch', 8000.0), ('CD', None, 19500.0), ('CHK', 'Headquarters', 782.16), ('CHK', 'Quincy Branch', 1057.75), ('CHK', 'So. NH Branch', 67852.33), ('CHK', 'Woburn Branch', 3315.77), ('CHK', None, 73008.01), ('MM', 'Headquarters', 14832.64), ('MM', 'Quincy Branch', 2212.5), ('MM', None, 17045.14), ('SAV', 'Headquarters', 767.77), ('SAV', 'So. NH Branch', 387.99), ('SAV', 'Woburn Branch', 700.0), ('SAV', None, 1855.76), ('SBL', 'Quincy Branch', 50000.0), ('SBL', None, 50000.0), (None, None, 170754.46)]\n"
     ]
    }
   ],
   "source": [
    "from typing import Final\n",
    "\n",
    "from model import Account, Branch\n",
    "\n",
    "\n",
    "with Session(engine) as session:\n",
    "\n",
    "    df = pd.read_sql_query(\n",
    "        \"\"\"\n",
    "        SELECT\n",
    "            a.product_cd\n",
    "            , b.name\n",
    "            , SUM(a.avail_balance) tot_balance\n",
    "        FROM\n",
    "            account\n",
    "        a JOIN branch b ON a.open_branch_id = b.branch_id\n",
    "        GROUP BY a.product_cd, b.name WITH ROLLUP;\n",
    "        \"\"\",\n",
    "        con=session.connection()\n",
    "    )\n",
    "\n",
    "    statement = (\n",
    "        select(\n",
    "            Account.product_cd,\n",
    "            Branch.name,\n",
    "            func.sum(Account.avail_balance).label(\"tot_balance\")\n",
    "        )\n",
    "        .select_from(Account)\n",
    "        .join(Branch, Account.open_branch_id == Branch.branch_id)\n",
    "        .group_by(\n",
    "            func.rollup(\n",
    "                Account.product_cd,\n",
    "                Branch.name\n",
    "            )\n",
    "        )\n",
    "    )\n",
    "    print_sql_statement(statement)\n",
    "    results = session.execute(statement).all()\n",
    "\n",
    "    # Using the SQLalchemy ORM relationships with native Python\n",
    "    key_all_products_rollup: Final[tuple] = (None, None)\n",
    "    total_balance_data: dict[tuple, float] = {\n",
    "        key_all_products_rollup: 0.\n",
    "    }\n",
    "    open_branch: Branch\n",
    "    for acct in session.query(Account):\n",
    "        open_branch = acct.account_open_branch\n",
    "        product_cd = acct.product_cd\n",
    "        key = (product_cd, open_branch.name)\n",
    "        key_rollup = (product_cd, None)\n",
    "        if key not in total_balance_data:\n",
    "            total_balance_data[key] = 0.\n",
    "        if key_rollup not in total_balance_data:\n",
    "            total_balance_data[key_rollup] = 0.\n",
    "        total_balance_data[key] += acct.avail_balance\n",
    "        total_balance_data[key_rollup] += acct.avail_balance\n",
    "        total_balance_data[key_all_products_rollup] += acct.avail_balance\n",
    "    new_results = set(\n",
    "        (*key, round(value, 2))\n",
    "        for (key, value) in total_balance_data.items()\n",
    "    )\n",
    "\n",
    "print(df)\n",
    "print(results)\n",
    "assert set(results) == new_results"
   ],
   "metadata": {
    "collapsed": false,
    "ExecuteTime": {
     "end_time": "2023-05-31T22:17:31.628988Z",
     "start_time": "2023-05-31T22:17:31.543Z"
    }
   }
  },
  {
   "cell_type": "markdown",
   "source": [
    "# Group Filtering Conditions\n",
    "\n",
    "Find all the active accounts and find the total balances greater than 10,000.\n",
    "\n",
    "This is where the GROUP BY - HAVING syntax comes into play. The aggregate filter condition must be in the HAVING clause as the WHERE clause is evaluated before the GROUP BY clause"
   ],
   "metadata": {
    "collapsed": false
   }
  },
  {
   "cell_type": "code",
   "execution_count": 31,
   "outputs": [
    {
     "name": "stdout",
     "output_type": "stream",
     "text": [
      "\"\"\"SELECT account.product_cd, sum(account.avail_balance) AS sum_1 \n",
      "FROM account \n",
      "WHERE account.status = :status_1 GROUP BY account.product_cd \n",
      "HAVING sum(account.avail_balance) >= :sum_2\"\"\"\n",
      "  product_cd  prod_balance\n",
      "0         CD      19500.00\n",
      "1        CHK      73008.01\n",
      "2         MM      17045.14\n",
      "3        SBL      50000.00\n",
      "[('CD', 19500.0), ('CHK', 73008.01), ('MM', 17045.14), ('SBL', 50000.0)]\n"
     ]
    }
   ],
   "source": [
    "from model import AccountStatusEnum\n",
    "\n",
    "with Session(engine) as session:\n",
    "\n",
    "    df = pd.read_sql_query(\n",
    "        \"\"\"\n",
    "        SELECT\n",
    "            a.product_cd\n",
    "            , SUM(a.avail_balance) prod_balance\n",
    "        FROM\n",
    "            account a\n",
    "        WHERE a.status = 'ACTIVE'\n",
    "        GROUP BY a.product_cd\n",
    "        HAVING SUM(a.avail_balance) >= 10000\n",
    "        ;\n",
    "        \"\"\",\n",
    "        con=session.connection()\n",
    "    )\n",
    "    statement = (\n",
    "        select(\n",
    "            Account.product_cd,\n",
    "            func.sum(Account.avail_balance)\n",
    "        )\n",
    "        .where(Account.status == AccountStatusEnum.ACTIVE)\n",
    "        .group_by(Account.product_cd)\n",
    "        .having(func.sum(Account.avail_balance) >= 10_000)\n",
    "    )\n",
    "    print_sql_statement(statement)\n",
    "    results = session.execute(statement).all()\n",
    "\n",
    "    # Using the SQLalchemy ORM relationships with native Python\n",
    "    prod_balance_data: dict[str, float] = {}\n",
    "    for acct in session.query(Account):\n",
    "        if acct.status != AccountStatusEnum.ACTIVE:\n",
    "            continue\n",
    "        product_cd = acct.product_cd\n",
    "        if product_cd not in prod_balance_data:\n",
    "            prod_balance_data[product_cd] = 0.\n",
    "        prod_balance_data[product_cd] += acct.avail_balance\n",
    "    new_results = set(\n",
    "        (product_cd, round(balance, 2))\n",
    "        for (product_cd, balance) in prod_balance_data.items()\n",
    "        if balance >= 10_000\n",
    "    )\n",
    "\n",
    "print(df)\n",
    "print(results)\n",
    "assert new_results == set(results)"
   ],
   "metadata": {
    "collapsed": false,
    "ExecuteTime": {
     "end_time": "2023-06-01T19:20:15.772922Z",
     "start_time": "2023-06-01T19:20:15.741399Z"
    }
   }
  },
  {
   "cell_type": "markdown",
   "source": [
    "# Exercises\n",
    "\n",
    "## 8-1\n",
    "Construct a query that counts the number of rows in the account table.\n",
    "\n",
    "## 8-2\n",
    "Modify your query from exercise 8-1 to count the numer of account held by each customer. Show the customer ID and the number of accounts for each customer.\n",
    "\n",
    "## 8-3\n",
    "Modify your query from exercise 8-2 to only include those customers having at least two accounts\n",
    "\n",
    "## 8-4\n",
    "Find the total available balance by product and branch when there is more than account per product and branch. Order the results by total balance (highest to lowest).\n"
   ],
   "metadata": {
    "collapsed": false
   }
  },
  {
   "cell_type": "code",
   "execution_count": 33,
   "outputs": [
    {
     "name": "stdout",
     "output_type": "stream",
     "text": [
      "   cnt\n",
      "0   24\n",
      "24\n"
     ]
    }
   ],
   "source": [
    "## 8-1\n",
    "\n",
    "with Session(engine) as session:\n",
    "\n",
    "    df = pd.read_sql_query(\n",
    "        \"\"\"\n",
    "            SELECT\n",
    "                COUNT(*) cnt\n",
    "            FROM\n",
    "                account;\n",
    "        \"\"\",\n",
    "        con=session.connection()\n",
    "    )\n",
    "    results = session.query(Account).count()\n",
    "\n",
    "print(df)\n",
    "print(results)"
   ],
   "metadata": {
    "collapsed": false,
    "ExecuteTime": {
     "end_time": "2023-06-01T19:46:05.930180Z",
     "start_time": "2023-06-01T19:46:05.891999Z"
    }
   }
  },
  {
   "cell_type": "code",
   "execution_count": 40,
   "outputs": [
    {
     "name": "stdout",
     "output_type": "stream",
     "text": [
      "    cust_id  n_acct\n",
      "0         1       3\n",
      "1         2       2\n",
      "2         3       2\n",
      "3         4       3\n",
      "4         5       1\n",
      "5         6       2\n",
      "6         7       1\n",
      "7         8       2\n",
      "8         9       3\n",
      "9        10       2\n",
      "10       11       1\n",
      "11       12       1\n",
      "12       13       1\n",
      "Counter({1: 3, 4: 3, 9: 3, 2: 2, 3: 2, 6: 2, 8: 2, 10: 2, 5: 1, 7: 1, 11: 1, 12: 1, 13: 1})\n"
     ]
    }
   ],
   "source": [
    "## 8-2\n",
    "from collections import Counter\n",
    "\n",
    "\n",
    "with Session(engine) as session:\n",
    "\n",
    "    df = pd.read_sql_query(\n",
    "        \"\"\"\n",
    "            SELECT\n",
    "                a.cust_id cust_id\n",
    "                , COUNT(a.cust_id) n_acct\n",
    "            FROM\n",
    "                account a\n",
    "            GROUP BY a.cust_id\n",
    "        \"\"\",\n",
    "        con=session.connection()\n",
    "    )\n",
    "    results = Counter(\n",
    "        acct.cust_id\n",
    "        for acct in session.query(Account)\n",
    "    )\n",
    "\n",
    "print(df)\n",
    "print(results)"
   ],
   "metadata": {
    "collapsed": false,
    "ExecuteTime": {
     "end_time": "2023-06-01T19:55:52.944279Z",
     "start_time": "2023-06-01T19:55:52.860147Z"
    }
   }
  },
  {
   "cell_type": "code",
   "execution_count": 42,
   "outputs": [
    {
     "name": "stdout",
     "output_type": "stream",
     "text": [
      "   cust_id  n_acct\n",
      "0        1       3\n",
      "1        2       2\n",
      "2        3       2\n",
      "3        4       3\n",
      "4        6       2\n",
      "5        8       2\n",
      "6        9       3\n",
      "7       10       2\n",
      "[(1, 3), (2, 2), (3, 2), (4, 3), (6, 2), (8, 2), (9, 3), (10, 2)]\n"
     ]
    }
   ],
   "source": [
    "## 8-3\n",
    "from collections import Counter\n",
    "\n",
    "\n",
    "with Session(engine) as session:\n",
    "\n",
    "    df = pd.read_sql_query(\n",
    "        \"\"\"\n",
    "            SELECT\n",
    "                a.cust_id cust_id\n",
    "                , COUNT(a.cust_id) n_acct\n",
    "            FROM\n",
    "                account a\n",
    "            GROUP BY a.cust_id\n",
    "            HAVING COUNT(a.cust_id) > 1\n",
    "        \"\"\",\n",
    "        con=session.connection()\n",
    "    )\n",
    "    results = sorted(\n",
    "        (\n",
    "            (cust_id, count)\n",
    "            for cust_id, count in Counter(\n",
    "                acct.cust_id\n",
    "                for acct in session.query(Account)\n",
    "            ).items()\n",
    "            if count > 1\n",
    "        ),\n",
    "        key=lambda tup: tup[0]\n",
    "    )\n",
    "\n",
    "print(df)\n",
    "print(results)"
   ],
   "metadata": {
    "collapsed": false,
    "ExecuteTime": {
     "end_time": "2023-06-01T19:59:18.447771Z",
     "start_time": "2023-06-01T19:59:18.432013Z"
    }
   }
  },
  {
   "cell_type": "code",
   "execution_count": 56,
   "outputs": [
    {
     "name": "stdout",
     "output_type": "stream",
     "text": [
      "  product_cd    branch_name  tot_balance\n",
      "0        CHK  So. NH Branch     67852.33\n",
      "1         MM   Headquarters     14832.64\n",
      "2         CD   Headquarters     11500.00\n",
      "3         CD  Woburn Branch      8000.00\n",
      "4        CHK  Woburn Branch      3315.77\n",
      "5        CHK   Headquarters       782.16\n",
      "6        SAV  Woburn Branch       700.00\n",
      "[('CHK', 'So. NH Branch', 67852.33), ('MM', 'Headquarters', 14832.64), ('CD', 'Headquarters', 11500.0), ('CD', 'Woburn Branch', 8000.0), ('CHK', 'Woburn Branch', 3315.77), ('CHK', 'Headquarters', 782.16), ('SAV', 'Woburn Branch', 700.0)]\n"
     ]
    }
   ],
   "source": [
    "## 8-4\n",
    "\"\"\"Find the total available balance by product and branch when there is more than account per product and branch. Order the results by total balance (highest to lowest).\"\"\"\n",
    "from collections import defaultdict\n",
    "\n",
    "\n",
    "with Session(engine) as session:\n",
    "\n",
    "    df = pd.read_sql_query(\n",
    "        \"\"\"\n",
    "            SELECT\n",
    "                a.product_cd product_cd\n",
    "                , b.name branch_name\n",
    "                , SUM(a.avail_balance) tot_balance\n",
    "            FROM\n",
    "                account\n",
    "            a JOIN branch b ON a.open_branch_id = b.branch_id\n",
    "            GROUP BY a.product_cd, b.name\n",
    "            HAVING COUNT(*) > 1\n",
    "            ORDER BY tot_balance DESC;\n",
    "        \"\"\",\n",
    "        con=session.connection()\n",
    "    )\n",
    "    product_balances_data: dict[tuple, float] = defaultdict(float)\n",
    "    product_cd_branch_list = []\n",
    "    for acct in session.query(Account):\n",
    "        key = acct.product_cd, acct.account_open_branch.name\n",
    "        product_balances_data[key] += acct.avail_balance\n",
    "        product_cd_branch_list.append(key)\n",
    "    product_cd_branch_counter = Counter(product_cd_branch_list)\n",
    "    results = sorted(\n",
    "        (\n",
    "            (product_cd, name, total_balance)\n",
    "            for ((product_cd, name), total_balance)\n",
    "            in product_balances_data.items()\n",
    "            if product_cd_branch_counter[(product_cd, name)] > 1\n",
    "        ),\n",
    "        key=lambda tup: tup[-1],\n",
    "        reverse=True\n",
    "    )\n",
    "\n",
    "print(df)\n",
    "print(results)"
   ],
   "metadata": {
    "collapsed": false,
    "ExecuteTime": {
     "end_time": "2023-06-01T20:36:44.002098Z",
     "start_time": "2023-06-01T20:36:43.937681Z"
    }
   }
  },
  {
   "cell_type": "code",
   "execution_count": null,
   "outputs": [],
   "source": [],
   "metadata": {
    "collapsed": false
   }
  }
 ],
 "metadata": {
  "kernelspec": {
   "display_name": "Python 3",
   "language": "python",
   "name": "python3"
  },
  "language_info": {
   "codemirror_mode": {
    "name": "ipython",
    "version": 2
   },
   "file_extension": ".py",
   "mimetype": "text/x-python",
   "name": "python",
   "nbconvert_exporter": "python",
   "pygments_lexer": "ipython2",
   "version": "2.7.6"
  }
 },
 "nbformat": 4,
 "nbformat_minor": 0
}
