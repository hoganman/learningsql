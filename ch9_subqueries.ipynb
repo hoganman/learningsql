{
 "cells": [
  {
   "cell_type": "markdown",
   "source": [
    "# Chapter 9: Subqueries\n",
    "\n",
    "As seen in Chapter 3, subqueries are quite powerful tools to filter conditions.\n",
    "\n",
    "Let's explore that some more.\n"
   ],
   "metadata": {
    "collapsed": false
   }
  },
  {
   "cell_type": "code",
   "execution_count": 1,
   "outputs": [],
   "source": [
    "import os\n",
    "\n",
    "from dotenv import load_dotenv\n",
    "from sqlalchemy import create_engine, URL, select, func\n",
    "from sqlalchemy.orm import Session\n",
    "import pandas as pd\n",
    "\n",
    "from utils import print_sql_statement\n",
    "\n",
    "\n",
    "load_dotenv()\n",
    "\n",
    "url_object = URL.create(\n",
    "    os.environ[\"DB_ENGINE\"],\n",
    "    username=os.environ[\"DB_USER\"],\n",
    "    password=os.environ[\"DB_PASSWD\"],\n",
    "    host=os.environ[\"DB_HOST\"],\n",
    "    database=os.environ[\"DB_NAME\"],\n",
    ")\n",
    "\n",
    "engine = create_engine(url_object)"
   ],
   "metadata": {
    "collapsed": false,
    "ExecuteTime": {
     "end_time": "2023-06-01T23:09:41.242621Z",
     "start_time": "2023-06-01T23:09:38.153011Z"
    }
   }
  },
  {
   "cell_type": "markdown",
   "source": [
    "# Non-correlated, Multirow Subqueries\n",
    "\n",
    "For simple queries like find the employees who are superiors, would be written like so using the IN operator\n",
    "\n",
    "```sql\n",
    "SELECT\n",
    "    emp_id\n",
    "    , fname\n",
    "    , lname\n",
    "    , title\n",
    "FROM employee\n",
    "WHERE emp_id IN (\n",
    "    SELECT superior_emp_id\n",
    "    FROM employee\n",
    ")\n",
    "```\n",
    "\n",
    "or the less intuitive ANY/ALL operator\n",
    "\n",
    "\n",
    "```sql\n",
    "SELECT\n",
    "    emp_id\n",
    "    , fname\n",
    "    , lname\n",
    "    , title\n",
    "FROM employee\n",
    "WHERE emp_id = ANY (\n",
    "    SELECT superior_emp_id\n",
    "    FROM employee\n",
    ")\n",
    "```\n",
    "\n",
    "However, the ANY/ALL operator would be more intuitive in this case: Find all accounts having an available balance smaller than all of Frank Tucker's accounts."
   ],
   "metadata": {
    "collapsed": false
   }
  },
  {
   "cell_type": "code",
   "execution_count": 12,
   "outputs": [
    {
     "name": "stdout",
     "output_type": "stream",
     "text": [
      "   account_id  avail_balance\n",
      "0           2         500.00\n",
      "1           5         200.00\n",
      "2          10         534.12\n",
      "3          11         767.77\n",
      "4          14         122.37\n",
      "5          19         387.99\n",
      "6          21         125.67\n",
      "7          25           0.00\n",
      "[(2, 500.0), (5, 200.0), (10, 534.12), (11, 767.77), (14, 122.37), (19, 387.99), (21, 125.67), (25, 0.0)]\n"
     ]
    }
   ],
   "source": [
    "from sqlalchemy import and_\n",
    "\n",
    "from model import Account, Individual\n",
    "\n",
    "\n",
    "with Session(engine) as session:\n",
    "    df = pd.read_sql_query(\n",
    "        \"\"\"\n",
    "        SELECT\n",
    "            account_id\n",
    "            , avail_balance\n",
    "        FROM account\n",
    "        WHERE avail_balance < ALL (\n",
    "            SELECT\n",
    "                avail_balance\n",
    "            FROM account a\n",
    "            JOIN individual ind ON a.cust_id = ind.cust_id\n",
    "            WHERE ind.fname = 'Frank' AND ind.lname = 'Tucker'\n",
    "        )\n",
    "        ORDER BY account_id;\n",
    "        \"\"\",\n",
    "        con=session.connection()\n",
    "    )\n",
    "    target_individual: Individual = (\n",
    "        session.query(Individual)\n",
    "        .where(\n",
    "            and_(\n",
    "                Individual.fname == \"Frank\",\n",
    "                Individual.lname == \"Tucker\"\n",
    "            )\n",
    "        )\n",
    "        .scalar()\n",
    "    )\n",
    "    target_accounts: list[Account] = (\n",
    "        session.query(Account)\n",
    "        .where(Account.cust_id == target_individual.cust_id)\n",
    "        .all()\n",
    "    )\n",
    "    results = sorted(\n",
    "        (\n",
    "            (acct.account_id, acct.avail_balance)\n",
    "            for acct in session.query(Account)\n",
    "            if all(\n",
    "                acct.avail_balance < tgt_acct.avail_balance\n",
    "                for tgt_acct in target_accounts\n",
    "            )\n",
    "        ),\n",
    "        key=lambda tup: tup[0]\n",
    "    )\n",
    "\n",
    "print(df)\n",
    "print(results)"
   ],
   "metadata": {
    "collapsed": false,
    "ExecuteTime": {
     "end_time": "2023-06-01T23:43:57.797931Z",
     "start_time": "2023-06-01T23:43:57.745509Z"
    }
   }
  },
  {
   "cell_type": "code",
   "execution_count": null,
   "outputs": [],
   "source": [],
   "metadata": {
    "collapsed": false
   }
  }
 ],
 "metadata": {
  "kernelspec": {
   "display_name": "Python 3",
   "language": "python",
   "name": "python3"
  },
  "language_info": {
   "codemirror_mode": {
    "name": "ipython",
    "version": 2
   },
   "file_extension": ".py",
   "mimetype": "text/x-python",
   "name": "python",
   "nbconvert_exporter": "python",
   "pygments_lexer": "ipython2",
   "version": "2.7.6"
  }
 },
 "nbformat": 4,
 "nbformat_minor": 0
}
