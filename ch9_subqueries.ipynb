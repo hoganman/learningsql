{
 "cells": [
  {
   "cell_type": "markdown",
   "source": [
    "# Chapter 9: Subqueries\n",
    "\n",
    "As seen in Chapter 3, subqueries are quite powerful tools to filter conditions.\n",
    "\n",
    "Let's explore that some more.\n"
   ],
   "metadata": {
    "collapsed": false
   }
  },
  {
   "cell_type": "code",
   "execution_count": 1,
   "outputs": [],
   "source": [
    "import os\n",
    "\n",
    "from dotenv import load_dotenv\n",
    "from sqlalchemy import create_engine, URL, select, func\n",
    "from sqlalchemy.orm import Session\n",
    "import pandas as pd\n",
    "\n",
    "from utils import print_sql_statement\n",
    "\n",
    "\n",
    "load_dotenv()\n",
    "\n",
    "url_object = URL.create(\n",
    "    os.environ[\"DB_ENGINE\"],\n",
    "    username=os.environ[\"DB_USER\"],\n",
    "    password=os.environ[\"DB_PASSWD\"],\n",
    "    host=os.environ[\"DB_HOST\"],\n",
    "    database=os.environ[\"DB_NAME\"],\n",
    ")\n",
    "\n",
    "engine = create_engine(url_object)"
   ],
   "metadata": {
    "collapsed": false,
    "ExecuteTime": {
     "end_time": "2023-06-01T23:09:41.242621Z",
     "start_time": "2023-06-01T23:09:38.153011Z"
    }
   }
  },
  {
   "cell_type": "markdown",
   "source": [
    "# Non-correlated, Multirow Subqueries\n",
    "\n",
    "For simple queries like find the employees who are superiors, would be written like so using the IN operator\n",
    "\n",
    "```sql\n",
    "SELECT\n",
    "    emp_id\n",
    "    , fname\n",
    "    , lname\n",
    "    , title\n",
    "FROM employee\n",
    "WHERE emp_id IN (\n",
    "    SELECT superior_emp_id\n",
    "    FROM employee\n",
    ")\n",
    "```\n",
    "\n",
    "or the less intuitive ANY and ALL operators.\n",
    "\n",
    "\n",
    "```sql\n",
    "SELECT\n",
    "    emp_id\n",
    "    , fname\n",
    "    , lname\n",
    "    , title\n",
    "FROM employee\n",
    "WHERE emp_id = ANY (\n",
    "    SELECT superior_emp_id\n",
    "    FROM employee\n",
    ")\n",
    "```\n",
    "\n",
    "While the ANY and ALL operators are a clumsy in this case, the ALL operator would be more intuitive in following case: Find all accounts having an available balance smaller than all of Frank Tucker's accounts."
   ],
   "metadata": {
    "collapsed": false
   }
  },
  {
   "cell_type": "code",
   "execution_count": 12,
   "outputs": [
    {
     "name": "stdout",
     "output_type": "stream",
     "text": [
      "   account_id  avail_balance\n",
      "0           2         500.00\n",
      "1           5         200.00\n",
      "2          10         534.12\n",
      "3          11         767.77\n",
      "4          14         122.37\n",
      "5          19         387.99\n",
      "6          21         125.67\n",
      "7          25           0.00\n",
      "[(2, 500.0), (5, 200.0), (10, 534.12), (11, 767.77), (14, 122.37), (19, 387.99), (21, 125.67), (25, 0.0)]\n"
     ]
    }
   ],
   "source": [
    "from sqlalchemy import and_\n",
    "\n",
    "from model import Account, Individual\n",
    "\n",
    "\n",
    "with Session(engine) as session:\n",
    "    df = pd.read_sql_query(\n",
    "        \"\"\"\n",
    "        SELECT\n",
    "            account_id\n",
    "            , avail_balance\n",
    "        FROM account\n",
    "        WHERE avail_balance < ALL (\n",
    "            SELECT\n",
    "                avail_balance\n",
    "            FROM account a\n",
    "            JOIN individual ind ON a.cust_id = ind.cust_id\n",
    "            WHERE ind.fname = 'Frank' AND ind.lname = 'Tucker'\n",
    "        )\n",
    "        ORDER BY account_id;\n",
    "        \"\"\",\n",
    "        con=session.connection()\n",
    "    )\n",
    "    target_individual: Individual = (\n",
    "        session.query(Individual)\n",
    "        .where(\n",
    "            and_(\n",
    "                Individual.fname == \"Frank\",\n",
    "                Individual.lname == \"Tucker\"\n",
    "            )\n",
    "        )\n",
    "        .scalar()\n",
    "    )\n",
    "    target_accounts: list[Account] = (\n",
    "        session.query(Account)\n",
    "        .where(Account.cust_id == target_individual.cust_id)\n",
    "        .all()\n",
    "    )\n",
    "    results = sorted(\n",
    "        (\n",
    "            (acct.account_id, acct.avail_balance)\n",
    "            for acct in session.query(Account)\n",
    "            if all(\n",
    "                acct.avail_balance < tgt_acct.avail_balance\n",
    "                for tgt_acct in target_accounts\n",
    "            )\n",
    "        ),\n",
    "        key=lambda tup: tup[0]\n",
    "    )\n",
    "\n",
    "print(df)\n",
    "print(results)"
   ],
   "metadata": {
    "collapsed": false,
    "ExecuteTime": {
     "end_time": "2023-06-01T23:43:57.797931Z",
     "start_time": "2023-06-01T23:43:57.745509Z"
    }
   }
  },
  {
   "cell_type": "markdown",
   "source": [
    "As a closing example, the IN operator supports multicolumn functionality.\n",
    "\n",
    "```sql\n",
    "SELECT\n",
    "    account_id\n",
    "    , product_cd\n",
    "    , cust_id\n",
    "FROM account\n",
    "WHERE (open_branch_id, open_emp_id) IN (\n",
    "    SELECT\n",
    "        b.branch.id,\n",
    "        e.emp_id\n",
    "    FROM branch\n",
    "    b JOIN employee e\n",
    "        ON b.branch_id = e.assigned_branch_id\n",
    "    WHERE (\n",
    "        b.name = 'Woburn Branch'\n",
    "        AND e.title LIKE '%Teller'\n",
    "    )\n",
    ");\n",
    "```"
   ],
   "metadata": {
    "collapsed": false
   }
  },
  {
   "cell_type": "markdown",
   "source": [
    "# Correlated Subqueries\n",
    "\n",
    "Unlike uncorrelated subqueries, correlated subqueries are dependent upon the outer scope requirements. Often the `[NOT] EXISTS` operator is used\n",
    "\n",
    "For example, find all the accounts with transactions on '2000-01-15'.\n"
   ],
   "metadata": {
    "collapsed": false
   }
  },
  {
   "cell_type": "code",
   "execution_count": 28,
   "outputs": [
    {
     "name": "stdout",
     "output_type": "stream",
     "text": [
      "   account_id product_cd  cust_id  avail_balance\n",
      "0           1        CHK        1        1057.75\n",
      "1           2        SAV        1         500.00\n",
      "2          11        SAV        4         767.77\n",
      "[(1, 'CHK', 1, 1057.75), (2, 'SAV', 1, 500.0), (11, 'SAV', 4, 767.77)]\n"
     ]
    }
   ],
   "source": [
    "from datetime import date\n",
    "\n",
    "from model import Transaction\n",
    "\n",
    "\n",
    "with Session(engine) as session:\n",
    "    df = pd.read_sql_query(\n",
    "        \"\"\"\n",
    "        SELECT\n",
    "            a.account_id\n",
    "            , a.product_cd\n",
    "            , a.cust_id\n",
    "            , a.avail_balance\n",
    "        FROM\n",
    "            account a\n",
    "        WHERE EXISTS (\n",
    "            SELECT\n",
    "                1\n",
    "            FROM\n",
    "                transaction t\n",
    "            WHERE (\n",
    "                t.account_id = a.account_id\n",
    "                AND CAST(t.txn_date AS DATE) = '2000-01-15'\n",
    "            )\n",
    "        );\n",
    "        \"\"\",\n",
    "        con=session.connection()\n",
    "    )\n",
    "    # Since Python does not have the EXISTS operator, there\n",
    "    # is the bool operator that is similar. Although it is not\n",
    "    # required in the bottom usage within an if-expression, I'm\n",
    "    # including it for clarity between SQL and Python\n",
    "    trans: Transaction\n",
    "    acct: Account\n",
    "    results = [\n",
    "        (acct.account_id, acct.product_cd, acct.cust_id, acct.avail_balance)\n",
    "        for acct in session.query(Account)\n",
    "        if bool(\n",
    "            set(\n",
    "                True\n",
    "                for trans in acct.account_transactions\n",
    "                if trans.txn_date.date() == date(2000, 1, 15)\n",
    "            )\n",
    "        )\n",
    "    ]\n",
    "\n",
    "print(df)\n",
    "print(results)"
   ],
   "metadata": {
    "collapsed": false,
    "ExecuteTime": {
     "end_time": "2023-06-03T20:50:20.773151Z",
     "start_time": "2023-06-03T20:50:20.649302Z"
    }
   }
  },
  {
   "cell_type": "markdown",
   "source": [
    "# Subqueries for Table Fabrication\n",
    "\n",
    "Count the number of accounts with the following balances\n",
    "\n",
    " * \"Small Fry\": [0, 5000)\n",
    " * \"Average Joe\": [5000, 10000)\n",
    " * \"Heavy Hitters\": [10000, ∞)"
   ],
   "metadata": {
    "collapsed": false
   }
  },
  {
   "cell_type": "code",
   "execution_count": 62,
   "outputs": [
    {
     "name": "stdout",
     "output_type": "stream",
     "text": [
      "           name  num_cust\n",
      "0   Average Joe         2\n",
      "1  Heavy Hitter         4\n",
      "2     Small Fry         5\n",
      "Counter({'Small Fry': 5, 'Heavy Hitter': 4, 'Average Joe': 2})\n"
     ]
    }
   ],
   "source": [
    "from collections import Counter\n",
    "\n",
    "from model import ProductType, Customer\n",
    "\n",
    "\n",
    "with Session(engine) as session:\n",
    "    df = pd.read_sql_query(\n",
    "        \"\"\"\n",
    "        SELECT\n",
    "            grps.name\n",
    "            , COUNT(*) num_cust\n",
    "        FROM\n",
    "        (\n",
    "            SELECT\n",
    "                SUM(acct.avail_balance) cust_balance\n",
    "            FROM account acct JOIN product prod\n",
    "                ON acct.product_cd = prod.product_cd\n",
    "            WHERE prod.product_type_cd = 'ACCOUNT'\n",
    "            GROUP BY acct.cust_id\n",
    "        ) cust_rollup JOIN\n",
    "        (\n",
    "            SELECT\n",
    "                'Small Fry' name\n",
    "                , 0 low_limit\n",
    "                , 4999.99 high_limit\n",
    "            UNION ALL\n",
    "            SELECT\n",
    "                'Average Joe' name\n",
    "                , 5000 low_limit\n",
    "                , 9999.99 high_limit\n",
    "            UNION ALL\n",
    "            SELECT\n",
    "                'Heavy Hitter' name\n",
    "                , 10000 low_limit\n",
    "                , 9999999.99 high_limit\n",
    "        ) grps ON cust_rollup.cust_balance BETWEEN\n",
    "            grps.low_limit AND grps.high_limit\n",
    "        GROUP BY grps.name\n",
    "        ORDER BY grps.name;\n",
    "        \"\"\",\n",
    "        con=session.connection()\n",
    "    )\n",
    "\n",
    "    # Using native Python with the ORM is a little easier with querying the Customers\n",
    "    # via the established relationships\n",
    "\n",
    "    table_bounds: dict[str, tuple[float, float]] = {\n",
    "        \"Small Fry\": (0.00, 5_000 - 0.01),\n",
    "        \"Average Joe\": (5_000., 10_000 - 0.01),\n",
    "        \"Heavy Hitter\": (10_000., 1E11 - 0.01),\n",
    "    }\n",
    "    results = Counter(\n",
    "        [\n",
    "            # Store the account group type\n",
    "            key\n",
    "            for key, (low_limit, high_limit) in table_bounds.items()\n",
    "            # For all the customers, sum up their \"ACCOUNT\" balances\n",
    "            for cust in session.query(Customer)\n",
    "            if (\n",
    "                low_limit <= sum(\n",
    "                    acct.avail_balance\n",
    "                    if acct.account_product.product_type_cd == \"ACCOUNT\"\n",
    "                    else 0.\n",
    "                    for acct in cust.customer_accounts\n",
    "                ) <= high_limit\n",
    "                and\n",
    "                any(\n",
    "                    acct2.account_product.product_type_cd == \"ACCOUNT\"\n",
    "                    for acct2 in cust.customer_accounts\n",
    "                )\n",
    "            )\n",
    "        ]\n",
    "    )\n",
    "\n",
    "\n",
    "print(df)\n",
    "print(results)"
   ],
   "metadata": {
    "collapsed": false,
    "ExecuteTime": {
     "end_time": "2023-06-03T22:55:51.668435Z",
     "start_time": "2023-06-03T22:55:51.497241Z"
    }
   }
  },
  {
   "cell_type": "code",
   "execution_count": null,
   "outputs": [],
   "source": [
    "[\n",
    "\n",
    "]"
   ],
   "metadata": {
    "collapsed": false
   }
  }
 ],
 "metadata": {
  "kernelspec": {
   "display_name": "Python 3",
   "language": "python",
   "name": "python3"
  },
  "language_info": {
   "codemirror_mode": {
    "name": "ipython",
    "version": 2
   },
   "file_extension": ".py",
   "mimetype": "text/x-python",
   "name": "python",
   "nbconvert_exporter": "python",
   "pygments_lexer": "ipython2",
   "version": "2.7.6"
  }
 },
 "nbformat": 4,
 "nbformat_minor": 0
}
