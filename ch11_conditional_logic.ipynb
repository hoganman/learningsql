{
 "cells": [
  {
   "cell_type": "markdown",
   "metadata": {},
   "source": [
    "# Chapter 11: Conditional Logic\n",
    "\n",
    "There are use-cases where conditionals are requirement like an if-else.\n"
   ]
  },
  {
   "cell_type": "code",
   "execution_count": 1,
   "metadata": {
    "ExecuteTime": {
     "end_time": "2023-06-05T19:06:20.714955Z",
     "start_time": "2023-06-05T19:06:18.485518Z"
    }
   },
   "outputs": [],
   "source": [
    "import os\n",
    "\n",
    "from dotenv import load_dotenv\n",
    "from sqlalchemy import create_engine, URL\n",
    "from sqlalchemy.orm import Session\n",
    "import pandas as pd\n",
    "\n",
    "\n",
    "load_dotenv()\n",
    "\n",
    "url_object = URL.create(\n",
    "    os.environ[\"DB_ENGINE\"],\n",
    "    username=os.environ[\"DB_USER\"],\n",
    "    password=os.environ[\"DB_PASSWD\"],\n",
    "    host=os.environ[\"DB_HOST\"],\n",
    "    database=os.environ[\"DB_NAME\"],\n",
    ")\n",
    "\n",
    "engine = create_engine(url_object)"
   ]
  },
  {
   "cell_type": "markdown",
   "metadata": {},
   "source": [
    "# Case Expressions\n",
    "\n",
    "Instead of using joins, list of customer names whether it is an individual or a business\n"
   ]
  },
  {
   "cell_type": "code",
   "execution_count": 5,
   "metadata": {
    "ExecuteTime": {
     "end_time": "2023-06-05T19:13:16.829501Z",
     "start_time": "2023-06-05T19:13:16.673502Z"
    }
   },
   "outputs": [
    {
     "name": "stdout",
     "output_type": "stream",
     "text": [
      "    cust_id       fed_id                      name\n",
      "0         1  111-11-1111            i-James Hadley\n",
      "1         2  222-22-2222           i-Susan Tingley\n",
      "2         3  333-33-3333            i-Frank Tucker\n",
      "3         4  444-44-4444            i-John Hayward\n",
      "4         5  555-55-5555         i-Charles Frasier\n",
      "5         6  666-66-6666            i-John Spencer\n",
      "6         7  777-77-7777          i-Margaret Young\n",
      "7         8  888-88-8888             i-Louis Blake\n",
      "8         9  999-99-9999          i-Richard Farley\n",
      "9        10   04-1111111     b-Chilton Engineering\n",
      "10       11   04-2222222  b-Northeast Cooling Inc.\n",
      "11       12   04-3333333      b-Superior Auto Body\n",
      "12       13   04-4444444      b-AAA Insurance Inc.\n"
     ]
    }
   ],
   "source": [
    "with Session(engine) as session:\n",
    "\n",
    "    df = pd.read_sql_query(\n",
    "        \"\"\"\n",
    "        SELECT\n",
    "            c.cust_id\n",
    "            , c.fed_id\n",
    "            , (CASE c.cust_type_cd\n",
    "                WHEN 'I' THEN (\n",
    "                    SELECT\n",
    "                        CONCAT('i-', i.fname, ' ', i.lname)\n",
    "                    FROM individual i\n",
    "                    WHERE c.cust_id = i.cust_id\n",
    "                )\n",
    "                WHEN 'B' THEN (\n",
    "                    SELECT\n",
    "                        CONCAT('b-', b.name)\n",
    "                    FROM business b\n",
    "                    WHERE b.cust_id = c.cust_id\n",
    "                )\n",
    "                ELSE 'UNKNOWN'\n",
    "                END) name\n",
    "        FROM\n",
    "            customer c\n",
    "        ;\n",
    "        \"\"\",\n",
    "        con=session.connection()\n",
    "    )\n",
    "\n",
    "print(df)"
   ]
  },
  {
   "cell_type": "code",
   "execution_count": null,
   "metadata": {},
   "outputs": [],
   "source": []
  }
 ],
 "metadata": {
  "kernelspec": {
   "display_name": "Python 3 (ipykernel)",
   "language": "python",
   "name": "python3"
  },
  "language_info": {
   "codemirror_mode": {
    "name": "ipython",
    "version": 3
   },
   "file_extension": ".py",
   "mimetype": "text/x-python",
   "name": "python",
   "nbconvert_exporter": "python",
   "pygments_lexer": "ipython3",
   "version": "3.11.0"
  }
 },
 "nbformat": 4,
 "nbformat_minor": 1
}
