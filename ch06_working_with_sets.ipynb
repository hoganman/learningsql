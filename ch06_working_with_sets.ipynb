{
 "cells": [
  {
   "cell_type": "markdown",
   "source": [
    "# Chapter 6: Working with Sets\n",
    "\n",
    "The basic set operations are `UNION [ALL]` and `INTERSECT`.\n",
    "\n",
    "Set precedence is important, but the ANSI 92 standard dictates that `INTERSECT` takes highest precedence. Multiple queries are combined using parentheses."
   ],
   "metadata": {
    "collapsed": false
   }
  },
  {
   "cell_type": "markdown",
   "source": [
    "# Exercises\n",
    "\n",
    "## 6-2\n",
    "Write a compound query that finds the first and last names of individual customers along with the first and last names of all employees\n",
    "\n",
    "## 6-3\n",
    "Sort the results from exercise 6-2 by the name column.\n"
   ],
   "metadata": {
    "collapsed": false
   }
  },
  {
   "cell_type": "code",
   "execution_count": 1,
   "outputs": [],
   "source": [
    "import os\n",
    "\n",
    "from dotenv import load_dotenv\n",
    "from sqlalchemy import create_engine, URL, select, func\n",
    "from sqlalchemy.orm import Session\n",
    "import pandas as pd\n",
    "\n",
    "from utils import print_sql_statement\n",
    "\n",
    "\n",
    "load_dotenv()\n",
    "\n",
    "url_object = URL.create(\n",
    "    os.environ[\"DB_ENGINE\"],\n",
    "    username=os.environ[\"DB_USER\"],\n",
    "    password=os.environ[\"DB_PASSWD\"],\n",
    "    host=os.environ[\"DB_HOST\"],\n",
    "    database=os.environ[\"DB_NAME\"],\n",
    ")\n",
    "\n",
    "engine = create_engine(url_object)"
   ],
   "metadata": {
    "collapsed": false,
    "ExecuteTime": {
     "end_time": "2023-05-29T00:04:42.333157Z",
     "start_time": "2023-05-29T00:04:39.128140Z"
    }
   }
  },
  {
   "cell_type": "code",
   "execution_count": 23,
   "outputs": [
    {
     "name": "stdout",
     "output_type": "stream",
     "text": [
      "\"\"\"SELECT individual.fname, individual.lname \n",
      "FROM individual UNION SELECT employee.fname, employee.lname \n",
      "FROM employee ORDER BY lname\"\"\"\n",
      "       fname      lname\n",
      "0      Susan     Barker\n",
      "1      Louis      Blake\n",
      "2       John      Blake\n",
      "3    Richard     Farley\n",
      "4      Helen    Fleming\n",
      "5       Beth     Fowler\n",
      "6    Charles    Frasier\n",
      "7       John    Gooding\n",
      "8       Jane   Grossman\n",
      "9      James     Hadley\n",
      "10     Susan  Hawthorne\n",
      "11      John    Hayward\n",
      "12  Samantha    Jameson\n",
      "13   Theresa    Markham\n",
      "14     Cindy      Mason\n",
      "15     Sarah     Parker\n",
      "16     Frank    Portman\n",
      "17     Paula    Roberts\n",
      "18   Michael      Smith\n",
      "19      John    Spencer\n",
      "20     Susan    Tingley\n",
      "21     Frank     Tucker\n",
      "22     Chris     Tucker\n",
      "23      Rick     Tulman\n",
      "24    Robert      Tyler\n",
      "25  Margaret      Young\n",
      "26    Thomas    Ziegler\n"
     ]
    }
   ],
   "source": [
    "from model import Employee, Individual\n",
    "# Combine 6-2 and 6-3\n",
    "\n",
    "\n",
    "with Session(engine) as session:\n",
    "\n",
    "    df = pd.read_sql_query(\n",
    "        \"\"\"\n",
    "        SELECT\n",
    "            i.fname\n",
    "            , i.lname\n",
    "        FROM\n",
    "            individual i\n",
    "        UNION ALL\n",
    "        (\n",
    "            SELECT\n",
    "                fname\n",
    "                , lname\n",
    "            FROM\n",
    "                employee\n",
    "        )\n",
    "        ORDER BY lname;\n",
    "        \"\"\",\n",
    "        con=session.connection()\n",
    "    )\n",
    "\n",
    "    statement = (\n",
    "        select(\n",
    "            Individual.fname,\n",
    "            Individual.lname\n",
    "        )\n",
    "        .union(\n",
    "            select(\n",
    "                Employee.fname,\n",
    "                Employee.lname\n",
    "            )\n",
    "        )\n",
    "        .order_by(Individual.lname)\n",
    "    )\n",
    "    print_sql_statement(statement)\n",
    "    results = session.execute(statement).all()\n",
    "\n",
    "    new_results = sorted(\n",
    "        [\n",
    "            (opt.fname, opt.lname)\n",
    "            for entity in (Individual, Employee)\n",
    "            for opt in session.query(entity)\n",
    "        ],\n",
    "        key=lambda tup: tup[-1]\n",
    "    )\n",
    "\n",
    "print(df)\n",
    "assert results == new_results"
   ],
   "metadata": {
    "collapsed": false,
    "ExecuteTime": {
     "end_time": "2023-05-29T00:40:17.321858Z",
     "start_time": "2023-05-29T00:40:17.267893Z"
    }
   }
  },
  {
   "cell_type": "code",
   "execution_count": null,
   "outputs": [],
   "source": [],
   "metadata": {
    "collapsed": false
   }
  }
 ],
 "metadata": {
  "kernelspec": {
   "display_name": "Python 3",
   "language": "python",
   "name": "python3"
  },
  "language_info": {
   "codemirror_mode": {
    "name": "ipython",
    "version": 2
   },
   "file_extension": ".py",
   "mimetype": "text/x-python",
   "name": "python",
   "nbconvert_exporter": "python",
   "pygments_lexer": "ipython2",
   "version": "2.7.6"
  }
 },
 "nbformat": 4,
 "nbformat_minor": 0
}
