{
 "cells": [
  {
   "cell_type": "markdown",
   "source": [
    "# Chapter 4: Filtering\n",
    "\n",
    "The ability and possibilities of filtering is quite flexible in SQL. Let's take a look"
   ],
   "metadata": {
    "collapsed": false
   }
  },
  {
   "cell_type": "code",
   "execution_count": 1,
   "outputs": [],
   "source": [
    "import os\n",
    "\n",
    "from dotenv import load_dotenv\n",
    "from sqlalchemy import create_engine, URL, select, func\n",
    "from sqlalchemy.orm import Session\n",
    "import pandas as pd\n",
    "\n",
    "from model import Customer, Employee, Department, Branch, Account\n",
    "from utils import print_sql_statement\n",
    "\n",
    "\n",
    "load_dotenv()\n",
    "\n",
    "url_object = URL.create(\n",
    "    os.environ[\"DB_ENGINE\"],\n",
    "    username=os.environ[\"DB_USER\"],\n",
    "    password=os.environ[\"DB_PASSWD\"],\n",
    "    host=os.environ[\"DB_HOST\"],\n",
    "    database=os.environ[\"DB_NAME\"],\n",
    ")\n",
    "\n",
    "engine = create_engine(url_object)"
   ],
   "metadata": {
    "collapsed": false,
    "ExecuteTime": {
     "start_time": "2023-05-22T14:18:01.422712Z",
     "end_time": "2023-05-22T14:18:03.932277Z"
    }
   }
  },
  {
   "cell_type": "markdown",
   "source": [
    "# Range (Equality and Inequality)\n",
    "\n",
    "The '=' and '!=' operator in a WHERE expression compares variables for equality and inequality, respectively. The operator 'BETWEEN' can express both succinctly\n"
   ],
   "metadata": {
    "collapsed": false
   }
  },
  {
   "cell_type": "markdown",
   "source": [
    "Find all the employees with start date between 2001 and 2003"
   ],
   "metadata": {
    "collapsed": false
   }
  },
  {
   "cell_type": "code",
   "execution_count": 5,
   "outputs": [
    {
     "name": "stdout",
     "output_type": "stream",
     "text": [
      "\"\"\"SELECT employee.emp_id, employee.start_date \n",
      "FROM employee \n",
      "WHERE employee.start_date BETWEEN :start_date_1 AND :start_date_2\"\"\"\n",
      "   emp_id  start_date\n",
      "0       1  2001-06-22\n",
      "1       2  2002-09-12\n",
      "2       4  2002-04-24\n",
      "3       8  2002-12-02\n",
      "4       9  2002-05-03\n",
      "5      10  2002-07-27\n",
      "6      14  2002-08-09\n",
      "7      16  2001-03-15\n",
      "8      17  2002-06-29\n",
      "9      18  2002-12-12\n",
      "[(1, datetime.date(2001, 6, 22)), (2, datetime.date(2002, 9, 12)), (4, datetime.date(2002, 4, 24)), (8, datetime.date(2002, 12, 2)), (9, datetime.date(2002, 5, 3)), (10, datetime.date(2002, 7, 27)), (14, datetime.date(2002, 8, 9)), (16, datetime.date(2001, 3, 15)), (17, datetime.date(2002, 6, 29)), (18, datetime.date(2002, 12, 12))]\n"
     ]
    }
   ],
   "source": [
    "from datetime import date\n",
    "\n",
    "\n",
    "with Session(engine) as session:\n",
    "    df = pd.read_sql_query(\n",
    "        \"\"\"\n",
    "        SELECT\n",
    "            e.emp_id\n",
    "            , e.start_date\n",
    "        FROM\n",
    "            employee e\n",
    "        WHERE\n",
    "            e.start_date BETWEEN '2001-01-01' AND '2003-01-01'\n",
    "        \"\"\",\n",
    "        con=session.connection()\n",
    "    )\n",
    "\n",
    "    statement = (\n",
    "        select(\n",
    "            Employee.emp_id,\n",
    "            Employee.start_date\n",
    "        )\n",
    "        .select_from(Employee)\n",
    "        .where(\n",
    "            Employee.start_date.between(date(2001, 1, 1), date(2003, 1, 1))\n",
    "        )\n",
    "    )\n",
    "    print_sql_statement(statement)\n",
    "    results = session.execute(statement).all()\n",
    "\n",
    "print(df)\n",
    "print(results)"
   ],
   "metadata": {
    "collapsed": false,
    "ExecuteTime": {
     "start_time": "2023-05-22T14:24:22.630318Z",
     "end_time": "2023-05-22T14:24:22.695500Z"
    }
   }
  },
  {
   "cell_type": "markdown",
   "source": [
    "'BETWEEN' also works with numerics and strings too\n",
    "\n",
    "Find all accounts where the available balance is between 3,000 and 5,000 and the federal ID of the customer is between '500-00-0000' and '999-99-9999'"
   ],
   "metadata": {
    "collapsed": false
   }
  },
  {
   "cell_type": "code",
   "execution_count": 7,
   "outputs": [
    {
     "name": "stdout",
     "output_type": "stream",
     "text": [
      "\"\"\"SELECT account.cust_id, account.avail_balance, customer.fed_id \n",
      "FROM account JOIN customer ON account.cust_id = customer.cust_id \n",
      "WHERE account.avail_balance BETWEEN :avail_balance_1 AND :avail_balance_2 AND customer.fed_id BETWEEN :fed_id_1 AND :fed_id_2\"\"\"\n",
      "   cust_id  avail_balance       fed_id\n",
      "0        7        5000.00  777-77-7777\n",
      "1        8        3487.19  888-88-8888\n",
      "[(7, 5000.0, '777-77-7777'), (8, 3487.19, '888-88-8888')]\n"
     ]
    }
   ],
   "source": [
    "from sqlalchemy import and_\n",
    "\n",
    "\n",
    "with Session(engine) as session:\n",
    "    df = pd.read_sql_query(\n",
    "        \"\"\"\n",
    "        SELECT\n",
    "            a.cust_id\n",
    "            , a.avail_balance\n",
    "            , c.fed_id\n",
    "        FROM\n",
    "            account a JOIN customer c ON a.cust_id = c.cust_id\n",
    "        WHERE (\n",
    "            (a.avail_balance BETWEEN 3000 AND 5000)\n",
    "            AND\n",
    "            (c.fed_id BETWEEN '500-00-0000' AND '999-99-9999')\n",
    "        );\n",
    "        \"\"\",\n",
    "        con=session.connection()\n",
    "    )\n",
    "\n",
    "    statement = (\n",
    "        select(\n",
    "            Account.cust_id,\n",
    "            Account.avail_balance,\n",
    "            Customer.fed_id\n",
    "        )\n",
    "        .select_from(Account)\n",
    "        .join(Customer, Account.cust_id == Customer.cust_id)\n",
    "        .where(\n",
    "            and_(\n",
    "                Account.avail_balance.between(3000, 5000),\n",
    "                Customer.fed_id.between(\"500-00-0000\", \"999-99-9999\")\n",
    "            )\n",
    "        )\n",
    "    )\n",
    "    print_sql_statement(statement)\n",
    "    results = session.execute(statement).all()\n",
    "\n",
    "print(df)\n",
    "print(results)"
   ],
   "metadata": {
    "collapsed": false,
    "ExecuteTime": {
     "start_time": "2023-05-22T14:34:58.634726Z",
     "end_time": "2023-05-22T14:34:58.899352Z"
    }
   }
  },
  {
   "cell_type": "markdown",
   "source": [
    "# Membership\n",
    "\n",
    "When filtering against multiple criteria for the same variable, the 'IN' operator is useful\n",
    "\n",
    "Find all products that are not business 'BUS' and small business loan 'SBL'"
   ],
   "metadata": {
    "collapsed": false
   }
  },
  {
   "cell_type": "code",
   "execution_count": 34,
   "outputs": [
    {
     "name": "stdout",
     "output_type": "stream",
     "text": [
      "\"\"\"SELECT account.account_id, account.product_cd, account.cust_id, account.avail_balance \n",
      "FROM account \n",
      "WHERE (upper(account.product_cd) NOT IN (__[POSTCOMPILE_upper_1])) ORDER BY account.account_id ASC, account.cust_id ASC\"\"\"\n",
      "    account_id product_cd  cust_id  avail_balance\n",
      "0            1        CHK        1        1057.75\n",
      "1            2        SAV        1         500.00\n",
      "2            3         CD        1        3000.00\n",
      "3            4        CHK        2        2258.02\n",
      "4            5        SAV        2         200.00\n",
      "5            7        CHK        3        1057.75\n",
      "6            8         MM        3        2212.50\n",
      "7           10        CHK        4         534.12\n",
      "8           11        SAV        4         767.77\n",
      "9           12         MM        4        5487.09\n",
      "10          13        CHK        5        2237.97\n",
      "11          14        CHK        6         122.37\n",
      "12          15         CD        6       10000.00\n",
      "13          17         CD        7        5000.00\n",
      "14          18        CHK        8        3487.19\n",
      "15          19        SAV        8         387.99\n",
      "16          21        CHK        9         125.67\n",
      "17          22         MM        9        9345.55\n",
      "18          23         CD        9        1500.00\n",
      "19          24        CHK       10       23575.12\n",
      "20          28        CHK       12       38552.05\n",
      "[(1, 'CHK', 1, 1057.75), (2, 'SAV', 1, 500.0), (3, 'CD', 1, 3000.0), (4, 'CHK', 2, 2258.02), (5, 'SAV', 2, 200.0), (7, 'CHK', 3, 1057.75), (8, 'MM', 3, 2212.5), (10, 'CHK', 4, 534.12), (11, 'SAV', 4, 767.77), (12, 'MM', 4, 5487.09), (13, 'CHK', 5, 2237.97), (14, 'CHK', 6, 122.37), (15, 'CD', 6, 10000.0), (17, 'CD', 7, 5000.0), (18, 'CHK', 8, 3487.19), (19, 'SAV', 8, 387.99), (21, 'CHK', 9, 125.67), (22, 'MM', 9, 9345.55), (23, 'CD', 9, 1500.0), (24, 'CHK', 10, 23575.12), (28, 'CHK', 12, 38552.05)]\n"
     ]
    }
   ],
   "source": [
    "\n",
    "with Session(engine) as session:\n",
    "\n",
    "    df = pd.read_sql_query(\n",
    "        \"\"\"\n",
    "        SELECT\n",
    "            a.account_id\n",
    "            , a.product_cd\n",
    "            , a.cust_id\n",
    "            , a.avail_balance\n",
    "        FROM\n",
    "            account a\n",
    "        WHERE\n",
    "            UPPER(a.product_cd) NOT IN ('BUS', 'SBL')\n",
    "        ORDER BY a.account_id ASC, a.cust_id ASC\n",
    "        \"\"\",\n",
    "        con=session.connection()\n",
    "    )\n",
    "\n",
    "    statement = (\n",
    "        select(\n",
    "            Account.account_id,\n",
    "            Account.product_cd,\n",
    "            Account.cust_id,\n",
    "            Account.avail_balance\n",
    "        )\n",
    "        .select_from(Account)\n",
    "        .where(\n",
    "            func.upper(Account.product_cd).not_in(\n",
    "                (\"BUS\", \"SBL\")\n",
    "            )\n",
    "        )\n",
    "        .order_by(Account.account_id.asc(), Account.cust_id.asc())\n",
    "    )\n",
    "    print_sql_statement(statement)\n",
    "    results = session.execute(statement).all()\n",
    "\n",
    "print(df)\n",
    "print(results)"
   ],
   "metadata": {
    "collapsed": false,
    "ExecuteTime": {
     "start_time": "2023-05-22T17:20:39.451142Z",
     "end_time": "2023-05-22T17:20:39.512131Z"
    }
   }
  },
  {
   "cell_type": "markdown",
   "source": [
    "# Filtering with Subqueries\n",
    "\n",
    "Find all the same accounts knowing that all product type codes are 'ACCOUNT'"
   ],
   "metadata": {
    "collapsed": false
   }
  },
  {
   "cell_type": "code",
   "execution_count": 35,
   "outputs": [
    {
     "name": "stdout",
     "output_type": "stream",
     "text": [
      "\"\"\"SELECT account.account_id, account.product_cd, account.cust_id, account.avail_balance \n",
      "FROM account \n",
      "WHERE account.product_cd IN (SELECT product.product_cd \n",
      "FROM product \n",
      "WHERE product.product_type_cd = :product_type_cd_1) ORDER BY account.account_id ASC, account.cust_id ASC\"\"\"\n",
      "    account_id product_cd  cust_id  avail_balance\n",
      "0            1        CHK        1        1057.75\n",
      "1            2        SAV        1         500.00\n",
      "2            3         CD        1        3000.00\n",
      "3            4        CHK        2        2258.02\n",
      "4            5        SAV        2         200.00\n",
      "5            7        CHK        3        1057.75\n",
      "6            8         MM        3        2212.50\n",
      "7           10        CHK        4         534.12\n",
      "8           11        SAV        4         767.77\n",
      "9           12         MM        4        5487.09\n",
      "10          13        CHK        5        2237.97\n",
      "11          14        CHK        6         122.37\n",
      "12          15         CD        6       10000.00\n",
      "13          17         CD        7        5000.00\n",
      "14          18        CHK        8        3487.19\n",
      "15          19        SAV        8         387.99\n",
      "16          21        CHK        9         125.67\n",
      "17          22         MM        9        9345.55\n",
      "18          23         CD        9        1500.00\n",
      "19          24        CHK       10       23575.12\n",
      "20          28        CHK       12       38552.05\n",
      "[(1, 'CHK', 1, 1057.75), (2, 'SAV', 1, 500.0), (3, 'CD', 1, 3000.0), (4, 'CHK', 2, 2258.02), (5, 'SAV', 2, 200.0), (7, 'CHK', 3, 1057.75), (8, 'MM', 3, 2212.5), (10, 'CHK', 4, 534.12), (11, 'SAV', 4, 767.77), (12, 'MM', 4, 5487.09), (13, 'CHK', 5, 2237.97), (14, 'CHK', 6, 122.37), (15, 'CD', 6, 10000.0), (17, 'CD', 7, 5000.0), (18, 'CHK', 8, 3487.19), (19, 'SAV', 8, 387.99), (21, 'CHK', 9, 125.67), (22, 'MM', 9, 9345.55), (23, 'CD', 9, 1500.0), (24, 'CHK', 10, 23575.12), (28, 'CHK', 12, 38552.05)]\n"
     ]
    }
   ],
   "source": [
    "from copy import deepcopy\n",
    "\n",
    "from model import Product\n",
    "\n",
    "\n",
    "old_results = deepcopy(results)\n",
    "\n",
    "with Session(engine) as session:\n",
    "\n",
    "    df = pd.read_sql_query(\n",
    "        \"\"\"\n",
    "        SELECT\n",
    "            a.account_id\n",
    "            , a.product_cd\n",
    "            , a.cust_id\n",
    "            , a.avail_balance\n",
    "        FROM\n",
    "            account a\n",
    "        WHERE a.product_cd IN (\n",
    "            SELECT\n",
    "                p.product_cd\n",
    "            FROM\n",
    "                product p\n",
    "            WHERE p.product_type_cd = 'ACCOUNT'\n",
    "        )\n",
    "        ORDER BY a.account_id ASC, a.cust_id ASC\n",
    "        ;\n",
    "        \"\"\",\n",
    "        con=session.connection()\n",
    "    )\n",
    "\n",
    "    statement = (\n",
    "        select(\n",
    "            Account.account_id,\n",
    "            Account.product_cd,\n",
    "            Account.cust_id,\n",
    "            Account.avail_balance\n",
    "        )\n",
    "        .select_from(Account)\n",
    "        .where(\n",
    "            Account.product_cd.in_(\n",
    "                select(Product.product_cd)\n",
    "                .select_from(Product)\n",
    "                .where(Product.product_type_cd == \"ACCOUNT\")\n",
    "            )\n",
    "        )\n",
    "        .order_by(Account.account_id.asc(), Account.cust_id.asc())\n",
    "    )\n",
    "    print_sql_statement(statement)\n",
    "    results = session.execute(statement).all()\n",
    "\n",
    "print(df)\n",
    "print(results)\n",
    "assert old_results == results"
   ],
   "metadata": {
    "collapsed": false,
    "ExecuteTime": {
     "start_time": "2023-05-22T17:20:40.821637Z",
     "end_time": "2023-05-22T17:20:40.902502Z"
    }
   }
  },
  {
   "cell_type": "markdown",
   "source": [
    "# String Matching\n",
    "\n",
    "## Query 1\n",
    "Find all employees with any of the following:\n",
    "    * First character of their last name is 'T'\n",
    "    * Second character is 'a' and has at least one 'e' in first name\n",
    "\n",
    "## Query 2\n",
    "Find all customers with a federal ID having a U.S. social security format ie \"123-45-678\"\n"
   ],
   "metadata": {
    "collapsed": false
   }
  },
  {
   "cell_type": "code",
   "execution_count": 39,
   "outputs": [
    {
     "name": "stdout",
     "output_type": "stream",
     "text": [
      "\"\"\"SELECT employee.emp_id, employee.fname, employee.lname \n",
      "FROM employee \n",
      "WHERE substring(upper(employee.lname), :substring_1, :substring_2) = :substring_3 OR lower(employee.fname) LIKE :lower_1\"\"\"\n",
      "   emp_id   fname     lname\n",
      "0       3  Robert     Tyler\n",
      "1       7   Chris    Tucker\n",
      "2       9    Jane  Grossman\n",
      "3      18    Rick    Tulman\n",
      "[(3, 'Robert', 'Tyler'), (7, 'Chris', 'Tucker'), (9, 'Jane', 'Grossman'), (18, 'Rick', 'Tulman')]\n"
     ]
    }
   ],
   "source": [
    "# Query 1\n",
    "from sqlalchemy import or_\n",
    "\n",
    "\n",
    "with Session(engine) as session:\n",
    "    df = pd.read_sql_query(\n",
    "        \"\"\"\n",
    "        SELECT\n",
    "            e.emp_id\n",
    "            , e.fname\n",
    "            , e.lname\n",
    "        FROM\n",
    "            employee e\n",
    "        WHERE (\n",
    "            SUBSTRING(UPPER(e.lname), 1, 1) = 'T' -- Could of also used LEFT(<VAR> , 1)\n",
    "            OR LOWER(e.fname) LIKE '_a%e%'\n",
    "        );\n",
    "        \"\"\",\n",
    "        con=session.connection()\n",
    "    )\n",
    "\n",
    "    statement = (\n",
    "        select(\n",
    "            Employee.emp_id,\n",
    "            Employee.fname,\n",
    "            Employee.lname\n",
    "        )\n",
    "        .select_from(Employee)\n",
    "        .where(\n",
    "            or_(\n",
    "                func.substring(func.upper(Employee.lname), 1, 1) == \"T\",\n",
    "                func.lower(Employee.fname).like(\"_a%e%\")\n",
    "            )\n",
    "        )\n",
    "    )\n",
    "    print_sql_statement(statement)\n",
    "    results = session.execute(statement).all()\n",
    "\n",
    "print(df)\n",
    "print(results)"
   ],
   "metadata": {
    "collapsed": false,
    "ExecuteTime": {
     "start_time": "2023-05-22T19:31:15.920980Z",
     "end_time": "2023-05-22T19:31:16.039000Z"
    }
   }
  },
  {
   "cell_type": "code",
   "execution_count": 42,
   "outputs": [
    {
     "name": "stdout",
     "output_type": "stream",
     "text": [
      "\"\"\"SELECT customer.cust_id, customer.fed_id \n",
      "FROM customer \n",
      "WHERE customer.fed_id LIKE :fed_id_1\"\"\"\n",
      "   cust_id       fed_id\n",
      "0        1  111-11-1111\n",
      "1        2  222-22-2222\n",
      "2        3  333-33-3333\n",
      "3        4  444-44-4444\n",
      "4        5  555-55-5555\n",
      "5        6  666-66-6666\n",
      "6        7  777-77-7777\n",
      "7        8  888-88-8888\n",
      "8        9  999-99-9999\n",
      "[(1, '111-11-1111'), (2, '222-22-2222'), (3, '333-33-3333'), (4, '444-44-4444'), (5, '555-55-5555'), (6, '666-66-6666'), (7, '777-77-7777'), (8, '888-88-8888'), (9, '999-99-9999')]\n"
     ]
    }
   ],
   "source": [
    "# query 2\n",
    "\n",
    "with Session(engine) as session:\n",
    "\n",
    "    df = pd.read_sql_query(\n",
    "        \"\"\"\n",
    "        SELECT\n",
    "            c.cust_id\n",
    "            , c.fed_id\n",
    "        FROM\n",
    "            customer c\n",
    "        WHERE c.fed_id LIKE '___-__-____'\n",
    "        ;\n",
    "        \"\"\",\n",
    "        con=session.connection()\n",
    "    )\n",
    "\n",
    "    statement = (\n",
    "        select(\n",
    "            Customer.cust_id,\n",
    "            Customer.fed_id\n",
    "        )\n",
    "        .select_from(Customer)\n",
    "        .where(\n",
    "            Customer.fed_id.like(\"___-__-____\")\n",
    "        )\n",
    "    )\n",
    "    print_sql_statement(statement)\n",
    "    results = session.execute(statement).all()\n",
    "\n",
    "print(df)\n",
    "print(results)\n"
   ],
   "metadata": {
    "collapsed": false,
    "ExecuteTime": {
     "start_time": "2023-05-22T19:35:32.187501Z",
     "end_time": "2023-05-22T19:35:32.218077Z"
    }
   }
  },
  {
   "cell_type": "markdown",
   "source": [
    "# Exercises\n",
    "\n",
    "## 4-3\n",
    "Construct a query that retrieves all account opened in 2002\n",
    "\n",
    "## 4-4\n",
    "Construct a query that finds all non-bussiness customer whose last name contains an 'a' in the second position and an 'e' anywhere after the 'a'"
   ],
   "metadata": {
    "collapsed": false
   }
  },
  {
   "cell_type": "code",
   "execution_count": 52,
   "outputs": [
    {
     "name": "stdout",
     "output_type": "stream",
     "text": [
      "\"\"\"SELECT account.account_id, account.open_date, account.avail_balance \n",
      "FROM account \n",
      "WHERE account.open_date BETWEEN :open_date_1 AND :open_date_2\"\"\"\n",
      "   account_id   open_date  avail_balance\n",
      "0           7  2002-11-23        1057.75\n",
      "1           8  2002-12-15        2212.50\n",
      "2          14  2002-08-24         122.37\n",
      "3          24  2002-09-30       23575.12\n",
      "4          25  2002-10-01           0.00\n",
      "[(7, datetime.date(2002, 11, 23), 1057.75), (8, datetime.date(2002, 12, 15), 2212.5), (14, datetime.date(2002, 8, 24), 122.37), (24, datetime.date(2002, 9, 30), 23575.12), (25, datetime.date(2002, 10, 1), 0.0)]\n"
     ]
    }
   ],
   "source": [
    "# 4-3\n",
    "\n",
    "with Session(engine) as session:\n",
    "\n",
    "    df = pd.read_sql_query(\n",
    "        \"\"\"\n",
    "        SELECT\n",
    "            account_id\n",
    "            , open_date\n",
    "            , avail_balance\n",
    "        FROM\n",
    "            account\n",
    "        WHERE\n",
    "            account.open_date BETWEEN '2002-01-01' AND '2003-01-01'\n",
    "        ;\n",
    "        \"\"\",\n",
    "        con=session.connection()\n",
    "    )\n",
    "    statement = (\n",
    "        select(\n",
    "            Account.account_id,\n",
    "            Account.open_date,\n",
    "            Account.avail_balance\n",
    "        )\n",
    "        .select_from(Account)\n",
    "        .where(\n",
    "            Account.open_date.between(date(2002, 1, 1), date(2003, 1, 1))\n",
    "        )\n",
    "    )\n",
    "    print_sql_statement(statement)\n",
    "    results = session.execute(statement).all()\n",
    "\n",
    "print(df)\n",
    "print(results)"
   ],
   "metadata": {
    "collapsed": false,
    "ExecuteTime": {
     "start_time": "2023-05-22T20:46:28.003605Z",
     "end_time": "2023-05-22T20:46:28.044628Z"
    }
   }
  },
  {
   "cell_type": "code",
   "execution_count": 56,
   "outputs": [
    {
     "name": "stdout",
     "output_type": "stream",
     "text": [
      "\"\"\"SELECT customer.cust_id, individual.fname, individual.lname, customer.cust_type_cd \n",
      "FROM customer JOIN individual ON customer.cust_id = individual.cust_id \n",
      "WHERE customer.cust_type_cd = :cust_type_cd_1 AND lower(individual.lname) LIKE :lower_1\"\"\"\n",
      "   cust_id    fname   lname cust_type_cd\n",
      "0        1    James  Hadley            I\n",
      "1        9  Richard  Farley            I\n",
      "[(1, 'James', 'Hadley', <CustomerTypeEnum.I: 'I'>), (9, 'Richard', 'Farley', <CustomerTypeEnum.I: 'I'>)]\n"
     ]
    }
   ],
   "source": [
    "# 4-4\n",
    "from model import CustomerTypeEnum, Individual\n",
    "\n",
    "\n",
    "with Session(engine) as session:\n",
    "\n",
    "    df = pd.read_sql_query(\n",
    "        \"\"\"\n",
    "        SELECT\n",
    "            c.cust_id\n",
    "            , i.fname\n",
    "            , i.lname\n",
    "            , c.cust_type_cd\n",
    "        FROM\n",
    "            customer c INNER JOIN individual i ON c.cust_id = i.cust_id\n",
    "        WHERE (\n",
    "            c.cust_type_cd = 'I'\n",
    "            AND\n",
    "            LOWER(i.lname) LIKE '_a%e%'\n",
    "        )\n",
    "        ;\n",
    "        \"\"\",\n",
    "        con=session.connection()\n",
    "    )\n",
    "\n",
    "    statement = (\n",
    "        select(\n",
    "            Customer.cust_id,\n",
    "            Individual.fname,\n",
    "            Individual.lname,\n",
    "            Customer.cust_type_cd\n",
    "        )\n",
    "        .select_from(Customer)\n",
    "        .join(Individual, Customer.cust_id == Individual.cust_id)\n",
    "        .where(\n",
    "            and_(\n",
    "                Customer.cust_type_cd == CustomerTypeEnum.I,\n",
    "                func.lower(Individual.lname).like(\"_a%e%\")\n",
    "            )\n",
    "        )\n",
    "    )\n",
    "    print_sql_statement(statement)\n",
    "    results = session.execute(statement).all()\n",
    "\n",
    "print(df)\n",
    "print(results)\n"
   ],
   "metadata": {
    "collapsed": false,
    "ExecuteTime": {
     "start_time": "2023-05-22T20:57:12.039998Z",
     "end_time": "2023-05-22T20:57:12.208034Z"
    }
   }
  },
  {
   "cell_type": "code",
   "execution_count": null,
   "outputs": [],
   "source": [],
   "metadata": {
    "collapsed": false
   }
  }
 ],
 "metadata": {
  "kernelspec": {
   "display_name": "Python 3",
   "language": "python",
   "name": "python3"
  },
  "language_info": {
   "codemirror_mode": {
    "name": "ipython",
    "version": 2
   },
   "file_extension": ".py",
   "mimetype": "text/x-python",
   "name": "python",
   "nbconvert_exporter": "python",
   "pygments_lexer": "ipython2",
   "version": "2.7.6"
  }
 },
 "nbformat": 4,
 "nbformat_minor": 0
}
