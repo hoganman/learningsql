{
 "cells": [
  {
   "cell_type": "markdown",
   "metadata": {},
   "source": [
    "# Chapter 11: Conditional Logic\n",
    "\n",
    "There are use-cases where conditionals are requirement like an if-else.\n"
   ]
  },
  {
   "cell_type": "code",
   "execution_count": 1,
   "metadata": {
    "ExecuteTime": {
     "end_time": "2023-06-05T19:06:20.714955Z",
     "start_time": "2023-06-05T19:06:18.485518Z"
    }
   },
   "outputs": [],
   "source": [
    "import os\n",
    "\n",
    "from dotenv import load_dotenv\n",
    "from sqlalchemy import create_engine, URL\n",
    "from sqlalchemy.orm import Session\n",
    "import pandas as pd\n",
    "\n",
    "\n",
    "load_dotenv()\n",
    "\n",
    "url_object = URL.create(\n",
    "    os.environ[\"DB_ENGINE\"],\n",
    "    username=os.environ[\"DB_USER\"],\n",
    "    password=os.environ[\"DB_PASSWD\"],\n",
    "    host=os.environ[\"DB_HOST\"],\n",
    "    database=os.environ[\"DB_NAME\"],\n",
    ")\n",
    "\n",
    "engine = create_engine(url_object)"
   ]
  },
  {
   "cell_type": "markdown",
   "metadata": {},
   "source": [
    "# Case Expressions\n",
    "\n",
    "Instead of using joins, list of customer names whether it is an individual or a business\n"
   ]
  },
  {
   "cell_type": "code",
   "execution_count": 2,
   "metadata": {
    "ExecuteTime": {
     "end_time": "2023-06-05T19:13:16.829501Z",
     "start_time": "2023-06-05T19:13:16.673502Z"
    }
   },
   "outputs": [
    {
     "name": "stdout",
     "output_type": "stream",
     "text": [
      "    cust_id       fed_id                      name\n",
      "0         1  111-11-1111            i-James Hadley\n",
      "1         2  222-22-2222           i-Susan Tingley\n",
      "2         3  333-33-3333            i-Frank Tucker\n",
      "3         4  444-44-4444            i-John Hayward\n",
      "4         5  555-55-5555         i-Charles Frasier\n",
      "5         6  666-66-6666            i-John Spencer\n",
      "6         7  777-77-7777          i-Margaret Young\n",
      "7         8  888-88-8888             i-Louis Blake\n",
      "8         9  999-99-9999          i-Richard Farley\n",
      "9        10   04-1111111     b-Chilton Engineering\n",
      "10       11   04-2222222  b-Northeast Cooling Inc.\n",
      "11       12   04-3333333      b-Superior Auto Body\n",
      "12       13   04-4444444      b-AAA Insurance Inc.\n"
     ]
    }
   ],
   "source": [
    "with Session(engine) as session:\n",
    "\n",
    "    df = pd.read_sql_query(\n",
    "        \"\"\"\n",
    "        SELECT\n",
    "            c.cust_id\n",
    "            , c.fed_id\n",
    "            , (CASE c.cust_type_cd\n",
    "                WHEN 'I' THEN (\n",
    "                    SELECT\n",
    "                        CONCAT('i-', i.fname, ' ', i.lname)\n",
    "                    FROM individual i\n",
    "                    WHERE c.cust_id = i.cust_id\n",
    "                )\n",
    "                WHEN 'B' THEN (\n",
    "                    SELECT\n",
    "                        CONCAT('b-', b.name)\n",
    "                    FROM business b\n",
    "                    WHERE b.cust_id = c.cust_id\n",
    "                )\n",
    "                ELSE 'UNKNOWN'\n",
    "                END) name\n",
    "        FROM\n",
    "            customer c\n",
    "        ;\n",
    "        \"\"\",\n",
    "        con=session.connection()\n",
    "    )\n",
    "\n",
    "print(df)"
   ]
  },
  {
   "cell_type": "markdown",
   "metadata": {},
   "source": [
    "# Selective Aggregation\n",
    "\n",
    "Find all account whose account balances don't agree with the raw transaction data."
   ]
  },
  {
   "cell_type": "code",
   "execution_count": 9,
   "metadata": {},
   "outputs": [
    {
     "name": "stdout",
     "output_type": "stream",
     "text": [
      "                                         alert\n",
      "0    ALERT! : Account #1 has incorrect balance\n",
      "1    ALERT! : Account #2 has incorrect balance\n",
      "2    ALERT! : Account #3 has incorrect balance\n",
      "3    ALERT! : Account #4 has incorrect balance\n",
      "4    ALERT! : Account #5 has incorrect balance\n",
      "5    ALERT! : Account #7 has incorrect balance\n",
      "6    ALERT! : Account #8 has incorrect balance\n",
      "7   ALERT! : Account #10 has incorrect balance\n",
      "8   ALERT! : Account #11 has incorrect balance\n",
      "9   ALERT! : Account #12 has incorrect balance\n",
      "10  ALERT! : Account #13 has incorrect balance\n",
      "11  ALERT! : Account #14 has incorrect balance\n",
      "12  ALERT! : Account #15 has incorrect balance\n",
      "13  ALERT! : Account #17 has incorrect balance\n",
      "14  ALERT! : Account #18 has incorrect balance\n",
      "15  ALERT! : Account #19 has incorrect balance\n",
      "16  ALERT! : Account #21 has incorrect balance\n",
      "17  ALERT! : Account #22 has incorrect balance\n",
      "18  ALERT! : Account #23 has incorrect balance\n",
      "19  ALERT! : Account #24 has incorrect balance\n",
      "20  ALERT! : Account #28 has incorrect balance\n"
     ]
    }
   ],
   "source": [
    "with Session(engine) as session:\n",
    "\n",
    "    df = pd.read_sql_query(\n",
    "        \"\"\"\n",
    "        SELECT\n",
    "            CONCAT('ALERT! : Account #' , a.account_id, ' has incorrect balance') alert\n",
    "        FROM\n",
    "            account a\n",
    "        WHERE (a.avail_balance, a.pending_balance) <> \n",
    "            (SELECT\n",
    "                SUM(\n",
    "                    CASE\n",
    "                        WHEN t.funds_avail_date > CURRENT_TIMESTAMP()\n",
    "                            THEN 0\n",
    "                        WHEN t.txn_type_cd = 'DBT'\n",
    "                            THEN -1 * t.amount\n",
    "                        ELSE\n",
    "                            t.amount\n",
    "                    END\n",
    "                ) avail\n",
    "                , SUM(\n",
    "                    IF(t.txn_type_cd = 'DBT', -1 * t.amount, t.amount)\n",
    "                ) pend\n",
    "            FROM transaction t\n",
    "            WHERE t.account_id = a.account_id\n",
    "        );\n",
    "        \"\"\",\n",
    "        con=session.connection()\n",
    "    )\n",
    "\n",
    "print(df)"
   ]
  },
  {
   "cell_type": "code",
   "execution_count": null,
   "metadata": {},
   "outputs": [],
   "source": []
  }
 ],
 "metadata": {
  "kernelspec": {
   "display_name": "Python 3 (ipykernel)",
   "language": "python",
   "name": "python3"
  },
  "language_info": {
   "codemirror_mode": {
    "name": "ipython",
    "version": 3
   },
   "file_extension": ".py",
   "mimetype": "text/x-python",
   "name": "python",
   "nbconvert_exporter": "python",
   "pygments_lexer": "ipython3",
   "version": "3.11.0"
  }
 },
 "nbformat": 4,
 "nbformat_minor": 1
}
