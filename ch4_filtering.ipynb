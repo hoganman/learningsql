{
 "cells": [
  {
   "cell_type": "markdown",
   "source": [
    "# Chapter 4: Filtering\n",
    "\n",
    "The ability and possibilities of filtering is quite flexible in SQL. Let's take a look"
   ],
   "metadata": {
    "collapsed": false
   }
  },
  {
   "cell_type": "code",
   "execution_count": 1,
   "outputs": [],
   "source": [
    "import os\n",
    "\n",
    "from dotenv import load_dotenv\n",
    "from sqlalchemy import create_engine, URL, select, func\n",
    "from sqlalchemy.orm import Session\n",
    "import pandas as pd\n",
    "\n",
    "from model import Customer, Employee, Department, Branch, Account\n",
    "from utils import print_sql_statement\n",
    "\n",
    "\n",
    "load_dotenv()\n",
    "\n",
    "url_object = URL.create(\n",
    "    os.environ[\"DB_ENGINE\"],\n",
    "    username=os.environ[\"DB_USER\"],\n",
    "    password=os.environ[\"DB_PASSWD\"],\n",
    "    host=os.environ[\"DB_HOST\"],\n",
    "    database=os.environ[\"DB_NAME\"],\n",
    ")\n",
    "\n",
    "engine = create_engine(url_object)"
   ],
   "metadata": {
    "collapsed": false,
    "ExecuteTime": {
     "start_time": "2023-05-22T14:18:01.422712Z",
     "end_time": "2023-05-22T14:18:03.932277Z"
    }
   }
  },
  {
   "cell_type": "markdown",
   "source": [
    "# Range (Equality and Inequality)\n",
    "\n",
    "The '=' and '!=' operator in a WHERE expression compares variables for equality and inequality, respectively. The operator 'BETWEEN' can express both succinctly\n"
   ],
   "metadata": {
    "collapsed": false
   }
  },
  {
   "cell_type": "markdown",
   "source": [
    "Find all the employees with start date between 2001 and 2003"
   ],
   "metadata": {
    "collapsed": false
   }
  },
  {
   "cell_type": "code",
   "execution_count": 5,
   "outputs": [
    {
     "name": "stdout",
     "output_type": "stream",
     "text": [
      "\"\"\"SELECT employee.emp_id, employee.start_date \n",
      "FROM employee \n",
      "WHERE employee.start_date BETWEEN :start_date_1 AND :start_date_2\"\"\"\n",
      "   emp_id  start_date\n",
      "0       1  2001-06-22\n",
      "1       2  2002-09-12\n",
      "2       4  2002-04-24\n",
      "3       8  2002-12-02\n",
      "4       9  2002-05-03\n",
      "5      10  2002-07-27\n",
      "6      14  2002-08-09\n",
      "7      16  2001-03-15\n",
      "8      17  2002-06-29\n",
      "9      18  2002-12-12\n",
      "[(1, datetime.date(2001, 6, 22)), (2, datetime.date(2002, 9, 12)), (4, datetime.date(2002, 4, 24)), (8, datetime.date(2002, 12, 2)), (9, datetime.date(2002, 5, 3)), (10, datetime.date(2002, 7, 27)), (14, datetime.date(2002, 8, 9)), (16, datetime.date(2001, 3, 15)), (17, datetime.date(2002, 6, 29)), (18, datetime.date(2002, 12, 12))]\n"
     ]
    }
   ],
   "source": [
    "from datetime import date\n",
    "\n",
    "\n",
    "with Session(engine) as session:\n",
    "    df = pd.read_sql_query(\n",
    "        \"\"\"\n",
    "        SELECT\n",
    "            e.emp_id\n",
    "            , e.start_date\n",
    "        FROM\n",
    "            employee e\n",
    "        WHERE\n",
    "            e.start_date BETWEEN '2001-01-01' AND '2003-01-01'\n",
    "        \"\"\",\n",
    "        con=session.connection()\n",
    "    )\n",
    "\n",
    "    statement = (\n",
    "        select(\n",
    "            Employee.emp_id,\n",
    "            Employee.start_date\n",
    "        )\n",
    "        .select_from(Employee)\n",
    "        .where(\n",
    "            Employee.start_date.between(date(2001, 1, 1), date(2003, 1, 1))\n",
    "        )\n",
    "    )\n",
    "    print_sql_statement(statement)\n",
    "    results = session.execute(statement).all()\n",
    "\n",
    "print(df)\n",
    "print(results)"
   ],
   "metadata": {
    "collapsed": false,
    "ExecuteTime": {
     "start_time": "2023-05-22T14:24:22.630318Z",
     "end_time": "2023-05-22T14:24:22.695500Z"
    }
   }
  },
  {
   "cell_type": "markdown",
   "source": [
    "'BETWEEN' also works with numerics and strings too\n",
    "\n",
    "Find all accounts where the available balance is between 3,000 and 5,000 and the federal ID of the customer is between '500-00-0000' and '999-99-9999'"
   ],
   "metadata": {
    "collapsed": false
   }
  },
  {
   "cell_type": "code",
   "execution_count": 7,
   "outputs": [
    {
     "name": "stdout",
     "output_type": "stream",
     "text": [
      "\"\"\"SELECT account.cust_id, account.avail_balance, customer.fed_id \n",
      "FROM account JOIN customer ON account.cust_id = customer.cust_id \n",
      "WHERE account.avail_balance BETWEEN :avail_balance_1 AND :avail_balance_2 AND customer.fed_id BETWEEN :fed_id_1 AND :fed_id_2\"\"\"\n",
      "   cust_id  avail_balance       fed_id\n",
      "0        7        5000.00  777-77-7777\n",
      "1        8        3487.19  888-88-8888\n",
      "[(7, 5000.0, '777-77-7777'), (8, 3487.19, '888-88-8888')]\n"
     ]
    }
   ],
   "source": [
    "from sqlalchemy import and_\n",
    "\n",
    "\n",
    "with Session(engine) as session:\n",
    "    df = pd.read_sql_query(\n",
    "        \"\"\"\n",
    "        SELECT\n",
    "            a.cust_id\n",
    "            , a.avail_balance\n",
    "            , c.fed_id\n",
    "        FROM\n",
    "            account a JOIN customer c ON a.cust_id = c.cust_id\n",
    "        WHERE (\n",
    "            (a.avail_balance BETWEEN 3000 AND 5000)\n",
    "            AND\n",
    "            (c.fed_id BETWEEN '500-00-0000' AND '999-99-9999')\n",
    "        );\n",
    "        \"\"\",\n",
    "        con=session.connection()\n",
    "    )\n",
    "\n",
    "    statement = (\n",
    "        select(\n",
    "            Account.cust_id,\n",
    "            Account.avail_balance,\n",
    "            Customer.fed_id\n",
    "        )\n",
    "        .select_from(Account)\n",
    "        .join(Customer, Account.cust_id == Customer.cust_id)\n",
    "        .where(\n",
    "            and_(\n",
    "                Account.avail_balance.between(3000, 5000),\n",
    "                Customer.fed_id.between(\"500-00-0000\", \"999-99-9999\")\n",
    "            )\n",
    "        )\n",
    "    )\n",
    "    print_sql_statement(statement)\n",
    "    results = session.execute(statement).all()\n",
    "\n",
    "print(df)\n",
    "print(results)"
   ],
   "metadata": {
    "collapsed": false,
    "ExecuteTime": {
     "start_time": "2023-05-22T14:34:58.634726Z",
     "end_time": "2023-05-22T14:34:58.899352Z"
    }
   }
  },
  {
   "cell_type": "markdown",
   "source": [
    "# Membership\n",
    "\n",
    "When filtering against multiple criteria for the same variable, the 'IN' operator is useful\n",
    "\n",
    "Find all products that are not business 'BUS' and small business loan 'SBL'"
   ],
   "metadata": {
    "collapsed": false
   }
  },
  {
   "cell_type": "code",
   "execution_count": 34,
   "outputs": [
    {
     "name": "stdout",
     "output_type": "stream",
     "text": [
      "\"\"\"SELECT account.account_id, account.product_cd, account.cust_id, account.avail_balance \n",
      "FROM account \n",
      "WHERE (upper(account.product_cd) NOT IN (__[POSTCOMPILE_upper_1])) ORDER BY account.account_id ASC, account.cust_id ASC\"\"\"\n",
      "    account_id product_cd  cust_id  avail_balance\n",
      "0            1        CHK        1        1057.75\n",
      "1            2        SAV        1         500.00\n",
      "2            3         CD        1        3000.00\n",
      "3            4        CHK        2        2258.02\n",
      "4            5        SAV        2         200.00\n",
      "5            7        CHK        3        1057.75\n",
      "6            8         MM        3        2212.50\n",
      "7           10        CHK        4         534.12\n",
      "8           11        SAV        4         767.77\n",
      "9           12         MM        4        5487.09\n",
      "10          13        CHK        5        2237.97\n",
      "11          14        CHK        6         122.37\n",
      "12          15         CD        6       10000.00\n",
      "13          17         CD        7        5000.00\n",
      "14          18        CHK        8        3487.19\n",
      "15          19        SAV        8         387.99\n",
      "16          21        CHK        9         125.67\n",
      "17          22         MM        9        9345.55\n",
      "18          23         CD        9        1500.00\n",
      "19          24        CHK       10       23575.12\n",
      "20          28        CHK       12       38552.05\n",
      "[(1, 'CHK', 1, 1057.75), (2, 'SAV', 1, 500.0), (3, 'CD', 1, 3000.0), (4, 'CHK', 2, 2258.02), (5, 'SAV', 2, 200.0), (7, 'CHK', 3, 1057.75), (8, 'MM', 3, 2212.5), (10, 'CHK', 4, 534.12), (11, 'SAV', 4, 767.77), (12, 'MM', 4, 5487.09), (13, 'CHK', 5, 2237.97), (14, 'CHK', 6, 122.37), (15, 'CD', 6, 10000.0), (17, 'CD', 7, 5000.0), (18, 'CHK', 8, 3487.19), (19, 'SAV', 8, 387.99), (21, 'CHK', 9, 125.67), (22, 'MM', 9, 9345.55), (23, 'CD', 9, 1500.0), (24, 'CHK', 10, 23575.12), (28, 'CHK', 12, 38552.05)]\n"
     ]
    }
   ],
   "source": [
    "\n",
    "with Session(engine) as session:\n",
    "\n",
    "    df = pd.read_sql_query(\n",
    "        \"\"\"\n",
    "        SELECT\n",
    "            a.account_id\n",
    "            , a.product_cd\n",
    "            , a.cust_id\n",
    "            , a.avail_balance\n",
    "        FROM\n",
    "            account a\n",
    "        WHERE\n",
    "            UPPER(a.product_cd) NOT IN ('BUS', 'SBL')\n",
    "        ORDER BY a.account_id ASC, a.cust_id ASC\n",
    "        \"\"\",\n",
    "        con=session.connection()\n",
    "    )\n",
    "\n",
    "    statement = (\n",
    "        select(\n",
    "            Account.account_id,\n",
    "            Account.product_cd,\n",
    "            Account.cust_id,\n",
    "            Account.avail_balance\n",
    "        )\n",
    "        .select_from(Account)\n",
    "        .where(\n",
    "            func.upper(Account.product_cd).not_in(\n",
    "                (\"BUS\", \"SBL\")\n",
    "            )\n",
    "        )\n",
    "        .order_by(Account.account_id.asc(), Account.cust_id.asc())\n",
    "    )\n",
    "    print_sql_statement(statement)\n",
    "    results = session.execute(statement).all()\n",
    "\n",
    "print(df)\n",
    "print(results)"
   ],
   "metadata": {
    "collapsed": false,
    "ExecuteTime": {
     "start_time": "2023-05-22T17:20:39.451142Z",
     "end_time": "2023-05-22T17:20:39.512131Z"
    }
   }
  },
  {
   "cell_type": "markdown",
   "source": [
    "# Filtering with Subqueries\n",
    "\n",
    "Find all the same accounts knowing that all product type codes are 'ACCOUNT'"
   ],
   "metadata": {
    "collapsed": false
   }
  },
  {
   "cell_type": "code",
   "execution_count": 35,
   "outputs": [
    {
     "name": "stdout",
     "output_type": "stream",
     "text": [
      "\"\"\"SELECT account.account_id, account.product_cd, account.cust_id, account.avail_balance \n",
      "FROM account \n",
      "WHERE account.product_cd IN (SELECT product.product_cd \n",
      "FROM product \n",
      "WHERE product.product_type_cd = :product_type_cd_1) ORDER BY account.account_id ASC, account.cust_id ASC\"\"\"\n",
      "    account_id product_cd  cust_id  avail_balance\n",
      "0            1        CHK        1        1057.75\n",
      "1            2        SAV        1         500.00\n",
      "2            3         CD        1        3000.00\n",
      "3            4        CHK        2        2258.02\n",
      "4            5        SAV        2         200.00\n",
      "5            7        CHK        3        1057.75\n",
      "6            8         MM        3        2212.50\n",
      "7           10        CHK        4         534.12\n",
      "8           11        SAV        4         767.77\n",
      "9           12         MM        4        5487.09\n",
      "10          13        CHK        5        2237.97\n",
      "11          14        CHK        6         122.37\n",
      "12          15         CD        6       10000.00\n",
      "13          17         CD        7        5000.00\n",
      "14          18        CHK        8        3487.19\n",
      "15          19        SAV        8         387.99\n",
      "16          21        CHK        9         125.67\n",
      "17          22         MM        9        9345.55\n",
      "18          23         CD        9        1500.00\n",
      "19          24        CHK       10       23575.12\n",
      "20          28        CHK       12       38552.05\n",
      "[(1, 'CHK', 1, 1057.75), (2, 'SAV', 1, 500.0), (3, 'CD', 1, 3000.0), (4, 'CHK', 2, 2258.02), (5, 'SAV', 2, 200.0), (7, 'CHK', 3, 1057.75), (8, 'MM', 3, 2212.5), (10, 'CHK', 4, 534.12), (11, 'SAV', 4, 767.77), (12, 'MM', 4, 5487.09), (13, 'CHK', 5, 2237.97), (14, 'CHK', 6, 122.37), (15, 'CD', 6, 10000.0), (17, 'CD', 7, 5000.0), (18, 'CHK', 8, 3487.19), (19, 'SAV', 8, 387.99), (21, 'CHK', 9, 125.67), (22, 'MM', 9, 9345.55), (23, 'CD', 9, 1500.0), (24, 'CHK', 10, 23575.12), (28, 'CHK', 12, 38552.05)]\n"
     ]
    }
   ],
   "source": [
    "from copy import deepcopy\n",
    "\n",
    "from model import Product\n",
    "\n",
    "\n",
    "old_results = deepcopy(results)\n",
    "\n",
    "with Session(engine) as session:\n",
    "\n",
    "    df = pd.read_sql_query(\n",
    "        \"\"\"\n",
    "        SELECT\n",
    "            a.account_id\n",
    "            , a.product_cd\n",
    "            , a.cust_id\n",
    "            , a.avail_balance\n",
    "        FROM\n",
    "            account a\n",
    "        WHERE a.product_cd IN (\n",
    "            SELECT\n",
    "                p.product_cd\n",
    "            FROM\n",
    "                product p\n",
    "            WHERE p.product_type_cd = 'ACCOUNT'\n",
    "        )\n",
    "        ORDER BY a.account_id ASC, a.cust_id ASC\n",
    "        ;\n",
    "        \"\"\",\n",
    "        con=session.connection()\n",
    "    )\n",
    "\n",
    "    statement = (\n",
    "        select(\n",
    "            Account.account_id,\n",
    "            Account.product_cd,\n",
    "            Account.cust_id,\n",
    "            Account.avail_balance\n",
    "        )\n",
    "        .select_from(Account)\n",
    "        .where(\n",
    "            Account.product_cd.in_(\n",
    "                select(Product.product_cd)\n",
    "                .select_from(Product)\n",
    "                .where(Product.product_type_cd == \"ACCOUNT\")\n",
    "            )\n",
    "        )\n",
    "        .order_by(Account.account_id.asc(), Account.cust_id.asc())\n",
    "    )\n",
    "    print_sql_statement(statement)\n",
    "    results = session.execute(statement).all()\n",
    "\n",
    "print(df)\n",
    "print(results)\n",
    "assert old_results == results"
   ],
   "metadata": {
    "collapsed": false,
    "ExecuteTime": {
     "start_time": "2023-05-22T17:20:40.821637Z",
     "end_time": "2023-05-22T17:20:40.902502Z"
    }
   }
  },
  {
   "cell_type": "code",
   "execution_count": null,
   "outputs": [],
   "source": [],
   "metadata": {
    "collapsed": false
   }
  }
 ],
 "metadata": {
  "kernelspec": {
   "display_name": "Python 3",
   "language": "python",
   "name": "python3"
  },
  "language_info": {
   "codemirror_mode": {
    "name": "ipython",
    "version": 2
   },
   "file_extension": ".py",
   "mimetype": "text/x-python",
   "name": "python",
   "nbconvert_exporter": "python",
   "pygments_lexer": "ipython2",
   "version": "2.7.6"
  }
 },
 "nbformat": 4,
 "nbformat_minor": 0
}
